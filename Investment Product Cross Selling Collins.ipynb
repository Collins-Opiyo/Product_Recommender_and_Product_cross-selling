{
 "cells": [
  {
   "cell_type": "markdown",
   "metadata": {},
   "source": [
    "# Product Cross Selling Recommender System\n",
    "\n",
    "**Business Problem Statement:**\n",
    "\n",
    "Our financial services company has a diverse portfolio of investment products, yet the vast majority (99%) of our existing customers hold only one product—the Money Market Fund. Despite a broad array of offerings (Balanced Fund, Dollar Fund, Equity Fund, Fixed Income Fund, and Wealth Fund), our product penetration per customer (PPC) remains exceptionally low. This indicates a significant opportunity to cross-sell additional products to our existing customer base, which would increase customer value, loyalty, and the company’s overall profitability.\n",
    "\n",
    "Currently, our customers’ data includes key information that could be leveraged to tailor product recommendations. These data points include:\n",
    "- **Location (town)**\n",
    "- **Gender**\n",
    "- **Customer-relationship or beneficiary information** (as customers may have more than one relationship or beneficiary associated with them)\n",
    "- **Customer age and DOB**\n",
    "- **Beneficiary age and DOB**\n",
    "\n",
    "Our goal is to create a user-friendly, intelligent recommender system that can analyze this existing data to suggest additional, relevant financial products to each customer. This system should be able to identify patterns or trends in customer profiles, uncover customer needs, and map those needs to suitable financial products, increasing our PPC in an efficient, cost-effective manner. \n",
    "\n",
    "**Objectives:**\n",
    "1. **Customer Retention and Loyalty**: By offering personalized recommendations, we aim to build deeper, more personalized relationships with our customers, making them more likely to stay with us long-term.\n",
    "2. **Increased Revenue per Customer**: A successful cross-selling strategy would increase the average number of products per customer, boosting overall portfolio revenue.\n",
    "3. **User-Friendly Experience**: Ensuring a straightforward, accessible interface for customers to explore new financial products, particularly given that our target customers may have limited experience with financial diversification.\n",
    "\n",
    "**Project Success Criteria:**\n",
    "1. Develop a model that accurately predicts the next likely product(s) for each customer based on their profile and behavior.\n",
    "2. Achieve a measurable increase in the PPC rate by the end of the initial deployment phase.\n",
    "3. Design an intuitive interface that enhances the customer journey, with minimal friction, to encourage engagement and adoption."
   ]
  },
  {
   "cell_type": "markdown",
   "metadata": {},
   "source": [
    "## DATA CLEANING AND PREPARATION"
   ]
  },
  {
   "cell_type": "code",
   "execution_count": 1,
   "metadata": {},
   "outputs": [],
   "source": [
    "#importing the necessary libraries\n",
    "import zipfile\n",
    "import pandas as pd\n",
    "import numpy as np\n",
    "import matplotlib.pyplot as plt\n",
    "import seaborn as sns\n",
    "import nbformat\n",
    "import pickle\n",
    "\n",
    "from sklearn.metrics.pairwise import cosine_similarity\n",
    "from scipy.spatial.distance import cosine\n",
    "from sklearn.feature_extraction.text import TfidfVectorizer\n",
    "from sklearn.model_selection import train_test_split\n",
    "from datetime import datetime\n",
    "from sklearn.neighbors import NearestNeighbors\n",
    "from sklearn.metrics import accuracy_score\n"
   ]
  },
  {
   "cell_type": "code",
   "execution_count": 2,
   "metadata": {},
   "outputs": [],
   "source": [
    "# # Extract the CSV file from the zip file\n",
    "# with zipfile.ZipFile(\"single_member.zip\", 'r') as zip_ref:\n",
    "#     zip_ref.extractall()  # This will extract to the current directory"
   ]
  },
  {
   "cell_type": "code",
   "execution_count": 3,
   "metadata": {},
   "outputs": [
    {
     "data": {
      "text/html": [
       "<div>\n",
       "<style scoped>\n",
       "    .dataframe tbody tr th:only-of-type {\n",
       "        vertical-align: middle;\n",
       "    }\n",
       "\n",
       "    .dataframe tbody tr th {\n",
       "        vertical-align: top;\n",
       "    }\n",
       "\n",
       "    .dataframe thead th {\n",
       "        text-align: right;\n",
       "    }\n",
       "</style>\n",
       "<table border=\"1\" class=\"dataframe\">\n",
       "  <thead>\n",
       "    <tr style=\"text-align: right;\">\n",
       "      <th></th>\n",
       "      <th>member_no</th>\n",
       "      <th>reg_date</th>\n",
       "      <th>dob</th>\n",
       "      <th>hse_no</th>\n",
       "      <th>gender</th>\n",
       "      <th>town</th>\n",
       "      <th>relationship</th>\n",
       "      <th>beneficiery_dob</th>\n",
       "      <th>portfolio</th>\n",
       "    </tr>\n",
       "  </thead>\n",
       "  <tbody>\n",
       "    <tr>\n",
       "      <th>0</th>\n",
       "      <td>99996</td>\n",
       "      <td>2023-10-01 00:00:00.000</td>\n",
       "      <td>1998-04-06 00:00:00</td>\n",
       "      <td>Single Member</td>\n",
       "      <td>Female</td>\n",
       "      <td>NAIROBI</td>\n",
       "      <td>Partner</td>\n",
       "      <td>1998-01-26</td>\n",
       "      <td>Money Market</td>\n",
       "    </tr>\n",
       "    <tr>\n",
       "      <th>1</th>\n",
       "      <td>99996</td>\n",
       "      <td>2023-10-01 00:00:00.000</td>\n",
       "      <td>1998-04-06 00:00:00</td>\n",
       "      <td>Single Member</td>\n",
       "      <td>Female</td>\n",
       "      <td>NAIROBI</td>\n",
       "      <td>Partner</td>\n",
       "      <td>1998-01-26</td>\n",
       "      <td>Money Market</td>\n",
       "    </tr>\n",
       "    <tr>\n",
       "      <th>2</th>\n",
       "      <td>99996</td>\n",
       "      <td>2023-10-01 00:00:00.000</td>\n",
       "      <td>1998-04-06 00:00:00</td>\n",
       "      <td>Single Member</td>\n",
       "      <td>Female</td>\n",
       "      <td>NAIROBI</td>\n",
       "      <td>Partner</td>\n",
       "      <td>1998-01-26</td>\n",
       "      <td>Money Market</td>\n",
       "    </tr>\n",
       "    <tr>\n",
       "      <th>3</th>\n",
       "      <td>99996</td>\n",
       "      <td>2023-10-01 00:00:00.000</td>\n",
       "      <td>1998-04-06 00:00:00</td>\n",
       "      <td>Single Member</td>\n",
       "      <td>Female</td>\n",
       "      <td>NAIROBI</td>\n",
       "      <td>Partner</td>\n",
       "      <td>1998-01-26</td>\n",
       "      <td>Money Market</td>\n",
       "    </tr>\n",
       "    <tr>\n",
       "      <th>4</th>\n",
       "      <td>99996</td>\n",
       "      <td>2023-10-01 00:00:00.000</td>\n",
       "      <td>1998-04-06 00:00:00</td>\n",
       "      <td>Single Member</td>\n",
       "      <td>Female</td>\n",
       "      <td>NAIROBI</td>\n",
       "      <td>Partner</td>\n",
       "      <td>1998-01-26</td>\n",
       "      <td>Money Market</td>\n",
       "    </tr>\n",
       "    <tr>\n",
       "      <th>...</th>\n",
       "      <td>...</td>\n",
       "      <td>...</td>\n",
       "      <td>...</td>\n",
       "      <td>...</td>\n",
       "      <td>...</td>\n",
       "      <td>...</td>\n",
       "      <td>...</td>\n",
       "      <td>...</td>\n",
       "      <td>...</td>\n",
       "    </tr>\n",
       "    <tr>\n",
       "      <th>7532949</th>\n",
       "      <td>2</td>\n",
       "      <td>2011-06-07</td>\n",
       "      <td>1965-05-06</td>\n",
       "      <td>Single Member</td>\n",
       "      <td>Male</td>\n",
       "      <td>NAIROBI</td>\n",
       "      <td>NaN</td>\n",
       "      <td>NaN</td>\n",
       "      <td>Money Market</td>\n",
       "    </tr>\n",
       "    <tr>\n",
       "      <th>7532950</th>\n",
       "      <td>2</td>\n",
       "      <td>2011-06-07</td>\n",
       "      <td>1965-05-06</td>\n",
       "      <td>Single Member</td>\n",
       "      <td>Male</td>\n",
       "      <td>NAIROBI</td>\n",
       "      <td>NaN</td>\n",
       "      <td>NaN</td>\n",
       "      <td>Money Market</td>\n",
       "    </tr>\n",
       "    <tr>\n",
       "      <th>7532951</th>\n",
       "      <td>2</td>\n",
       "      <td>2011-06-07</td>\n",
       "      <td>1965-05-06</td>\n",
       "      <td>Single Member</td>\n",
       "      <td>Male</td>\n",
       "      <td>NAIROBI</td>\n",
       "      <td>NaN</td>\n",
       "      <td>NaN</td>\n",
       "      <td>Money Market</td>\n",
       "    </tr>\n",
       "    <tr>\n",
       "      <th>7532952</th>\n",
       "      <td>2</td>\n",
       "      <td>2011-06-07</td>\n",
       "      <td>1965-05-06</td>\n",
       "      <td>Single Member</td>\n",
       "      <td>Male</td>\n",
       "      <td>NAIROBI</td>\n",
       "      <td>NaN</td>\n",
       "      <td>NaN</td>\n",
       "      <td>Balanced Fund</td>\n",
       "    </tr>\n",
       "    <tr>\n",
       "      <th>7532953</th>\n",
       "      <td>2</td>\n",
       "      <td>2011-06-07</td>\n",
       "      <td>1965-05-06</td>\n",
       "      <td>Single Member</td>\n",
       "      <td>Male</td>\n",
       "      <td>NAIROBI</td>\n",
       "      <td>NaN</td>\n",
       "      <td>NaN</td>\n",
       "      <td>Money Market</td>\n",
       "    </tr>\n",
       "  </tbody>\n",
       "</table>\n",
       "<p>7532954 rows × 9 columns</p>\n",
       "</div>"
      ],
      "text/plain": [
       "         member_no                 reg_date                  dob  \\\n",
       "0            99996  2023-10-01 00:00:00.000  1998-04-06 00:00:00   \n",
       "1            99996  2023-10-01 00:00:00.000  1998-04-06 00:00:00   \n",
       "2            99996  2023-10-01 00:00:00.000  1998-04-06 00:00:00   \n",
       "3            99996  2023-10-01 00:00:00.000  1998-04-06 00:00:00   \n",
       "4            99996  2023-10-01 00:00:00.000  1998-04-06 00:00:00   \n",
       "...            ...                      ...                  ...   \n",
       "7532949          2               2011-06-07           1965-05-06   \n",
       "7532950          2               2011-06-07           1965-05-06   \n",
       "7532951          2               2011-06-07           1965-05-06   \n",
       "7532952          2               2011-06-07           1965-05-06   \n",
       "7532953          2               2011-06-07           1965-05-06   \n",
       "\n",
       "                hse_no  gender     town relationship beneficiery_dob  \\\n",
       "0        Single Member  Female  NAIROBI      Partner      1998-01-26   \n",
       "1        Single Member  Female  NAIROBI      Partner      1998-01-26   \n",
       "2        Single Member  Female  NAIROBI      Partner      1998-01-26   \n",
       "3        Single Member  Female  NAIROBI      Partner      1998-01-26   \n",
       "4        Single Member  Female  NAIROBI      Partner      1998-01-26   \n",
       "...                ...     ...      ...          ...             ...   \n",
       "7532949  Single Member    Male  NAIROBI          NaN             NaN   \n",
       "7532950  Single Member    Male  NAIROBI          NaN             NaN   \n",
       "7532951  Single Member    Male  NAIROBI          NaN             NaN   \n",
       "7532952  Single Member    Male  NAIROBI          NaN             NaN   \n",
       "7532953  Single Member    Male  NAIROBI          NaN             NaN   \n",
       "\n",
       "             portfolio  \n",
       "0         Money Market  \n",
       "1         Money Market  \n",
       "2         Money Market  \n",
       "3         Money Market  \n",
       "4         Money Market  \n",
       "...                ...  \n",
       "7532949   Money Market  \n",
       "7532950   Money Market  \n",
       "7532951   Money Market  \n",
       "7532952  Balanced Fund  \n",
       "7532953   Money Market  \n",
       "\n",
       "[7532954 rows x 9 columns]"
      ]
     },
     "execution_count": 3,
     "metadata": {},
     "output_type": "execute_result"
    }
   ],
   "source": [
    "#load the dataset\n",
    "df = pd.read_csv(\"single_member.csv\")\n",
    "df"
   ]
  },
  {
   "cell_type": "code",
   "execution_count": 4,
   "metadata": {},
   "outputs": [
    {
     "data": {
      "text/plain": [
       "Index(['member_no', 'reg_date', 'dob', 'hse_no', 'gender', 'town',\n",
       "       'relationship', 'beneficiery_dob', 'portfolio'],\n",
       "      dtype='object')"
      ]
     },
     "execution_count": 4,
     "metadata": {},
     "output_type": "execute_result"
    }
   ],
   "source": [
    "#inspecting the columns in the dataframe\n",
    "df.columns"
   ]
  },
  {
   "cell_type": "code",
   "execution_count": 5,
   "metadata": {},
   "outputs": [
    {
     "data": {
      "text/plain": [
       "array([99996, 99994, 99993, ...,    19,     3,     2], dtype=int64)"
      ]
     },
     "execution_count": 5,
     "metadata": {},
     "output_type": "execute_result"
    }
   ],
   "source": [
    "#checking the unique values from the member_no column\n",
    "df['member_no'].unique()"
   ]
  },
  {
   "cell_type": "code",
   "execution_count": 6,
   "metadata": {},
   "outputs": [
    {
     "data": {
      "text/plain": [
       "array(['Female', 'Male', 'FEMALE', nan, 'MALE', 'F', 'M'], dtype=object)"
      ]
     },
     "execution_count": 6,
     "metadata": {},
     "output_type": "execute_result"
    }
   ],
   "source": [
    "#checking the unique values from the gender column\n",
    "df['gender'].unique()"
   ]
  },
  {
   "cell_type": "code",
   "execution_count": 7,
   "metadata": {},
   "outputs": [
    {
     "data": {
      "text/plain": [
       "array(['NAIROBI', nan, 'NAIROBI ', 'THIKA', 'NAKURU', 'MOMBASA ',\n",
       "       'NDANAI ', 'KISUMU', 'KIKUYU', 'JUJA', 'MACHAKOS', 'MERU',\n",
       "       'KERICHO', 'MUKURWEINI', 'KATANGI', 'THIKA,KIAMBU', 'NANYUKI',\n",
       "       'RUAI ', 'MALINDI', 'NYAHURURU', 'MUMIAS', 'KAKAMEGA', 'LODWAR',\n",
       "       'Nairobi ', 'KITENGELA', 'LIMURU', 'THIKA ', 'MIGORI', 'ELDORET',\n",
       "       'KITUI', 'RUARAKA', 'Ruiru', 'NJORO', 'EMBU', 'SORI', 'NGONG',\n",
       "       'MASENO', 'GATUNDU', 'KAHURO', 'KILIFI', 'RUIRU', 'KERUGOYA',\n",
       "       'KARATINA', 'KITALE ', 'MOMBASA', 'BUNGOMA', 'KISII', '-',\n",
       "       'Nairobi', 'KINAMBA', 'SIAYA', 'KERICHO ', 'KIAMBU', 'KITALE',\n",
       "       'BUSIA', 'RUNYENJES', 'VILLAGE MARKET', 'Kapsabet', 'KAGWE',\n",
       "       'NANDI HILLS', 'KUTUS', 'DAGORETTI', 'LITEIN', 'KAJIADO', 'CHUKA',\n",
       "       'NYERI', 'NAIROBI, NAIROBI', 'Kisumu ', 'KANJUKU', 'EMALI',\n",
       "       'GILGIL', 'Kiambu ', 'KANGEMA', 'TIRIKI', 'KARATINA ', 'OTHAYA',\n",
       "       'KARURI ,KIAMBU', 'MURANGA ', 'Mombasa', 'GATUKUYU ', 'MLOLONGO',\n",
       "       'UTAWALA ', 'KAPENGURIA', 'KAPSABET', 'SUNA', 'BOMET', 'KENOL ',\n",
       "       'NYERI ', 'BUNGOMA ', 'NDANAI', 'KALIMONI', 'KIGANJO',\n",
       "       'KAPSOKWONY', 'Nakuru', 'KIAMBU ', 'nairobi', 'CHOGORIA',\n",
       "       'GITHUNGURI', 'YOANI,SALAMA', 'LIMURU ', 'NAIROBI, KENYA.',\n",
       "       'UKUNDA', 'MATUU', 'embu', 'NYALI', 'nakuru', 'MBALE', 'EMUHAYA',\n",
       "       'TELFORD', 'NAIVASHA', 'KAREN', 'KILIFI ', 'HOLA', 'MAKINDU',\n",
       "       'WOTE', 'DIANI', 'O', 'OLKALAU', 'KAREN ', 'UPLANDS', 'WANGÚRU',\n",
       "       'KABIYET', 'KAKAMEGA ', 'SOTIK', 'NGONG ', 'CITY SQUARE', 'NKUBU',\n",
       "       'KANGARI', 'NGONG HILLS ', 'NYAHURURU ', 'KARURI ', 'UTHIRU',\n",
       "       'MARIMANTI', 'MANCHESTER', 'Kikuyu', '.', 'NAIRO ', 'kiambu',\n",
       "       'VOI', 'EMBAKASI', 'MOLO', 'Siaya ', 'NGIYA', 'OLKALOU',\n",
       "       'KANYAGIA', 'WANJOHI', 'kabete', 'Wamunyu', 'MARIAKANI',\n",
       "       'KISERIAN', 'ARTHI RIVER ', 'SUBUKIA', 'KILGORIS', 'KIMININI',\n",
       "       'LAGOS', 'SARE', 'ATHI RIVER', 'ngong hills ', 'WERUGHA',\n",
       "       'NAIROBIP', 'MASINFA', 'kikuyu', 'OL JORO OROK', 'MAUA',\n",
       "       'GIKUE MURANGA', 'KIMENDE', 'KIMILILI', 'KISUMU ', 'VIHIGA',\n",
       "       ' NAIROBI ', 'BURUBURU', 'MATATHIA', 'RUAKA', 'UGUNJA', 'LONGISA',\n",
       "       'ELDORATE ', 'KAPKATET', 'WINNIPEG', 'PIPELINE ', 'KAHAWA WEST ',\n",
       "       'KANDARA', 'Kimilili ', 'MTWAPA ', 'MARAGUA', 'BANANA ', 'NYAMIRA',\n",
       "       'AUBURN', 'KARURI', 'MTWAPA', 'ONGATA RONGAI', 'ELDORET ',\n",
       "       'HOMABAY', 'WANGIGE', 'KENDUBAY', 'KIBWEZI', 'RONGAI', 'RUIRU ',\n",
       "       'NORTH KINANGOP', 'MAKUYU', 'Nyeri ', 'Eldoret ', 'BOUTIGNY',\n",
       "       '00506', 'MWINGI', '00100', 'KERUGOYA ', 'TALA', 'OLENGURUONE',\n",
       "       'MAVINDINI', 'UHURU GARDENS', 'KIKUYU ', 'Ongata Rongai',\n",
       "       'SOUTH KINANGOP', 'ELDAMA RAVINE', 'MITUNGURU', 'TOM MBOYA',\n",
       "       'NAKURU ', 'MITABONI', 'NAROMORU', 'MURANGA', 'OLJOROROK',\n",
       "       'BUTERE', 'OYUGIS', 'SILIBWET', 'EMBU ', 'Doha', 'Eldoret',\n",
       "       'KANGEMI', 'NYERI-KIGUMO', 'KISERIAN ', 'Athi River', 'KENOL',\n",
       "       'OL KALOU', 'WESTLANDS', 'Nyahururu ', 'ENDARASHA ', 'GPO/NAIROBI',\n",
       "       'DAGORETI', 'OGEMBO ', 'mombasa', 'RUAI', 'DONYO SABUK', 'KEROKA',\n",
       "       'LOWER KABETE', 'MWEIGA', 'Naitobi', 'TOKYO', 'Embu', 'KIRINYAGA',\n",
       "       'KIANYAGA', 'SIAYA ', 'ADLISWIL', 'BURU BURU', 'MERU ', 'NYAKIO',\n",
       "       'KWALE', 'AMUKURA', 'NAROK', 'KOBUJOI', \"WANG'URU\", 'BONDO',\n",
       "       'Kericho', 'KIKIMA ', 'CHANGAMWE', 'BUTULA', 'NAIROBI KAYOLE',\n",
       "       'KANGUNDO', 'MARIAKANI ', 'TIMBOROA', 'KIANJAI', 'KALOLENI ',\n",
       "       'ISINYA', 'IOWA CITY, IOWA', 'Garsen ', 'MUKURWE-INI',\n",
       "       'NAIROBI GPO', 'MANYATTA', 'SARE-OWENDO', 'NANYUKI ', 'NDHIWA',\n",
       "       'ELBURGON', 'Orange', 'MAKUENI', 'kisumu ', 'MACHAKOS ',\n",
       "       'KABARNET ', \"Murang'a \", 'JUJA, KIAMBU', 'Bungoma', 'MAWEGO',\n",
       "       'Bath', 'ROYSAMBU', 'Nanyuki', 'SAGANA', 'MACH ', 'Nyeri', 'Ruaka',\n",
       "       'KITUI ', 'KAJIADO ', 'NUNGUNI', 'RONGAI ', 'KISII ', 'WANGIGE ',\n",
       "       'Makongeni Jogoo Rd', 'nairobi ', 'Kikuyu ', 'Kisii', 'MSAMBWENI',\n",
       "       'BUJUMBURA', 'GITHONGO', 'KEROKA/KISII', 'BURUBURU, NAIROBI',\n",
       "       'MALAVA', 'KIJABE', 'Woolwich ', 'NDERE-SIAYA', 'AHERO',\n",
       "       'MUHORONI ', 'Nakuru ', 'kahuro', 'Malakisi ', 'MUHORONI',\n",
       "       'ISIOLO', 'SYOKIMAU ', 'ONGATA RONGAI ', 'Maralal ',\n",
       "       'KIBIRICHIA, MERU', 'GRANGER, INDIANA', 'WESTLAND ', 'MUKURWEINI ',\n",
       "       'MASII', 'NRB', 'KWISERO', 'ANKARA', 'SHIMBA HILLS', 'TAVETA',\n",
       "       'WOTE, MAKUENI ', 'WANGURU', 'KISSII', 'BURUBURU NAIROBI ',\n",
       "       'KIRITIRI', 'MESA ARIZONA', 'KAJIADO TOWN', 'KURIA',\n",
       "       'NAIROBI WEST', 'ENDARASHA', 'KIPKAREN ', '0', 'GAMBOGI', 'KOLA',\n",
       "       'Marsabit', 'WEBUYE', 'GAKUNGU', 'NAIROBJ',\n",
       "       'NAIROBI ,KAMITI ROAD RICHLAND', 'NKUBU ', 'MWATATE', 'MALAKISI',\n",
       "       'ITEN', 'KATHIANI', \"MURANG'A\", 'KAIRIA', 'UPLANDS ', 'RONGO',\n",
       "       'UHURU GARDEN', 'KINANGOP', 'BAHATI NAKURU ', 'MATILIKU', 'meru',\n",
       "       'Limuru', 'MALAA', 'TURBO', 'MARIMA -MERU HIGHWAY ', 'OLJORO OROK',\n",
       "       'homabay ', 'KIKIMA', 'ADAMS ARCADE', 'MUNICH', 'MUMIAS ',\n",
       "       'KALIMONI ', 'CHWELE', 'MARALAL', 'NAMBALE', 'NAIROBI COUNTY',\n",
       "       'Narok ', 'TURBO ', 'KANGARI ', 'Pécs ', 'thika', 'KATSE',\n",
       "       'thika ', 'CHEBUNYO', 'OL JORO OROK ', 'MOBIL PLAZA', 'WAMUNYU ',\n",
       "       'MAGUNGA', 'RORET', 'YALA', 'KAHUHIA', \"KENOL MURANG'A\",\n",
       "       'Machakos', 'UKWALA', 'KALOLENI', 'JOONDALUP', 'MIGORI ',\n",
       "       'MARAGOLI', 'MARMANET', 'IKANGA', 'KINOO', 'OYUGIS ', 'LANGATA',\n",
       "       'Kiambu', 'Malindi', 'NAIROBI.', 'MAKUENI ', 'Bungoma ',\n",
       "       'GITHUNGURI ', 'MACHOKOS', 'KOMBEWA ', 'UTHIRU ', 'KITENGELA ',\n",
       "       'BANANA', 'CHEPKORIO', 'MASII ', 'Gitugi', '. ', 'RUIRY', 'Kisumu',\n",
       "       'MBUMBUNI-MACHAKOS', 'WAMUYU', 'siaya', 'Kakamega', 'TAITA TAVETA',\n",
       "       'Bumala', 'KIMENDE ', 'BRISTOL', 'MATUNDA', 'KARABA', 'SULTAN',\n",
       "       'GATURA', 'KASARANI ,NAIROBI ', 'NANDI', 'MAGUTUNI', 'CHUKA ',\n",
       "       'NGONG HILL', 'ngong', 'KIANGAI', 'MBITA', 'Mumias', 'KAMBITI',\n",
       "       'MUMBI', 'Juja', 'WODANGA', 'KIRIANI', 'KABARNET', 'MISIKHU',\n",
       "       'Thika', 'NYANSIONGO', 'nyeri ', 'NAIVASHA ', \"MURANG'A \",\n",
       "       'KAPCHENO', 'NGARA', 'MADARAKA', 'kitengela ', 'BONDO ', 'WAMUNYU',\n",
       "       'NYANDARUA', 'MOGOGOSIEK', '00', 'NAIROBI/JUJA', 'NA ', 'LUANDA',\n",
       "       'KLEMZIG', 'TEL AVIV', 'ongata rongai ', '30-60101 Manyatta ',\n",
       "       '12410 Nyeri', 'KATHONZWENI ', 'GITHURAI ', 'WESRN AUSTRALIA',\n",
       "       'SABASABA ', 'Gilgil ', 'ISEBANIA', 'KIRIAINI', 'MUTHETHENI ',\n",
       "       'Mombasa ', 'Kitengela', 'CARLIFONIA', 'NIL',\n",
       "       'NAIROBI, NAIROBI AREA, KENYA', 'SOY', 'Sabasaba', 'SABASABA',\n",
       "       'COLUMBIA', 'Homa Bay ', 'MARIMA', 'SEGA', 'KAYOLE', 'BUDD LAKE',\n",
       "       'KITHYOKO', 'KIJABE ', 'Mbale', 'KITHIMANI', 'HANOI', 'chuka',\n",
       "       'KILINDINI', 'MERY', 'CHELMSFORD', 'LOITOKITOK', 'MOSORIOT',\n",
       "       'IKONGE', 'ENGINEER', 'Othaya', 'Ahero', 'MWEA', 'JOSKA ',\n",
       "       'NGAMBWA', 'MASINGA', 'KINANGOP ', 'LONDON', 'KILELESHWA ',\n",
       "       'SARIT CENTRE', 'mgange ', 'ST. MARYS NSW', 'GESIMA', 'Migori ',\n",
       "       'KHWISERO', 'SYOKIMAU', 'MTITO ANDEI ', 'nakuru ', 'NAIROBI CITY',\n",
       "       'ATHIRIVER', 'KABATI', 'Kitale', 'MPEKETONI', 'YOANI',\n",
       "       'KABARTONJO', 'NAMANGA', 'CHESINENDE', 'BAHATI', 'NZEEKA',\n",
       "       'MATATHIA, KAMAE', 'RONALD NGALA ', 'KUBUKUBU', 'THOGOTO',\n",
       "       'GATORA', 'NAI ', 'KUJA,KIAMBU', 'Machakos ', 'AMAGORO', 'Uthiru',\n",
       "       'Naivasha', 'KEROKA ', 'MAZERAS', 'EGERTON', 'KASARANI', 'Kimende',\n",
       "       'WAJIR', 'DUBAI', 'TWO RIVERS', 'NDARAGWA ', 'EASTLEIGH', 'KAGIO',\n",
       "       'HOMA BAY', 'KISII, KENYA', 'Thika ', 'NGECHA', 'Kakamega ',\n",
       "       'KERINGET', 'FORT WAYNE', 'STAREHE', 'GILGIL ', 'KAWANGWARE',\n",
       "       'GPO NAIROBI', 'GITUGI', 'Tala', 'kakamega ', 'TEXAS', 'GACHIE',\n",
       "       'Syokimau', 'Sydney ', 'LESSOS', 'Meru ', 'KIPKAREN RIVER',\n",
       "       'SOSIOT', 'LAKEWOOD SEATTLE', 'Lodwar', 'Kitale ', 'Membley',\n",
       "       'chepkorio', 'Luanda', 'Kijabe ', 'TONGAREN', 'karuri ', 'malindi',\n",
       "       'Ogembo ', 'Maryland', 'Kisii Town ', 'kajiado ', 'LIKONI',\n",
       "       'wangige ', 'Ngong', 'OLKALOU ', '4597-20100 Nakuru', 'GARISSA',\n",
       "       'KIRIAINI ', 'SYOKIMAU L', 'Machakos, Kathiani', 'Kitui',\n",
       "       'AUSTRALIA', 'Bondo', 'Salama ', 'bomet ', 'Naivasha ',\n",
       "       'TOORMINA, NSW', 'Utawala', 'Ankara', 'MOISBRIDGE', 'nbo',\n",
       "       'Kijabe', 'KABAZI', 'P.O BOX 75-30105 SOY', 'kisumu', 'nyeri',\n",
       "       'Voi', 'Kanjuku', \"NG'IYA\", 'Muranga', 'Bournemouth ',\n",
       "       'SARE-AWENDO', 'narok', 'Ruiru ', 'Kilifi ', 'Meru',\n",
       "       'Ol-joro-orok', '152 30100 eldoret ', 'Mtwapa', 'Karuri',\n",
       "       'Kitengela ', 'Isiolo ', '38061-00623 Nairobi', 'Ngong Hills',\n",
       "       'RARIEDA', ' Nairobi County,', '187 Ngewa', 'NJAMBINI',\n",
       "       '25635 00603 Nairobi', 'GIKOE', 'kakamega', 'ISHIARA ',\n",
       "       'P. O. Box 111 Ruiru', 'Kibwezi', 'Syokimau ', 'kiambu ', 'Bomet ',\n",
       "       'Busia', 'Gilgil', 'LAMU', 'Kajiado ', 'makueni ', 'kisii',\n",
       "       'MERU 2274', 'TURKANA', 'Kilifi', 'nottingham', 'Embakasi',\n",
       "       'Masii - MACHAKOS', 'SEREM', 'Tala, Kangundo. ', 'Ugunja',\n",
       "       'Karatina', 'Migori', 'Berlin', 'KALAMBA', 'UKUNDA ', 'ruiru',\n",
       "       'Sondu', 'BUSIA - PORT VICTORIA ', 'Matuu.', 'Gatundu',\n",
       "       'Seasons Kasarani. ', 'KARUNGU', 'Kahawa Sukari', 'Kangundo ',\n",
       "       'mombasa ', 'St. Georges', 'maseno', 'KINDARUMA ',\n",
       "       'kakuma 1 Nuer community ', 'copenhagen', '549 LIMURU', 'Lamu',\n",
       "       'DRESDEN', 'Ol Kalou ', 'KIRIA-INI ', '123 KIKUYU', 'Kianyaga',\n",
       "       'Kasarani', 'Makueni ', 'KABETE', 'Sagana',\n",
       "       'Imani avenue, Ongata Rongai, Kajiado', 'LOS ANGELES', 'KAKUMA',\n",
       "       'kitengela', '56-10300 Kerugoya', 'Kalimoni P.o Box 178-01001',\n",
       "       'Nairobi, Komarock.', 'kilifi', 'NAIROBI, KITENGELA ',\n",
       "       '14 Lamina Avenue, Mill Park VIC 3082', 'kebirigo ', 'Darwin ',\n",
       "       'Kericho ', 'Nairibi', '782 - 00232 Ruiru', 'eldoret', 'Oyugis',\n",
       "       'Conroe', 'NAIROBI 572 00300', 'Eldama Ravine', 'Kabete ', 'Maua',\n",
       "       'Isiolo', '828-90200', 'Athens', 'Chicago ', 'Hola', 'Abu Dhabi ',\n",
       "       'Nyayo Estate, Court 521', 'Deanside', '452-00200, KIAMBU',\n",
       "       'KOBENHAUN', 'karuri', 'Nanyuki ', 'P.O. Box 2413-60200, Meru',\n",
       "       'Kenol', 'Wote', 'githunguri ', 'NAIROBI. 45095-00100', 'Serem',\n",
       "       'P.o.box 1298-00618 Ruaraka, Nairobi', 'Vienna ', 'karen',\n",
       "       'CHICAGO', 'GENEVA', 'Kiserian ', 'Kabarnet', 'RABAI',\n",
       "       'KIAMBU COUNTY', 'Uthiru Cooperation ', 'Githunguri ',\n",
       "       '79718-00200 NAIROBI', 'stockholm', '42 NDARAGWA',\n",
       "       'P.O. Box 103635-00101', 'Heuchlingen ', 'PORT VICTORIA',\n",
       "       'Doolandella, Australia', 'Grand Oyster Kileleshwa, Nairobi',\n",
       "       '10572-00200 NAIROBI', 'Wangige ', 'Siaya', 'Litein', 'Washington',\n",
       "       'Geneva', 'Winchester ', 'Mariashoni', 'Mwiki', 'Limuru ',\n",
       "       'Nairobi i', 'P O Box 898-00100 NAIROBI', 'KAWNGWARE NAIROBI ',\n",
       "       'rongai', 'Roysambu', 'NAIROBI UMOJA', 'kangema',\n",
       "       'P.O.Box 848-00208 NGONG', 'Braunschweig ', 'Wote MAKUENI',\n",
       "       '814_3 300 KAPSABET ', 'Box 2316 Machakos', 'Ruaraka', 'Nyahururu',\n",
       "       'Kenmore ', 'Melbourne ', '1711 Nyahururu', 'nanyuki',\n",
       "       'kawangware ', 'Narok', 'Githunguri', 'Mahindi ', 'Moncton',\n",
       "       'kERUGOYA', 'Homa Bay', 'Ukunda', 'Mukurweini ', 'Malindi ',\n",
       "       'narumoru', 'Juba', '01000-214 Thika', 'kabete ', 'Kajiado',\n",
       "       'NAROK ', 'Kapenguria ', 'Athi-river ', \"murang'a \", 'Gem',\n",
       "       'nyahururu ', 'Gachie ', 'Kirinyaga', ' Nairobi ', 'CALIFORNIA',\n",
       "       'Bomet', 'molo', 'Chuka', 'Nairobi, Kenya.', 'ANTONY',\n",
       "       'wite-makueni', 'ugunja', 'Matunda ', 'KARORI', 'kikuyu ',\n",
       "       'Shinyalu ', 'Molo', 'KIPKAREN', 'KANGUNDO ', 'LUTON', 'FLORIDA',\n",
       "       'NGEWA', 'SUSWA', 'USA', \"KENOL MURANG'A \", 'PUYALLUP WA USA',\n",
       "       'LAARE', 'P.O Box 30231 - 00100, Nairobi', 'Runyenjes',\n",
       "       'KENDUBAY ', 'Gigiri, Nairobi', 'GATUKUYU', 'BUNYALA', 'OKIA',\n",
       "       '3704 GPO NAIROBI ', 'RANGWE', 'KITUI KENYA', 'SAUDI ARABIA',\n",
       "       'JUJA KALIMONI', 'MSA', 'GAKUNYU', 'MIHARATI', 'KERUGOYA TOWN',\n",
       "       'RAGENGNI', 'mwingi ', 'NBI', 'IGOJI', 'KIMULOT', 'LONDIANI',\n",
       "       'CAMBRIDGE', 'KHAYEGA', 'NDUNYU NJERU ', '58-10205 Maragua',\n",
       "       'MALINDI ', 'Kasarani, Clay City', 'ATHI RIVER ', 'Sawagongo ',\n",
       "       'HELSINKI', 'GPO', 'BURNTFOREST', 'MATUNDA ', 'HARRISDALE',\n",
       "       'KARANDI', 'DUKHAN ', 'SONDU', 'EMBU, KENYA', 'NAIROBI KENYA',\n",
       "       'NANDI HILLS ', 'HAZELWOOD', 'MGANGE', 'LUCYSUMMER-NAIROBI',\n",
       "       'KUKUYU', 'NGONG ROAD', 'NYAYO STADIUM', 'Karen', 'makuyu',\n",
       "       'LOITIKITOK', 'Kenyenya', 'MUNICH ', 'tawa', 'FUNYULA',\n",
       "       'NOTTIGHAM', 'nanyuki ', 'Kenny Bay', 'MOMBSA', 'SHERWOOD',\n",
       "       'NDARAGWA', 'ongata rongai', 'BUMALA', 'MEITINGEN ', '80100',\n",
       "       'KOMBEWA', 'DOYSELDOR', 'NOTTINGHAM', 'VIENNA', 'KISERIAN KAJIADO',\n",
       "       'NAIROBI, KENYA', 'Mtwapa ', 'KEUMBU', 'Kerugoya Town', 'KAP ',\n",
       "       'UPPER HILL NAIROBI', 'MOI;S BRIDGE', 'ENTERPRISE  ROAD',\n",
       "       'THIONGO-NAIROBI', 'KATHONZWENI', 'UTAWALA', 'MIU ATHI-RIVER',\n",
       "       'CHAMAKANGA', 'NYAMACHE', 'NUERI', 'SULTAN HAMUD', 'NAROMORU ',\n",
       "       'NYAMIRA ', 'NAIROBI BURU', 'HAMBURG', 'TOWN ', '14 KADONGO 40223',\n",
       "       'Mois Bridge ', 'RUNYENJES ', 'MARAGWA', 'SURPRISE,USA',\n",
       "       'KALAMBA ', 'Ruai', 'KADONGO', 'TORONGO', 'NJABINI',\n",
       "       'GIGIRI, VILLAGE MARKET, NAIROBI', 'LAVINGTON', 'SPRING VALLEY',\n",
       "       'MBUMBUNI', 'NAIROBI MUNICIPALITY', 'NAIROBI,KENYA',\n",
       "       'Bamburi Mtambo ', 'GITHURAI', 'RUMURUTI',\n",
       "       'Kenyatta Highway, Nanyuki', 'MUTOMO', 'KENYATTA HOSPITAL',\n",
       "       'NAIROBI GENERAL POST OFFICE', 'LITIEN', 'LONDIANI ',\n",
       "       'ONGATA RONGAI NAIROBI', 'GATUNDU ', 'GAMBONI', 'NAIROB',\n",
       "       'L.KABETE', 'ATHI - RIVER', 'kerugoya ', 'Webuye ', 'Maralal',\n",
       "       'Andover', 'mombas', 'Kiambu 627-00900', 'Maragua',\n",
       "       'murang*a 10200-658', 'Syracuse', 'Karen Nairobi ',\n",
       "       'ontario, California 91764 ', 'Karlsruhe ', 'Nyamira ', 'Olkalau',\n",
       "       'GILGIL, KENYA', 'Kerugoya ',\n",
       "       '14 AV FERNAND FENZY92160  ANTONY FRANCE'], dtype=object)"
      ]
     },
     "execution_count": 7,
     "metadata": {},
     "output_type": "execute_result"
    }
   ],
   "source": [
    "#checking the unique values from the town column\n",
    "df['town'].unique()"
   ]
  },
  {
   "cell_type": "code",
   "execution_count": 8,
   "metadata": {},
   "outputs": [
    {
     "data": {
      "text/plain": [
       "array(['Partner', 'Sister', 'Husband ', 'Husband', 'Daughter', 'Brother ',\n",
       "       'Son', 'Daughter ', 'Wife', 'Father', 'Mother', 'Brother', 'son',\n",
       "       'mother', 'father', 'Mother ', 'SPOUSE', 'FRIEND', 'Spouse ',\n",
       "       'WIfe', 'Father ', 'Spouse', 'child', nan, 'Parent', 'wife',\n",
       "       'Wife ', 'Son ', 'spouse', 'doughter', 'CHILD', 'ParentChild',\n",
       "       'partner', 'brother', 'sister', 'MotheR', 'Friend', 'Child',\n",
       "       'Cousin', 'Dad', 'Mum', 'MOTHER', 'WIFE', 'Sister ', 'SON',\n",
       "       'BROTHER', 'FATHER', 'aunt ', 'Grandmother', 'HUSBAND', 'self',\n",
       "       'husband', 'husband ', 'Owner', ' Grand daughter', 'Nephew',\n",
       "       'SP0USE', 'Self', 'parent', 'SISTER', 'NIECE', 'Niece', 'daughter',\n",
       "       'Sibling', 'DAUGHTER', 'AUNT', 'brother ', '254701361835',\n",
       "       'Parent ', 'daughter ', 'FAITHER', 'Family ', 'SPOUSE ',\n",
       "       'Sibling ', 'PARENT', 'CONFIDANT', 'MUM', 'DAD', 'wife ', 'family',\n",
       "       'Trustee ', 'son ', 'mother ', 'MOTHER ', 'friend', 'spouse ',\n",
       "       'S0N', 'SISTER ', 'FATHER ', 'father ', 'FAMILY ', 'WifE',\n",
       "       'Partner ', 'daugther', '1226805243;130143346', 'relative',\n",
       "       'BROTHER ', 'Daighter', 'Advisor', 'SON ', 'AUNTIE', 'FIANCEE',\n",
       "       'Fiancee', 'DOUGHTER', 'parent ', 'HUSBAND ', 'DAUGHTER ', 'SELF',\n",
       "       'MOther', 'mOTHER', 'Aunt', 'Grandparent', 'Bother ', 'SO',\n",
       "       'married', 'MARRIED', 'FIANCE', 'Doughter ', 'Guardian ',\n",
       "       'ASS0CIATE', 'sibling', 'fiance', 'Sistet', 'Grandson', 'Doughter',\n",
       "       'DAUGTHER', 'wIFE', 'Bro', 'PARTNER', 'B INLAW', 'GUARDIAN',\n",
       "       'daughte', 'Mom', 'COUSIN', 'GRANDMA', 'aunt', 'Domestic Partner',\n",
       "       'PATNER', 'me', 'MENTOR', 'UNCLE', 'Sis', 'SiBLING', 'GRAND SON',\n",
       "       'Fiance ', 'KID', 'SIBLING', 'GRANDSON', 'Nephew ', '-', 'Cousin ',\n",
       "       'DAUGHETR', 'Person', 's0n', 'na', 'myson', 'PARTNER ', 'Bishop',\n",
       "       'nephew', 'mwas', 'Mothers', 'Friend ', 'Child ', 'daughter33',\n",
       "       'CLOSE FRIEND', 'hUSBAND', 'CLOSEFRIEND', 'Boyfriend ',\n",
       "       'dependant', 'WIFE ', 'MARRIAGE', 'GRAND DAUGHTER', 'DAUGHER',\n",
       "       'Niece ', 'granddaughter', 'grandson', 'DAUGHTER/CHILD',\n",
       "       'RELATIVE', 'mum', 'single', 'Self ', 'sister ', 'Mother TO SON',\n",
       "       'Grandfather', 'DAD ', 'Relative', 'Daughter-in-law ',\n",
       "       'GRANDMOTHER', 'child ', '15', 'DaD', 'GIRLFRIEND', 'FAMILY',\n",
       "       'Uncle ', 'SiNGLE', 'SINGLE', 'fiancee', 'FaMILY', 'BENEFICIARY',\n",
       "       'OWNER', 'Relative ', 'GRANDDAUGHTER', ' Spouse', 'uncle',\n",
       "       'Married ', 'chil', 'CHILD MINOR', '33', 'NEPHEW', 'JOINT PARTNER',\n",
       "       'MOTHERS ', 'Fiancé ', 'Others ', 'Grand daughter',\n",
       "       'DAUGHTER-IN-LAW', 'Na', 'CHILD ', 'SPIRITUAL FATHER', 'COUSN',\n",
       "       'DEPEDANT', 'Estate', 'Uncle', 'sISTER', 'sisiter', ' BROTHER',\n",
       "       'Granddaughter ', 'BRother', 'Aunt ', 'cousin', 'Baby', 'Morher',\n",
       "       'MOM', 'God mother', 'GRANDSON ', 'Husband/spouse', 'SPOUCE',\n",
       "       'uncle ', 'FRIEND ', 'Single', 'Vhild', 'Patner', 'Spouce',\n",
       "       'Family', 'SoN', 'SisteR', 'AUNTY', 'FATHER-IN-LAW', 'SonS', '0',\n",
       "       'MO9', 'Fiance', '33.4', 'CHILF', '254727756559', '0720401466',\n",
       "       'GRAND FATHER', 'PRINCIPAL', 'Guardian', 'JUNIOR',\n",
       "       'DGRAND DAUGHTER', 'COWORKER', 'GRAND MOTHER', 'D100', 'NMO',\n",
       "       'BUSINESS PARTNER', 'GURDIAN', '2021', 'MotH', 'MoM', 'UN,CLE',\n",
       "       'GRAND CHILD', 'Sister in law', 'Grand Daughter', 'COMAPANION',\n",
       "       'BOYFRIEND', 'EX-WIFE', 'GRANDDAUGTER', 'PARNT', 'M', 'F', 'Chils',\n",
       "       ';SON', 'GUARDINA', 'NiecE', 'Brother-IN-LAW', 'Member',\n",
       "       'Grand mother', 'ADMINISTRATOR', 'VM', 'GRANDFATHER', 'GIRLFRIED',\n",
       "       'Brestfriend', 'Finance', 'SIS', 'Daughter in law', 'children',\n",
       "       'Girlfriend', 'COLLEAGUE', 'TRUSTEE', '254708368426', 'Colleague',\n",
       "       'Sister-IN-LAW', 'GRAND-DAUGHTER', 'GRANNY', 'GRANDCHILD', \"'M\",\n",
       "       'spouce', 'SiLBLING', 'Siblings', 'Step-mother', 'Aunty', 'FREINF',\n",
       "       '50', '100', '254723993458', 'Cousins', 'Cousins ', 'ASSOCIATE',\n",
       "       'Fiane', 'guardian', 'Guadian', 'Confidant', 'Auntie', 'GRANDPA',\n",
       "       'mom', 'Brother in Law', 'BUSINESS PARTNER ', 'Spuose',\n",
       "       'Business Partner', 'Dating', 'IN LAW', 'STEP-MOM', 'Son/Brother',\n",
       "       'Chid', 'Granddaughter', 'niece', 'Son/SISTER', 'Grand Son',\n",
       "       'BrotheR', \"Nolan's Guardian\", \"Xena's Guardian\", 'Sister-in law',\n",
       "       'PARENTS', 'c/o', 'STEP MOTHER', 'NiCE', 'Ciru', 'DEPENDANT',\n",
       "       'som', 'GUARDIAN ', 'Dau`', 'Kid', 'PARENT ', 'CHILDREN',\n",
       "       'partner ', 'CLOUSIN', '19112004', 'twinsister', 'MINOR',\n",
       "       'Sister- Custodian', 'GRANSON', 'COMPANION', 'ENGAGED',\n",
       "       'WELL WISHER', 'PARNER', 'GRANCHILD', 'Trustee', 'Next of kin',\n",
       "       'SIIBLING', 'SIBLINGS', 'Foster daughter', 'ADMINSTRATOR',\n",
       "       'IN-LAW', 'Boyfriend', 'NepheW', 'EMPLOYEE', 'DIRECTORS',\n",
       "       'RELIGIOUS COMMUNITY', 'CUSTODIAN', 'C/O ARIANNA', 'Sister IN LAW',\n",
       "       'spose', 'SPAUSE', 'MEMBER', 'DomesticPartner', 'Grand-daughter',\n",
       "       'Brother-in-law', 'STEP-BROTHER', 'Mother to Evan', 'Sister-Inlaw',\n",
       "       'BUS. PARTNER', 'Sister(Guardian)', 'CONTACT PERSON', 'FatheR',\n",
       "       'Brother in law', 'Parwnt', 'M,', 'Sister-GUARDIAN', 'Grand Child',\n",
       "       'GODMOTHER', 'Sister-Guardian', 'Mother- Guardian', 'Grandchild',\n",
       "       'Grand son', 'CHLD', 'GRAND.DAUGHTER', 'GRAND-MOTHER', 'Parents',\n",
       "       'EX WIFE', 'Sister - Guardian', 'Step-Mother', 'FOSTER DAUGHTER',\n",
       "       'Grand-mother', 'God Mother', 'Mother-in-law', 'MEMBER ',\n",
       "       'B/S PARTNER', 'LAWYER', 'GRAND-SON', 'parents', 'Stepson',\n",
       "       'Contingent', 'grandmother', 'G/Daughter', 'Brother and sister',\n",
       "       'Sibbling', ' ', 'COUSIN ', 'DaughteR', 'SPUOSE', 'CHIILD',\n",
       "       'DSPOUSE', 'Executor', 'HU', 'EWIFE', 'SPOUDSE', 'SoPOUSE',\n",
       "       'grandchild', 'ChILD', '9266025', 'PARE NT', '254700442162',\n",
       "       'BEST FRIEND', 'SISTER IN LAW ', 'mather', 'SAVING PARTNER ',\n",
       "       'AUNTIE ', 'ParenChild', 'GIRLFRIEND ', 'SINGLE ', 'Parentchild',\n",
       "       'parentchild', 'SPOUSE20', 'Myself', 'FIACEE', 'SD',\n",
       "       'Grand mother ', 'Mother of child', 'Childnephew', 'FATH ',\n",
       "       'MY SON', 'BabyMother', 'CHID', 'GIRL FRIEND', 'chils', 'self ',\n",
       "       \"Mother's \", 'Mum ', 'aunty', 'SPouse', 'Auntie ', 'ChiLD',\n",
       "       'grandmother ', 'Grand daughter ', 'auntie', 'baby mama ', 'DA',\n",
       "       'BrOther', 'Fiancee ', 'In law', 'Colleague ', 'WiFE', 'owner',\n",
       "       'sON', 'Mather', 'Dauhgter', 'myself', 'Hubby', 'Sister in-law',\n",
       "       'Aunty ', 'Foster parent', 'grandson ', 'Wife/Guardian',\n",
       "       '21761402', 'GUARDIAN-MOTHER'], dtype=object)"
      ]
     },
     "execution_count": 8,
     "metadata": {},
     "output_type": "execute_result"
    }
   ],
   "source": [
    "#checking the unique values from the relationship column\n",
    "df['relationship'].unique()"
   ]
  },
  {
   "cell_type": "code",
   "execution_count": 9,
   "metadata": {},
   "outputs": [
    {
     "data": {
      "text/plain": [
       "array(['Single Member'], dtype=object)"
      ]
     },
     "execution_count": 9,
     "metadata": {},
     "output_type": "execute_result"
    }
   ],
   "source": [
    "#checking the unique values from the hse_no column\n",
    "df['hse_no'].unique()"
   ]
  },
  {
   "cell_type": "code",
   "execution_count": 10,
   "metadata": {},
   "outputs": [
    {
     "data": {
      "text/plain": [
       "array(['Money Market', 'Dollar Fund', 'Wealth Fund', 'Equity Fund',\n",
       "       'Fixed Income', 'Balanced Fund', 'MoneyMarket', nan], dtype=object)"
      ]
     },
     "execution_count": 10,
     "metadata": {},
     "output_type": "execute_result"
    }
   ],
   "source": [
    "#checking the unique values from the portfolio column\n",
    "df['portfolio'].unique()"
   ]
  },
  {
   "cell_type": "code",
   "execution_count": 11,
   "metadata": {},
   "outputs": [
    {
     "data": {
      "text/plain": [
       "array(['NAIROBI', nan, 'NAIROBI ', 'THIKA', 'NAKURU', 'MOMBASA ',\n",
       "       'NDANAI ', 'KISUMU', 'KIKUYU', 'JUJA', 'MACHAKOS', 'MERU',\n",
       "       'KERICHO', 'MUKURWEINI', 'KATANGI', 'THIKA,KIAMBU', 'NANYUKI',\n",
       "       'RUAI ', 'MALINDI', 'NYAHURURU', 'MUMIAS', 'KAKAMEGA', 'LODWAR',\n",
       "       'Nairobi ', 'KITENGELA', 'LIMURU', 'THIKA ', 'MIGORI', 'ELDORET',\n",
       "       'KITUI', 'RUARAKA', 'Ruiru', 'NJORO', 'EMBU', 'SORI', 'NGONG',\n",
       "       'MASENO', 'GATUNDU', 'KAHURO', 'KILIFI', 'RUIRU', 'KERUGOYA',\n",
       "       'KARATINA', 'KITALE ', 'MOMBASA', 'BUNGOMA', 'KISII', '-',\n",
       "       'Nairobi', 'KINAMBA', 'SIAYA', 'KERICHO ', 'KIAMBU', 'KITALE',\n",
       "       'BUSIA', 'RUNYENJES', 'VILLAGE MARKET', 'Kapsabet', 'KAGWE',\n",
       "       'NANDI HILLS', 'KUTUS', 'DAGORETTI', 'LITEIN', 'KAJIADO', 'CHUKA',\n",
       "       'NYERI', 'NAIROBI, NAIROBI', 'Kisumu ', 'KANJUKU', 'EMALI',\n",
       "       'GILGIL', 'Kiambu ', 'KANGEMA', 'TIRIKI', 'KARATINA ', 'OTHAYA',\n",
       "       'KARURI ,KIAMBU', 'MURANGA ', 'Mombasa', 'GATUKUYU ', 'MLOLONGO',\n",
       "       'UTAWALA ', 'KAPENGURIA', 'KAPSABET', 'SUNA', 'BOMET', 'KENOL ',\n",
       "       'NYERI ', 'BUNGOMA ', 'NDANAI', 'KALIMONI', 'KIGANJO',\n",
       "       'KAPSOKWONY', 'Nakuru', 'KIAMBU ', 'nairobi', 'CHOGORIA',\n",
       "       'GITHUNGURI', 'YOANI,SALAMA', 'LIMURU ', 'NAIROBI, KENYA.',\n",
       "       'UKUNDA', 'MATUU', 'embu', 'NYALI', 'nakuru', 'MBALE', 'EMUHAYA',\n",
       "       'TELFORD', 'NAIVASHA', 'KAREN', 'KILIFI ', 'HOLA', 'MAKINDU',\n",
       "       'WOTE', 'DIANI', 'O', 'OLKALAU', 'KAREN ', 'UPLANDS', 'WANGÚRU',\n",
       "       'KABIYET', 'KAKAMEGA ', 'SOTIK', 'NGONG ', 'CITY SQUARE', 'NKUBU',\n",
       "       'KANGARI', 'NGONG HILLS ', 'NYAHURURU ', 'KARURI ', 'UTHIRU',\n",
       "       'MARIMANTI', 'MANCHESTER', 'Kikuyu', '.', 'NAIRO ', 'kiambu',\n",
       "       'VOI', 'EMBAKASI', 'MOLO', 'Siaya ', 'NGIYA', 'OLKALOU',\n",
       "       'KANYAGIA', 'WANJOHI', 'kabete', 'Wamunyu', 'MARIAKANI',\n",
       "       'KISERIAN', 'ARTHI RIVER ', 'SUBUKIA', 'KILGORIS', 'KIMININI',\n",
       "       'LAGOS', 'SARE', 'ATHI RIVER', 'ngong hills ', 'WERUGHA',\n",
       "       'NAIROBIP', 'MASINFA', 'kikuyu', 'OL JORO OROK', 'MAUA',\n",
       "       'GIKUE MURANGA', 'KIMENDE', 'KIMILILI', 'KISUMU ', 'VIHIGA',\n",
       "       ' NAIROBI ', 'BURUBURU', 'MATATHIA', 'RUAKA', 'UGUNJA', 'LONGISA',\n",
       "       'ELDORATE ', 'KAPKATET', 'WINNIPEG', 'PIPELINE ', 'KAHAWA WEST ',\n",
       "       'KANDARA', 'Kimilili ', 'MTWAPA ', 'MARAGUA', 'BANANA ', 'NYAMIRA',\n",
       "       'AUBURN', 'KARURI', 'MTWAPA', 'ONGATA RONGAI', 'ELDORET ',\n",
       "       'HOMABAY', 'WANGIGE', 'KENDUBAY', 'KIBWEZI', 'RONGAI', 'RUIRU ',\n",
       "       'NORTH KINANGOP', 'MAKUYU', 'Nyeri ', 'Eldoret ', 'BOUTIGNY',\n",
       "       '00506', 'MWINGI', '00100', 'KERUGOYA ', 'TALA', 'OLENGURUONE',\n",
       "       'MAVINDINI', 'UHURU GARDENS', 'KIKUYU ', 'Ongata Rongai',\n",
       "       'SOUTH KINANGOP', 'ELDAMA RAVINE', 'MITUNGURU', 'TOM MBOYA',\n",
       "       'NAKURU ', 'MITABONI', 'NAROMORU', 'MURANGA', 'OLJOROROK',\n",
       "       'BUTERE', 'OYUGIS', 'SILIBWET', 'EMBU ', 'Doha', 'Eldoret',\n",
       "       'KANGEMI', 'NYERI-KIGUMO', 'KISERIAN ', 'Athi River', 'KENOL',\n",
       "       'OL KALOU', 'WESTLANDS', 'Nyahururu ', 'ENDARASHA ', 'GPO/NAIROBI',\n",
       "       'DAGORETI', 'OGEMBO ', 'mombasa', 'RUAI', 'DONYO SABUK', 'KEROKA',\n",
       "       'LOWER KABETE', 'MWEIGA', 'Naitobi', 'TOKYO', 'Embu', 'KIRINYAGA',\n",
       "       'KIANYAGA', 'SIAYA ', 'ADLISWIL', 'BURU BURU', 'MERU ', 'NYAKIO',\n",
       "       'KWALE', 'AMUKURA', 'NAROK', 'KOBUJOI', \"WANG'URU\", 'BONDO',\n",
       "       'Kericho', 'KIKIMA ', 'CHANGAMWE', 'BUTULA', 'NAIROBI KAYOLE',\n",
       "       'KANGUNDO', 'MARIAKANI ', 'TIMBOROA', 'KIANJAI', 'KALOLENI ',\n",
       "       'ISINYA', 'IOWA CITY, IOWA', 'Garsen ', 'MUKURWE-INI',\n",
       "       'NAIROBI GPO', 'MANYATTA', 'SARE-OWENDO', 'NANYUKI ', 'NDHIWA',\n",
       "       'ELBURGON', 'Orange', 'MAKUENI', 'kisumu ', 'MACHAKOS ',\n",
       "       'KABARNET ', \"Murang'a \", 'JUJA, KIAMBU', 'Bungoma', 'MAWEGO',\n",
       "       'Bath', 'ROYSAMBU', 'Nanyuki', 'SAGANA', 'MACH ', 'Nyeri', 'Ruaka',\n",
       "       'KITUI ', 'KAJIADO ', 'NUNGUNI', 'RONGAI ', 'KISII ', 'WANGIGE ',\n",
       "       'Makongeni Jogoo Rd', 'nairobi ', 'Kikuyu ', 'Kisii', 'MSAMBWENI',\n",
       "       'BUJUMBURA', 'GITHONGO', 'KEROKA/KISII', 'BURUBURU, NAIROBI',\n",
       "       'MALAVA', 'KIJABE', 'Woolwich ', 'NDERE-SIAYA', 'AHERO',\n",
       "       'MUHORONI ', 'Nakuru ', 'kahuro', 'Malakisi ', 'MUHORONI',\n",
       "       'ISIOLO', 'SYOKIMAU ', 'ONGATA RONGAI ', 'Maralal ',\n",
       "       'KIBIRICHIA, MERU', 'GRANGER, INDIANA', 'WESTLAND ', 'MUKURWEINI ',\n",
       "       'MASII', 'NRB', 'KWISERO', 'ANKARA', 'SHIMBA HILLS', 'TAVETA',\n",
       "       'WOTE, MAKUENI ', 'WANGURU', 'KISSII', 'BURUBURU NAIROBI ',\n",
       "       'KIRITIRI', 'MESA ARIZONA', 'KAJIADO TOWN', 'KURIA',\n",
       "       'NAIROBI WEST', 'ENDARASHA', 'KIPKAREN ', '0', 'GAMBOGI', 'KOLA',\n",
       "       'Marsabit', 'WEBUYE', 'GAKUNGU', 'NAIROBJ',\n",
       "       'NAIROBI ,KAMITI ROAD RICHLAND', 'NKUBU ', 'MWATATE', 'MALAKISI',\n",
       "       'ITEN', 'KATHIANI', \"MURANG'A\", 'KAIRIA', 'UPLANDS ', 'RONGO',\n",
       "       'UHURU GARDEN', 'KINANGOP', 'BAHATI NAKURU ', 'MATILIKU', 'meru',\n",
       "       'Limuru', 'MALAA', 'TURBO', 'MARIMA -MERU HIGHWAY ', 'OLJORO OROK',\n",
       "       'homabay ', 'KIKIMA', 'ADAMS ARCADE', 'MUNICH', 'MUMIAS ',\n",
       "       'KALIMONI ', 'CHWELE', 'MARALAL', 'NAMBALE', 'NAIROBI COUNTY',\n",
       "       'Narok ', 'TURBO ', 'KANGARI ', 'Pécs ', 'thika', 'KATSE',\n",
       "       'thika ', 'CHEBUNYO', 'OL JORO OROK ', 'MOBIL PLAZA', 'WAMUNYU ',\n",
       "       'MAGUNGA', 'RORET', 'YALA', 'KAHUHIA', \"KENOL MURANG'A\",\n",
       "       'Machakos', 'UKWALA', 'KALOLENI', 'JOONDALUP', 'MIGORI ',\n",
       "       'MARAGOLI', 'MARMANET', 'IKANGA', 'KINOO', 'OYUGIS ', 'LANGATA',\n",
       "       'Kiambu', 'Malindi', 'NAIROBI.', 'MAKUENI ', 'Bungoma ',\n",
       "       'GITHUNGURI ', 'MACHOKOS', 'KOMBEWA ', 'UTHIRU ', 'KITENGELA ',\n",
       "       'BANANA', 'CHEPKORIO', 'MASII ', 'Gitugi', '. ', 'RUIRY', 'Kisumu',\n",
       "       'MBUMBUNI-MACHAKOS', 'WAMUYU', 'siaya', 'Kakamega', 'TAITA TAVETA',\n",
       "       'Bumala', 'KIMENDE ', 'BRISTOL', 'MATUNDA', 'KARABA', 'SULTAN',\n",
       "       'GATURA', 'KASARANI ,NAIROBI ', 'NANDI', 'MAGUTUNI', 'CHUKA ',\n",
       "       'NGONG HILL', 'ngong', 'KIANGAI', 'MBITA', 'Mumias', 'KAMBITI',\n",
       "       'MUMBI', 'Juja', 'WODANGA', 'KIRIANI', 'KABARNET', 'MISIKHU',\n",
       "       'Thika', 'NYANSIONGO', 'nyeri ', 'NAIVASHA ', \"MURANG'A \",\n",
       "       'KAPCHENO', 'NGARA', 'MADARAKA', 'kitengela ', 'BONDO ', 'WAMUNYU',\n",
       "       'NYANDARUA', 'MOGOGOSIEK', '00', 'NAIROBI/JUJA', 'NA ', 'LUANDA',\n",
       "       'KLEMZIG', 'TEL AVIV', 'ongata rongai ', '30-60101 Manyatta ',\n",
       "       '12410 Nyeri', 'KATHONZWENI ', 'GITHURAI ', 'WESRN AUSTRALIA',\n",
       "       'SABASABA ', 'Gilgil ', 'ISEBANIA', 'KIRIAINI', 'MUTHETHENI ',\n",
       "       'Mombasa ', 'Kitengela', 'CARLIFONIA', 'NIL',\n",
       "       'NAIROBI, NAIROBI AREA, KENYA', 'SOY', 'Sabasaba', 'SABASABA',\n",
       "       'COLUMBIA', 'Homa Bay ', 'MARIMA', 'SEGA', 'KAYOLE', 'BUDD LAKE',\n",
       "       'KITHYOKO', 'KIJABE ', 'Mbale', 'KITHIMANI', 'HANOI', 'chuka',\n",
       "       'KILINDINI', 'MERY', 'CHELMSFORD', 'LOITOKITOK', 'MOSORIOT',\n",
       "       'IKONGE', 'ENGINEER', 'Othaya', 'Ahero', 'MWEA', 'JOSKA ',\n",
       "       'NGAMBWA', 'MASINGA', 'KINANGOP ', 'LONDON', 'KILELESHWA ',\n",
       "       'SARIT CENTRE', 'mgange ', 'ST. MARYS NSW', 'GESIMA', 'Migori ',\n",
       "       'KHWISERO', 'SYOKIMAU', 'MTITO ANDEI ', 'nakuru ', 'NAIROBI CITY',\n",
       "       'ATHIRIVER', 'KABATI', 'Kitale', 'MPEKETONI', 'YOANI',\n",
       "       'KABARTONJO', 'NAMANGA', 'CHESINENDE', 'BAHATI', 'NZEEKA',\n",
       "       'MATATHIA, KAMAE', 'RONALD NGALA ', 'KUBUKUBU', 'THOGOTO',\n",
       "       'GATORA', 'NAI ', 'KUJA,KIAMBU', 'Machakos ', 'AMAGORO', 'Uthiru',\n",
       "       'Naivasha', 'KEROKA ', 'MAZERAS', 'EGERTON', 'KASARANI', 'Kimende',\n",
       "       'WAJIR', 'DUBAI', 'TWO RIVERS', 'NDARAGWA ', 'EASTLEIGH', 'KAGIO',\n",
       "       'HOMA BAY', 'KISII, KENYA', 'Thika ', 'NGECHA', 'Kakamega ',\n",
       "       'KERINGET', 'FORT WAYNE', 'STAREHE', 'GILGIL ', 'KAWANGWARE',\n",
       "       'GPO NAIROBI', 'GITUGI', 'Tala', 'kakamega ', 'TEXAS', 'GACHIE',\n",
       "       'Syokimau', 'Sydney ', 'LESSOS', 'Meru ', 'KIPKAREN RIVER',\n",
       "       'SOSIOT', 'LAKEWOOD SEATTLE', 'Lodwar', 'Kitale ', 'Membley',\n",
       "       'chepkorio', 'Luanda', 'Kijabe ', 'TONGAREN', 'karuri ', 'malindi',\n",
       "       'Ogembo ', 'Maryland', 'Kisii Town ', 'kajiado ', 'LIKONI',\n",
       "       'wangige ', 'Ngong', 'OLKALOU ', '4597-20100 Nakuru', 'GARISSA',\n",
       "       'KIRIAINI ', 'SYOKIMAU L', 'Machakos, Kathiani', 'Kitui',\n",
       "       'AUSTRALIA', 'Bondo', 'Salama ', 'bomet ', 'Naivasha ',\n",
       "       'TOORMINA, NSW', 'Utawala', 'Ankara', 'MOISBRIDGE', 'nbo',\n",
       "       'Kijabe', 'KABAZI', 'P.O BOX 75-30105 SOY', 'kisumu', 'nyeri',\n",
       "       'Voi', 'Kanjuku', \"NG'IYA\", 'Muranga', 'Bournemouth ',\n",
       "       'SARE-AWENDO', 'narok', 'Ruiru ', 'Kilifi ', 'Meru',\n",
       "       'Ol-joro-orok', '152 30100 eldoret ', 'Mtwapa', 'Karuri',\n",
       "       'Kitengela ', 'Isiolo ', '38061-00623 Nairobi', 'Ngong Hills',\n",
       "       'RARIEDA', ' Nairobi County,', '187 Ngewa', 'NJAMBINI',\n",
       "       '25635 00603 Nairobi', 'GIKOE', 'kakamega', 'ISHIARA ',\n",
       "       'P. O. Box 111 Ruiru', 'Kibwezi', 'Syokimau ', 'kiambu ', 'Bomet ',\n",
       "       'Busia', 'Gilgil', 'LAMU', 'Kajiado ', 'makueni ', 'kisii',\n",
       "       'MERU 2274', 'TURKANA', 'Kilifi', 'nottingham', 'Embakasi',\n",
       "       'Masii - MACHAKOS', 'SEREM', 'Tala, Kangundo. ', 'Ugunja',\n",
       "       'Karatina', 'Migori', 'Berlin', 'KALAMBA', 'UKUNDA ', 'ruiru',\n",
       "       'Sondu', 'BUSIA - PORT VICTORIA ', 'Matuu.', 'Gatundu',\n",
       "       'Seasons Kasarani. ', 'KARUNGU', 'Kahawa Sukari', 'Kangundo ',\n",
       "       'mombasa ', 'St. Georges', 'maseno', 'KINDARUMA ',\n",
       "       'kakuma 1 Nuer community ', 'copenhagen', '549 LIMURU', 'Lamu',\n",
       "       'DRESDEN', 'Ol Kalou ', 'KIRIA-INI ', '123 KIKUYU', 'Kianyaga',\n",
       "       'Kasarani', 'Makueni ', 'KABETE', 'Sagana',\n",
       "       'Imani avenue, Ongata Rongai, Kajiado', 'LOS ANGELES', 'KAKUMA',\n",
       "       'kitengela', '56-10300 Kerugoya', 'Kalimoni P.o Box 178-01001',\n",
       "       'Nairobi, Komarock.', 'kilifi', 'NAIROBI, KITENGELA ',\n",
       "       '14 Lamina Avenue, Mill Park VIC 3082', 'kebirigo ', 'Darwin ',\n",
       "       'Kericho ', 'Nairibi', '782 - 00232 Ruiru', 'eldoret', 'Oyugis',\n",
       "       'Conroe', 'NAIROBI 572 00300', 'Eldama Ravine', 'Kabete ', 'Maua',\n",
       "       'Isiolo', '828-90200', 'Athens', 'Chicago ', 'Hola', 'Abu Dhabi ',\n",
       "       'Nyayo Estate, Court 521', 'Deanside', '452-00200, KIAMBU',\n",
       "       'KOBENHAUN', 'karuri', 'Nanyuki ', 'P.O. Box 2413-60200, Meru',\n",
       "       'Kenol', 'Wote', 'githunguri ', 'NAIROBI. 45095-00100', 'Serem',\n",
       "       'P.o.box 1298-00618 Ruaraka, Nairobi', 'Vienna ', 'karen',\n",
       "       'CHICAGO', 'GENEVA', 'Kiserian ', 'Kabarnet', 'RABAI',\n",
       "       'KIAMBU COUNTY', 'Uthiru Cooperation ', 'Githunguri ',\n",
       "       '79718-00200 NAIROBI', 'stockholm', '42 NDARAGWA',\n",
       "       'P.O. Box 103635-00101', 'Heuchlingen ', 'PORT VICTORIA',\n",
       "       'Doolandella, Australia', 'Grand Oyster Kileleshwa, Nairobi',\n",
       "       '10572-00200 NAIROBI', 'Wangige ', 'Siaya', 'Litein', 'Washington',\n",
       "       'Geneva', 'Winchester ', 'Mariashoni', 'Mwiki', 'Limuru ',\n",
       "       'Nairobi i', 'P O Box 898-00100 NAIROBI', 'KAWNGWARE NAIROBI ',\n",
       "       'rongai', 'Roysambu', 'NAIROBI UMOJA', 'kangema',\n",
       "       'P.O.Box 848-00208 NGONG', 'Braunschweig ', 'Wote MAKUENI',\n",
       "       '814_3 300 KAPSABET ', 'Box 2316 Machakos', 'Ruaraka', 'Nyahururu',\n",
       "       'Kenmore ', 'Melbourne ', '1711 Nyahururu', 'nanyuki',\n",
       "       'kawangware ', 'Narok', 'Githunguri', 'Mahindi ', 'Moncton',\n",
       "       'kERUGOYA', 'Homa Bay', 'Ukunda', 'Mukurweini ', 'Malindi ',\n",
       "       'narumoru', 'Juba', '01000-214 Thika', 'kabete ', 'Kajiado',\n",
       "       'NAROK ', 'Kapenguria ', 'Athi-river ', \"murang'a \", 'Gem',\n",
       "       'nyahururu ', 'Gachie ', 'Kirinyaga', ' Nairobi ', 'CALIFORNIA',\n",
       "       'Bomet', 'molo', 'Chuka', 'Nairobi, Kenya.', 'ANTONY',\n",
       "       'wite-makueni', 'ugunja', 'Matunda ', 'KARORI', 'kikuyu ',\n",
       "       'Shinyalu ', 'Molo', 'KIPKAREN', 'KANGUNDO ', 'LUTON', 'FLORIDA',\n",
       "       'NGEWA', 'SUSWA', 'USA', \"KENOL MURANG'A \", 'PUYALLUP WA USA',\n",
       "       'LAARE', 'P.O Box 30231 - 00100, Nairobi', 'Runyenjes',\n",
       "       'KENDUBAY ', 'Gigiri, Nairobi', 'GATUKUYU', 'BUNYALA', 'OKIA',\n",
       "       '3704 GPO NAIROBI ', 'RANGWE', 'KITUI KENYA', 'SAUDI ARABIA',\n",
       "       'JUJA KALIMONI', 'MSA', 'GAKUNYU', 'MIHARATI', 'KERUGOYA TOWN',\n",
       "       'RAGENGNI', 'mwingi ', 'NBI', 'IGOJI', 'KIMULOT', 'LONDIANI',\n",
       "       'CAMBRIDGE', 'KHAYEGA', 'NDUNYU NJERU ', '58-10205 Maragua',\n",
       "       'MALINDI ', 'Kasarani, Clay City', 'ATHI RIVER ', 'Sawagongo ',\n",
       "       'HELSINKI', 'GPO', 'BURNTFOREST', 'MATUNDA ', 'HARRISDALE',\n",
       "       'KARANDI', 'DUKHAN ', 'SONDU', 'EMBU, KENYA', 'NAIROBI KENYA',\n",
       "       'NANDI HILLS ', 'HAZELWOOD', 'MGANGE', 'LUCYSUMMER-NAIROBI',\n",
       "       'KUKUYU', 'NGONG ROAD', 'NYAYO STADIUM', 'Karen', 'makuyu',\n",
       "       'LOITIKITOK', 'Kenyenya', 'MUNICH ', 'tawa', 'FUNYULA',\n",
       "       'NOTTIGHAM', 'nanyuki ', 'Kenny Bay', 'MOMBSA', 'SHERWOOD',\n",
       "       'NDARAGWA', 'ongata rongai', 'BUMALA', 'MEITINGEN ', '80100',\n",
       "       'KOMBEWA', 'DOYSELDOR', 'NOTTINGHAM', 'VIENNA', 'KISERIAN KAJIADO',\n",
       "       'NAIROBI, KENYA', 'Mtwapa ', 'KEUMBU', 'Kerugoya Town', 'KAP ',\n",
       "       'UPPER HILL NAIROBI', 'MOI;S BRIDGE', 'ENTERPRISE  ROAD',\n",
       "       'THIONGO-NAIROBI', 'KATHONZWENI', 'UTAWALA', 'MIU ATHI-RIVER',\n",
       "       'CHAMAKANGA', 'NYAMACHE', 'NUERI', 'SULTAN HAMUD', 'NAROMORU ',\n",
       "       'NYAMIRA ', 'NAIROBI BURU', 'HAMBURG', 'TOWN ', '14 KADONGO 40223',\n",
       "       'Mois Bridge ', 'RUNYENJES ', 'MARAGWA', 'SURPRISE,USA',\n",
       "       'KALAMBA ', 'Ruai', 'KADONGO', 'TORONGO', 'NJABINI',\n",
       "       'GIGIRI, VILLAGE MARKET, NAIROBI', 'LAVINGTON', 'SPRING VALLEY',\n",
       "       'MBUMBUNI', 'NAIROBI MUNICIPALITY', 'NAIROBI,KENYA',\n",
       "       'Bamburi Mtambo ', 'GITHURAI', 'RUMURUTI',\n",
       "       'Kenyatta Highway, Nanyuki', 'MUTOMO', 'KENYATTA HOSPITAL',\n",
       "       'NAIROBI GENERAL POST OFFICE', 'LITIEN', 'LONDIANI ',\n",
       "       'ONGATA RONGAI NAIROBI', 'GATUNDU ', 'GAMBONI', 'NAIROB',\n",
       "       'L.KABETE', 'ATHI - RIVER', 'kerugoya ', 'Webuye ', 'Maralal',\n",
       "       'Andover', 'mombas', 'Kiambu 627-00900', 'Maragua',\n",
       "       'murang*a 10200-658', 'Syracuse', 'Karen Nairobi ',\n",
       "       'ontario, California 91764 ', 'Karlsruhe ', 'Nyamira ', 'Olkalau',\n",
       "       'GILGIL, KENYA', 'Kerugoya ',\n",
       "       '14 AV FERNAND FENZY92160  ANTONY FRANCE'], dtype=object)"
      ]
     },
     "execution_count": 11,
     "metadata": {},
     "output_type": "execute_result"
    }
   ],
   "source": [
    "#checking the unique values from the town column\n",
    "df['town'].unique()"
   ]
  },
  {
   "cell_type": "code",
   "execution_count": 12,
   "metadata": {},
   "outputs": [
    {
     "data": {
      "text/plain": [
       "member_no                0\n",
       "reg_date              1863\n",
       "dob                  20038\n",
       "hse_no                   0\n",
       "gender                4667\n",
       "town               1048216\n",
       "relationship       1632933\n",
       "beneficiery_dob    1086598\n",
       "portfolio                9\n",
       "dtype: int64"
      ]
     },
     "execution_count": 12,
     "metadata": {},
     "output_type": "execute_result"
    }
   ],
   "source": [
    "#inspecting the dataframe for null values\n",
    "df.isna().sum()"
   ]
  },
  {
   "cell_type": "code",
   "execution_count": 13,
   "metadata": {},
   "outputs": [
    {
     "data": {
      "text/plain": [
       "7407066"
      ]
     },
     "execution_count": 13,
     "metadata": {},
     "output_type": "execute_result"
    }
   ],
   "source": [
    "#inspecting the dataframe duplicate values\n",
    "df.duplicated().sum()"
   ]
  },
  {
   "cell_type": "markdown",
   "metadata": {},
   "source": [
    "In the below code block, we drop duplicated values."
   ]
  },
  {
   "cell_type": "code",
   "execution_count": 14,
   "metadata": {},
   "outputs": [],
   "source": [
    "df = df.drop_duplicates()"
   ]
  },
  {
   "cell_type": "markdown",
   "metadata": {},
   "source": [
    "From our problem statement, we aim to cross sell investment products depending on Age, Gender and Location. Therefore, we are going to drop some columns which are irrelevant. e.g. hse_no, beneficiary_dob,reg_date."
   ]
  },
  {
   "cell_type": "code",
   "execution_count": 15,
   "metadata": {},
   "outputs": [],
   "source": [
    "df=df.drop(columns=['reg_date','hse_no'])"
   ]
  },
  {
   "cell_type": "code",
   "execution_count": 16,
   "metadata": {},
   "outputs": [
    {
     "data": {
      "text/plain": [
       "member_no              0\n",
       "dob                  238\n",
       "gender                82\n",
       "town               15026\n",
       "relationship       14308\n",
       "beneficiery_dob    13937\n",
       "portfolio              4\n",
       "dtype: int64"
      ]
     },
     "execution_count": 16,
     "metadata": {},
     "output_type": "execute_result"
    }
   ],
   "source": [
    "#inspecting the null vaues after dropping columns\n",
    "df.isna().sum()"
   ]
  },
  {
   "cell_type": "code",
   "execution_count": 17,
   "metadata": {},
   "outputs": [
    {
     "data": {
      "text/plain": [
       "array(['Partner', 'Sister', 'Husband ', 'Husband', 'Daughter', 'Brother ',\n",
       "       'Son', 'Daughter ', 'Wife', 'Father', 'Mother', 'Brother', 'son',\n",
       "       'mother', 'father', 'Mother ', 'SPOUSE', 'FRIEND', 'Spouse ',\n",
       "       'WIfe', 'Father ', 'Spouse', 'child', nan, 'Parent', 'wife',\n",
       "       'Wife ', 'Son ', 'spouse', 'doughter', 'CHILD', 'ParentChild',\n",
       "       'partner', 'brother', 'sister', 'MotheR', 'Friend', 'Child',\n",
       "       'Cousin', 'Dad', 'Mum', 'MOTHER', 'WIFE', 'Sister ', 'SON',\n",
       "       'BROTHER', 'FATHER', 'aunt ', 'Grandmother', 'HUSBAND', 'self',\n",
       "       'husband', 'husband ', 'Owner', ' Grand daughter', 'Nephew',\n",
       "       'SP0USE', 'Self', 'parent', 'SISTER', 'NIECE', 'Niece', 'daughter',\n",
       "       'Sibling', 'DAUGHTER', 'AUNT', 'brother ', '254701361835',\n",
       "       'Parent ', 'daughter ', 'FAITHER', 'Family ', 'SPOUSE ',\n",
       "       'Sibling ', 'PARENT', 'CONFIDANT', 'MUM', 'DAD', 'wife ', 'family',\n",
       "       'Trustee ', 'son ', 'mother ', 'MOTHER ', 'friend', 'spouse ',\n",
       "       'S0N', 'SISTER ', 'FATHER ', 'father ', 'FAMILY ', 'WifE',\n",
       "       'Partner ', 'daugther', '1226805243;130143346', 'relative',\n",
       "       'BROTHER ', 'Daighter', 'Advisor', 'SON ', 'AUNTIE', 'FIANCEE',\n",
       "       'Fiancee', 'DOUGHTER', 'parent ', 'HUSBAND ', 'DAUGHTER ', 'SELF',\n",
       "       'MOther', 'mOTHER', 'Aunt', 'Grandparent', 'Bother ', 'SO',\n",
       "       'married', 'MARRIED', 'FIANCE', 'Doughter ', 'Guardian ',\n",
       "       'ASS0CIATE', 'sibling', 'fiance', 'Sistet', 'Grandson', 'Doughter',\n",
       "       'DAUGTHER', 'wIFE', 'Bro', 'PARTNER', 'B INLAW', 'GUARDIAN',\n",
       "       'daughte', 'Mom', 'COUSIN', 'GRANDMA', 'aunt', 'Domestic Partner',\n",
       "       'PATNER', 'me', 'MENTOR', 'UNCLE', 'Sis', 'SiBLING', 'GRAND SON',\n",
       "       'Fiance ', 'KID', 'SIBLING', 'GRANDSON', 'Nephew ', '-', 'Cousin ',\n",
       "       'DAUGHETR', 'Person', 's0n', 'na', 'myson', 'PARTNER ', 'Bishop',\n",
       "       'nephew', 'mwas', 'Mothers', 'Friend ', 'Child ', 'daughter33',\n",
       "       'CLOSE FRIEND', 'hUSBAND', 'CLOSEFRIEND', 'Boyfriend ',\n",
       "       'dependant', 'WIFE ', 'MARRIAGE', 'GRAND DAUGHTER', 'DAUGHER',\n",
       "       'Niece ', 'granddaughter', 'grandson', 'DAUGHTER/CHILD',\n",
       "       'RELATIVE', 'mum', 'single', 'Self ', 'sister ', 'Mother TO SON',\n",
       "       'Grandfather', 'DAD ', 'Relative', 'Daughter-in-law ',\n",
       "       'GRANDMOTHER', 'child ', '15', 'DaD', 'GIRLFRIEND', 'FAMILY',\n",
       "       'Uncle ', 'SiNGLE', 'SINGLE', 'fiancee', 'FaMILY', 'BENEFICIARY',\n",
       "       'OWNER', 'Relative ', 'GRANDDAUGHTER', ' Spouse', 'uncle',\n",
       "       'Married ', 'chil', 'CHILD MINOR', '33', 'NEPHEW', 'JOINT PARTNER',\n",
       "       'MOTHERS ', 'Fiancé ', 'Others ', 'Grand daughter',\n",
       "       'DAUGHTER-IN-LAW', 'Na', 'CHILD ', 'SPIRITUAL FATHER', 'COUSN',\n",
       "       'DEPEDANT', 'Estate', 'Uncle', 'sISTER', 'sisiter', ' BROTHER',\n",
       "       'Granddaughter ', 'BRother', 'Aunt ', 'cousin', 'Baby', 'Morher',\n",
       "       'MOM', 'God mother', 'GRANDSON ', 'Husband/spouse', 'SPOUCE',\n",
       "       'uncle ', 'FRIEND ', 'Single', 'Vhild', 'Patner', 'Spouce',\n",
       "       'Family', 'SoN', 'SisteR', 'AUNTY', 'FATHER-IN-LAW', 'SonS', '0',\n",
       "       'MO9', 'Fiance', '33.4', 'CHILF', '254727756559', '0720401466',\n",
       "       'GRAND FATHER', 'PRINCIPAL', 'Guardian', 'JUNIOR',\n",
       "       'DGRAND DAUGHTER', 'COWORKER', 'GRAND MOTHER', 'D100', 'NMO',\n",
       "       'BUSINESS PARTNER', 'GURDIAN', '2021', 'MotH', 'MoM', 'UN,CLE',\n",
       "       'GRAND CHILD', 'Sister in law', 'Grand Daughter', 'COMAPANION',\n",
       "       'BOYFRIEND', 'EX-WIFE', 'GRANDDAUGTER', 'PARNT', 'M', 'F', 'Chils',\n",
       "       ';SON', 'GUARDINA', 'NiecE', 'Brother-IN-LAW', 'Member',\n",
       "       'Grand mother', 'ADMINISTRATOR', 'VM', 'GRANDFATHER', 'GIRLFRIED',\n",
       "       'Brestfriend', 'Finance', 'SIS', 'Daughter in law', 'children',\n",
       "       'Girlfriend', 'COLLEAGUE', 'TRUSTEE', '254708368426', 'Colleague',\n",
       "       'Sister-IN-LAW', 'GRAND-DAUGHTER', 'GRANNY', 'GRANDCHILD', \"'M\",\n",
       "       'spouce', 'SiLBLING', 'Siblings', 'Step-mother', 'Aunty', 'FREINF',\n",
       "       '50', '100', '254723993458', 'Cousins', 'Cousins ', 'ASSOCIATE',\n",
       "       'Fiane', 'guardian', 'Guadian', 'Confidant', 'Auntie', 'GRANDPA',\n",
       "       'mom', 'Brother in Law', 'BUSINESS PARTNER ', 'Spuose',\n",
       "       'Business Partner', 'Dating', 'IN LAW', 'STEP-MOM', 'Son/Brother',\n",
       "       'Chid', 'Granddaughter', 'niece', 'Son/SISTER', 'Grand Son',\n",
       "       'BrotheR', \"Nolan's Guardian\", \"Xena's Guardian\", 'Sister-in law',\n",
       "       'PARENTS', 'c/o', 'STEP MOTHER', 'NiCE', 'Ciru', 'DEPENDANT',\n",
       "       'som', 'GUARDIAN ', 'Dau`', 'Kid', 'PARENT ', 'CHILDREN',\n",
       "       'partner ', 'CLOUSIN', '19112004', 'twinsister', 'MINOR',\n",
       "       'Sister- Custodian', 'GRANSON', 'COMPANION', 'ENGAGED',\n",
       "       'WELL WISHER', 'PARNER', 'GRANCHILD', 'Trustee', 'Next of kin',\n",
       "       'SIIBLING', 'SIBLINGS', 'Foster daughter', 'ADMINSTRATOR',\n",
       "       'IN-LAW', 'Boyfriend', 'NepheW', 'EMPLOYEE', 'DIRECTORS',\n",
       "       'RELIGIOUS COMMUNITY', 'CUSTODIAN', 'C/O ARIANNA', 'Sister IN LAW',\n",
       "       'spose', 'SPAUSE', 'MEMBER', 'DomesticPartner', 'Grand-daughter',\n",
       "       'Brother-in-law', 'STEP-BROTHER', 'Mother to Evan', 'Sister-Inlaw',\n",
       "       'BUS. PARTNER', 'Sister(Guardian)', 'CONTACT PERSON', 'FatheR',\n",
       "       'Brother in law', 'Parwnt', 'M,', 'Sister-GUARDIAN', 'Grand Child',\n",
       "       'GODMOTHER', 'Sister-Guardian', 'Mother- Guardian', 'Grandchild',\n",
       "       'Grand son', 'CHLD', 'GRAND.DAUGHTER', 'GRAND-MOTHER', 'Parents',\n",
       "       'EX WIFE', 'Sister - Guardian', 'Step-Mother', 'FOSTER DAUGHTER',\n",
       "       'Grand-mother', 'God Mother', 'Mother-in-law', 'MEMBER ',\n",
       "       'B/S PARTNER', 'LAWYER', 'GRAND-SON', 'parents', 'Stepson',\n",
       "       'Contingent', 'grandmother', 'G/Daughter', 'Brother and sister',\n",
       "       'Sibbling', ' ', 'COUSIN ', 'DaughteR', 'SPUOSE', 'CHIILD',\n",
       "       'DSPOUSE', 'Executor', 'HU', 'EWIFE', 'SPOUDSE', 'SoPOUSE',\n",
       "       'grandchild', 'ChILD', '9266025', 'PARE NT', '254700442162',\n",
       "       'BEST FRIEND', 'SISTER IN LAW ', 'mather', 'SAVING PARTNER ',\n",
       "       'AUNTIE ', 'ParenChild', 'GIRLFRIEND ', 'SINGLE ', 'Parentchild',\n",
       "       'parentchild', 'SPOUSE20', 'Myself', 'FIACEE', 'SD',\n",
       "       'Grand mother ', 'Mother of child', 'Childnephew', 'FATH ',\n",
       "       'MY SON', 'BabyMother', 'CHID', 'GIRL FRIEND', 'chils', 'self ',\n",
       "       \"Mother's \", 'Mum ', 'aunty', 'SPouse', 'Auntie ', 'ChiLD',\n",
       "       'grandmother ', 'Grand daughter ', 'auntie', 'baby mama ', 'DA',\n",
       "       'BrOther', 'Fiancee ', 'In law', 'Colleague ', 'WiFE', 'owner',\n",
       "       'sON', 'Mather', 'Dauhgter', 'myself', 'Hubby', 'Sister in-law',\n",
       "       'Aunty ', 'Foster parent', 'grandson ', 'Wife/Guardian',\n",
       "       '21761402', 'GUARDIAN-MOTHER'], dtype=object)"
      ]
     },
     "execution_count": 17,
     "metadata": {},
     "output_type": "execute_result"
    }
   ],
   "source": [
    "#checking for unique values in relationship column\n",
    "df.relationship.unique()"
   ]
  },
  {
   "cell_type": "code",
   "execution_count": 18,
   "metadata": {},
   "outputs": [
    {
     "data": {
      "text/plain": [
       "\"mother                  18900 son                     18207 daughter                18010 sister                  12234 wife                    11190 husband                  9563 brother                  7768 father                   6738 spouse                   3311 child                    1567 parent                    627 friend                    393 niece                     369 nephew                    313 cousin                    309 aunt                      220 partner                   203 sibling                   199 fiance                    137 guardian                  117 fiancee                   100 uncle                      85 grandson                   74 grandmother                61 family                     51 self                       42 -                          40 estate                     39 grand daughter             31 dad                        29 granddaughter              29 mum                        27 girlfriend                 26 doughter                   25 relative                   18 boyfriend                  17 grandchild                 16 aunty                      16 business partner           15 member                     15 auntie                     14 sister in law              12 mom                        11 gurdian                    11 grandfather                11 kid                        10 so                         10 grand-daughter              9 s0n                         8 trustee                     8 grand mother                8 grand child                 7 single                      7 colleague                   7 patner                      6 spouce                      6 parents                     5 100                         5 foster daughter             4 grand son                   4 owner                       4 daughetr                    4 dependant                   4 grand-mother                4 0                           4 married                     4 na                          3 daighter                    3 daugther                    3 minor                       3 spause                      3 parentchild                 3 in law                      3 grand father                3 bus. partner                3 my son                      3 daughter-in-law             2 beneficiary                 2 1226805243;130143346        2 son/brother                 2 children                    2 grandma                     2 baby mama                   2 myself                      2 brother in law              2 cousins                     2 step-mother                 2 sis                         2 chid                        2 contact person              2 50                          2 mothers                     2 brother-in-law              2 god mother                  2 c/o arianna                 2 parner                      2 chils                       2 depedant                    2 daugher                     2 sister-guardian             2 b/s partner                 2 associate                   2 mother-in-law               2 confidant                   2 vhild                       2 vm                          2 guardina                    2 spuose                      2 ex-wife                     2 mather                      2 m                           2 granddaugter                2 close friend                2 girl friend                 2 sister in-law               2 in-law                      2 sister-in-law               2 siblings                    2 f                           1 2021                        1 godmother                   1 xena's guardian             1 sd                          1 coworker                    1 childnephew                 1 fiane                       1 mwas                        1 21761402                    1 grandpa                     1 freinf                      1 dating                      1 chld                        1 sisiter                     1 closefriend                 1 ;son                        1 stepson                     1 twinsister                  1 nice                        1 nolan's guardian            1 hubby                       1 directors                   1 sister-inlaw                1 33.4                        1 cousn                       1 254727756559                1 baby                        1 son/sister                  1 parenchild                  1 un,cle                      1 'm                          1 domestic partner            1 grand-son                   1 fiancé                      1 principal                   1 myson                       1 silbling                    1 mother's                    1 19112004                    1 grand.daughter              1 spoudse                     1 254701361835                1 lawyer                      1 person                      1 som                         1 chilf                       1 dau`                        1 mother to evan              1 custodian                   1 bishop                      1 granchild                   1 dauhgter                    1 sons                        1 254723993458                1 da                          1 moth                        1 sopouse                     1 well wisher                 1 bro                         1 fiacee                      1 brother and sister          1 daughter/child              1 joint partner               1 brestfriend                 1 wife/guardian               1 step-brother                1 ewife                       1 sister- custodian           1 sister-in law               1 marriage                    1 nmo                         1 spouse20                    1 junior                      1 babymother                  1 father-in-law               1 ciru                        1 foster parent               1 bother                      1 254708368426                1 dgrand daughter             1 granny                      1 mother to son               1 mother of child             1 contingent                  1 pare nt                     1 step-mom                    1 morher                      1 advisor                     1 clousin                     1 grandparent                 1 ex wife                     1 domesticpartner             1 finance                     1 15                          1 sister - guardian           1 administrator               1 spose                       1 hu                          1 ass0ciate                   1 chiild                      1 sistet                      1 chil                        1 guadian                     1 daughter in law             1 33                          1 c/o                         1 sister(guardian)            1 mo9                         1 parwnt                      1 daughter33                  1 others                      1 d100                        1 adminstrator                1 granson                     1 254700442162                1 saving partner              1 companion                   1 executor                    1 engaged                     1 b inlaw                     1 me                          1 fath                        1 0720401466                  1 spiritual father            1 mentor                      1 next of kin                 1 best friend                 1 sp0use                      1 step mother                 1 9266025                     1 child minor                 1 faither                     1 girlfried                   1 parnt                       1 siibling                    1 employee                    1 daughte                     1 husband/spouse              1 religious community         1 sibbling                    1 mother- guardian            1 dspouse                     1 comapanion                  1 guardian-mother             1 m,                          1 g/daughter                  1                             1\""
      ]
     },
     "execution_count": 18,
     "metadata": {},
     "output_type": "execute_result"
    }
   ],
   "source": [
    "# Convert values in the 'relationship' column to lowercase and remove any extra spaces\n",
    "df['relationship'] = df['relationship'].str.lower().str.strip()\n",
    "\n",
    "# Get the counts of each unique value in the 'relationship' column,\n",
    "# then format the output as a single line string\n",
    "df['relationship'].value_counts().to_string().replace(\"\\n\", \" \")"
   ]
  },
  {
   "cell_type": "code",
   "execution_count": 19,
   "metadata": {},
   "outputs": [
    {
     "data": {
      "text/plain": [
       "0"
      ]
     },
     "execution_count": 19,
     "metadata": {},
     "output_type": "execute_result"
    }
   ],
   "source": [
    "# Replace any missing values in the 'relationship' column with 'son'\n",
    "df['relationship'] = df['relationship'].fillna('son')\n",
    "\n",
    "# Check if there are any remaining missing values in the 'relationship' column\n",
    "df['relationship'].isna().sum()\n"
   ]
  },
  {
   "cell_type": "markdown",
   "metadata": {},
   "source": [
    "To organize and standardize relationship values in the dataset, we define categories for mapping different variations of relationship terms. This approach creates a consistent structure by grouping terms like \"spouse,\" \"child,\" \"sibling,\" etc., into predefined categories. By applying this mapping, we ensure that any variations in spelling, formatting, or synonymous terms are aligned under a single label.\n",
    "\n",
    "The following code accomplishes this by:\n",
    "\n",
    "Defining a dictionary (relationship_map) that assigns potential variations of relationship terms to specific categories.\n",
    "Creating a function (map_relationship) that checks each entry in the relationship column against the keywords in relationship_map.\n",
    "Applying this function to the column to classify each entry according to the defined categories.\n",
    "Finally, we display the count of values in each category to confirm the classification distribution."
   ]
  },
  {
   "cell_type": "code",
   "execution_count": 20,
   "metadata": {},
   "outputs": [
    {
     "name": "stdout",
     "output_type": "stream",
     "text": [
      "child           52152\n",
      "parent          26352\n",
      "partner         24578\n",
      "sibling         20240\n",
      "relative         1534\n",
      "friends           396\n",
      "other             392\n",
      "guardian          128\n",
      "professional       67\n",
      "self               49\n",
      "Name: relationship, dtype: int64\n"
     ]
    }
   ],
   "source": [
    "# Convert all entries to lower case and strip whitespace for uniformity\n",
    "df['relationship'] = df['relationship'].str.lower().str.strip()\n",
    "\n",
    "# Mapping dictionary\n",
    "relationship_map = {\n",
    "    'partner': [\n",
    "        'partner', 'spouse', 'sp0use','husband', 'wife', 'fiancee', 'ex-wife', 'spouce', 'fiancé',\n",
    "        'husband ', 'sponse', 'spouse ', 'wiFe', 'wifE', 'wife ', 'spouse', 'married', 'marriage',\n",
    "        'husband/spouse', 'ex-wife', 'fiance ', 'fiance', 'married ', 'myson', 'baby mama ',\n",
    "        'fiancee ', 'souse', 'hubby', 'dating', 'boyfriend', 'girlfriend', 'ex wife', 'boyfriend ',\n",
    "        'girlfriend ', 'wife/guardian', 'ex husband', 'girl friend', 'fiancée', 'sopouse', 'spoudse',\n",
    "        'soPOUSE', 'spause', 'sposue', 'ex husband', 'love', 'b/f', 'g/f', 'divorcee', 'ex spouse',\n",
    "        'bf', 'gf', 'b/f', 'g/f', 'fiancé ', 'domesticpartner', 'domestic partner', 'dating', 'exwife',\n",
    "        'exhusband', 'wive', 'husb', 'exspouse', 'partner ', 'significant other', 'fiancee','companion','Partner',\n",
    "        'Husband ', 'Husband',  'Wife',   'SPOUSE' , 'Spouse ', 'WIfe', 'Spouse',  'wife', 'Wife ', 'spouse', 'partner',\n",
    "        'HUSBAND', 'husband', 'husband ',  'SP0USE' , 'SPOUSE ',  'wife ',\n",
    "        'spouse ', 'Partner ' , 'FIANCEE', 'Fiancee',  'HUSBAND ',  'FIANCE', \n",
    "        'wIFE', 'PARTNER',  'Domestic Partner', 'PATNER', 'Fiance ', 'PARTNER ',  'hUSBAND',  'Boyfriend ',\n",
    "        'WIFE ', 'fiancee', 'JOINT PARTNER', 'Fiancé ' , 'Husband/spouse', 'SPOUCE',  'Patner', 'Spouce',  \n",
    "        'Fiance', 'BOYFRIEND', 'EX-WIFE',  'PARNT',  'GIRLFRIED'\n",
    "    ],\n",
    "    'child': [\n",
    "        'child', 'kid', 'daughter', 'son', 'children', 'daughter33', 'doughter', 'daugther', 'doughter ',\n",
    "        'daugther', 'son ', 'daughter ', 'child minor', 'kids', 'baby', 'infant', 'toddler', 'sonS',\n",
    "        'minor', 'child ', 'son/sister', 'chid', 'newborn', 'son/brother', 'childnephew',\n",
    "        'chils', 'chiLD', 'kID', 'dau`', 'daugher', 'childnephew', 'my son','child', 'son', 'dau', \n",
    "        'daughter', 'daughter33', 'my son', 'infant', 'childnephew', 'kids', 'baby', 'ChiLD', 'CHID',\n",
    "        'sON', 'cHILS', 'CHID', 'CHIILD', 'KID', 'FOSTER' 'DAUGHTER', 'CHILD MINOR', 'MINOR', 'CHILDREN', \n",
    "        'SOM', 'CHILDREN', 'JUNIOR', 'BABY',  'CHIL', 'DAUGHTER/CHILDDAUGHER', 'CHILF', 'DOUGHTER', 'DAIGHTER', \n",
    "        'DAUGHTE', 'DAUGHETR', 'S0N','MYSON','child','CHILD','Child ','DAUGHTER/CHILD','child ','CHILD MINOR',\n",
    "        'CHILD ','children','CHILDREN','ChILD','ChiLD'\n",
    "    ],\n",
    "    'parent': [\n",
    "        'mother', 'mom', 'mum', 'father', 'dad', 'parent', 'parents', 'mother ', 'father ', 'mOTHER',\n",
    "        'dad ', 'mum ', 'mom ', 'mummy', 'daddy', 'papa', 'mama', 'mother in law', 'father in law',\n",
    "        'mothers', 'fathers', 'moms', 'mums', 'father-in-law', 'mother-in-law', 'mommy', 'dadi', 'momi',\n",
    "        'parent ', 'mother to son', 'mother of child', 'parents', 'mother- guardian', 'father - guardian',\n",
    "        'parentchild', 'parental', 'parenthood', 'parenting', 'mother IN LAW', 'mom in law', 'dad in law',\n",
    "        'mum in law', 'parenting', 'fatherhood', 'motherhood', 'parent ', 'grandparent', 'step mother',\n",
    "        'step father', 'step-mother', 'step-father','Parent', 'Parents', 'Mother', 'Mothers', 'Mom', 'Mum', \n",
    "        'Father', 'DAD', 'Dad', 'Guardian', 'Grandmother', 'Grandfather', 'Step-mother', 'Step-father', 'Foster parent',\n",
    "        'Mother-in-law', 'Father-in-law', 'ParentChild', 'Mama', 'Mummy', 'Dadi', 'Mother TO SON', 'PARENT', 'MOther'\n",
    "    ],\n",
    "    'self': [\n",
    "        'self', 'owner', 'me', 'myself', 'self ', 'owner ', 'i', 'myself ', 'personal', 'individual',\n",
    "        'own', 'my own', 'self-employed', 'proprietor', 'me ', 'self employed', 'self own', 'personal account',\n",
    "        'my account', 'own account'\n",
    "    ],\n",
    "    'guardian': [\n",
    "        'guardian', 'custodian', 'trustee', 'guard', 'guardian ', 'custodian ', 'trustee ', 'guard ',\n",
    "        'legal guardian', 'guardianship', 'custodianship', 'trusteeship', 'protector', 'caregiver',\n",
    "        'conservator','conservator', 'foster parent', 'foster guardian', 'legal custodian', 'guardian-mother', 'guardian father'\n",
    "    ],\n",
    "    'sibling': [\n",
    "        'siblings', 'brother', 'sister', 'sibling', 'brother ', 'sister ', 'bro', 'sis', 'brothers', 'sisters',\n",
    "        'sibling ', 'brother-in-law', 'sister-in-law', 'sibling in law', 'brother and sister', 'sibbling',\n",
    "        'siBLING', 'sibblings', 'sister in law', 'brother in law', 'sister/guardian', 'sister - guardian',\n",
    "        'sister-guardian', 'bros', 'sisses', 'step-sister', 'step-brother', 'half-sister', 'half-brother', 'broski','Sister', 'Brother ','brother', 'sister',\n",
    "       'Sister ', 'SISTER','Sibling', 'brother ','Sibling ','SISTER ','Sistet', 'Bro', 'Sis', 'SiBLING',\n",
    "        'SIBLING',  's0n', 'sister ''sISTER', 'sisiter', ' BROTHER','BRother', 'SisteR', 'SIS', \n",
    "       'som',\n",
    "       'Sister- Custodian', \n",
    "       'SIIBLING', 'SIBLINGS','Brother and sister',\n",
    "       'Sibbling'\n",
    "    ],\n",
    "    'relative': [\n",
    "        'cousin', 'nephew', 'grand child', 'niece', 'grandmother', 'granddaughter', 'grandson', 'grandfather', 'uncles', 'aunties',\n",
    "        'aunt', 'uncle', 'granny', 'grandparent', 'grand child', 'relative', 'relatives', 'cousins', 'uncles',\n",
    "        'aunties', 'aunts', 'grandparents', 'great grandmother', 'great grandfather', 'grand children', 'extended family',\n",
    "        'grandmother ', 'grandfather ', 'nephew ', 'niece ', 'cousin ', 'aunt ', 'uncle ', 'granny ', 'granddaughter ',\n",
    "        'grandson ', 'grandchild', 'grandchild ', 'grandchildren', 'grandkids', 'great grandparent', 'ancestors', 'descendants',\n",
    "        'kin', 'kinship', 'next of kin', 'in-laws', 'inlaw', 'in laws', 'extended relatives', 'b inlaw', 'in law','family tree', 'Cousin', ' Grand daughter', 'Nephew', 'NIECE', 'Niece', 'AUNT', 'relative', 'AUNTIE', 'B INLAW', 'COUSIN', 'aunt', 'UNCLE', 'GRAND SON', 'Nephew ', 'Cousin ', 'nephew', 'GRAND DAUGHTER', 'Niece ', 'granddaughter', 'grandson', 'RELATIVE', 'Daughter-in-law ', 'GRANDMOTHER', 'Relative ', 'uncle',\n",
    "'NEPHEW', 'Grand daughter', 'DAUGHTER-IN-LAW', 'COUSN', 'Uncle', 'Granddaughter ', 'Aunt ', 'cousin', 'GRANDSON ', 'uncle ', 'AUNTY', 'FATHER-IN-LAW', 'GRAND FATHER', 'DGRAND DAUGHTER', 'GRAND MOTHER', 'UN,CLE', 'GRAND CHILD', 'Sister in law', 'Grand Daughter', 'GRANDDAUGTER', 'NiecE', 'Brother-IN-LAW', 'Grand mother', 'GRANDFATHER', 'Daughter in law', 'Sister-IN-LAW', 'GRAND-DAUGHTER', 'GRANNY', \n",
    "'GRANDCHILD', 'Aunty', 'Cousins', 'Cousins ', 'Auntie', 'GRANDPA', 'Brother in Law', 'IN LAW', 'Granddaughter', 'niece', 'Grand Son', 'Sister-in law', 'CLOUSIN', 'GRANSON', 'Sister IN LAW', 'Brother-in-law', 'Sister-Inlaw', 'Brother in law', 'GRAND-MOTHER', 'Grand-mother', 'Mother-in-law', 'SISTER IN LAW ', 'Grand mother ', 'Childnephew', 'Grand daughter ', 'auntie', 'In law', 'Sister in-law', 'Aunty '\n",
    "    ],\n",
    "    'friends': ['friend','closefriend', 'confidant', 'friend ',\n",
    "        'peers', 'acquaintance', 'comrade', 'pal', 'buddy', 'mate', 'fellow', 'ally', 'supporter',\n",
    "        'confidante', 'friend of the family', 'family friend',\n",
    "        'peer', 'companion', 'companions'\n",
    "    ],\n",
    "    'professional':['colleague', 'coworker', 'partner in law',\n",
    "        'associate', 'advisor', 'mentor', 'colleague ', 'coworker ',\n",
    "        'associate ', 'colleague', 'professional', 'mentor', 'adviser', 'counselor', 'legal representative', 'executor', 'business partner',\n",
    "        'co-worker', 'workmate', 'teammate',\n",
    "        'partner in business', 'business associate', 'collaborator', 'collegue','estate'\n",
    "    ],\n",
    "    'other': ['spiritual advisor','sponsor'\n",
    "    ]\n",
    "}\n",
    "\n",
    "# Function to apply the mapping\n",
    "def map_relationship(value):\n",
    "    for category, keywords in relationship_map.items():\n",
    "        if any(keyword == value for keyword in keywords):\n",
    "            return category\n",
    "    return 'other'  # Default category if no matches found\n",
    "\n",
    "# Apply the mapping function to the 'relationship' column\n",
    "df['relationship'] = df['relationship'].apply(map_relationship)\n",
    "\n",
    "# Show the value counts of each category\n",
    "print(df['relationship'].value_counts())"
   ]
  },
  {
   "cell_type": "code",
   "execution_count": 21,
   "metadata": {},
   "outputs": [
    {
     "data": {
      "text/plain": [
       "Index(['member_no', 'dob', 'gender', 'town', 'relationship', 'beneficiery_dob',\n",
       "       'portfolio'],\n",
       "      dtype='object')"
      ]
     },
     "execution_count": 21,
     "metadata": {},
     "output_type": "execute_result"
    }
   ],
   "source": [
    "#checking the columns in the dataframe\n",
    "df.columns"
   ]
  },
  {
   "cell_type": "code",
   "execution_count": 22,
   "metadata": {},
   "outputs": [
    {
     "data": {
      "text/plain": [
       "Female    83178\n",
       "Male      42480\n",
       "F            92\n",
       "M            48\n",
       "FEMALE        4\n",
       "MALE          4\n",
       "Name: gender, dtype: int64"
      ]
     },
     "execution_count": 22,
     "metadata": {},
     "output_type": "execute_result"
    }
   ],
   "source": [
    "#inspecting the value_counts in the gender column\n",
    "df.gender.value_counts()"
   ]
  },
  {
   "cell_type": "code",
   "execution_count": 23,
   "metadata": {},
   "outputs": [
    {
     "data": {
      "text/plain": [
       "82"
      ]
     },
     "execution_count": 23,
     "metadata": {},
     "output_type": "execute_result"
    }
   ],
   "source": [
    "#checking for null values\n",
    "df.gender.isna().sum()"
   ]
  },
  {
   "cell_type": "code",
   "execution_count": 24,
   "metadata": {},
   "outputs": [
    {
     "data": {
      "text/plain": [
       "0"
      ]
     },
     "execution_count": 24,
     "metadata": {},
     "output_type": "execute_result"
    }
   ],
   "source": [
    "#fill the null values with the 'Female' gender\n",
    "df['gender']=df.gender.fillna('Female')\n",
    "df['gender'].isna().sum()"
   ]
  },
  {
   "cell_type": "markdown",
   "metadata": {},
   "source": [
    "To standardize entries in the gender column, we create a dictionary to map various formats of \"Male\" and \"Female\" into consistent labels. This step ensures uniformity across the dataset, which is essential for accurate analysis.\n",
    "\n",
    "The process involves:\n",
    "\n",
    "Defining a gender_map dictionary where different versions of \"Male\" and \"Female\" are assigned to a single, standardized label.\n",
    "Using the replace function to apply this mapping to the gender column and store the cleaned values in a new column, gender_mapped.\n",
    "This streamlined approach produces a clean and uniform gender_mapped column ready for analysis."
   ]
  },
  {
   "cell_type": "code",
   "execution_count": 25,
   "metadata": {},
   "outputs": [],
   "source": [
    "gender_map = {\n",
    "    'Female':'Female','F':'Female','FEMALE':'Female',\n",
    "    'Male':'Male','M':'Male','MALE':'Male',\n",
    "}\n",
    "\n",
    "df['gender_mapped'] = df['gender'].replace(gender_map)"
   ]
  },
  {
   "cell_type": "code",
   "execution_count": 26,
   "metadata": {},
   "outputs": [
    {
     "data": {
      "text/html": [
       "<div>\n",
       "<style scoped>\n",
       "    .dataframe tbody tr th:only-of-type {\n",
       "        vertical-align: middle;\n",
       "    }\n",
       "\n",
       "    .dataframe tbody tr th {\n",
       "        vertical-align: top;\n",
       "    }\n",
       "\n",
       "    .dataframe thead th {\n",
       "        text-align: right;\n",
       "    }\n",
       "</style>\n",
       "<table border=\"1\" class=\"dataframe\">\n",
       "  <thead>\n",
       "    <tr style=\"text-align: right;\">\n",
       "      <th></th>\n",
       "      <th>member_no</th>\n",
       "      <th>dob</th>\n",
       "      <th>gender</th>\n",
       "      <th>town</th>\n",
       "      <th>relationship</th>\n",
       "      <th>beneficiery_dob</th>\n",
       "      <th>portfolio</th>\n",
       "      <th>gender_mapped</th>\n",
       "    </tr>\n",
       "  </thead>\n",
       "  <tbody>\n",
       "    <tr>\n",
       "      <th>0</th>\n",
       "      <td>99996</td>\n",
       "      <td>1998-04-06 00:00:00</td>\n",
       "      <td>Female</td>\n",
       "      <td>NAIROBI</td>\n",
       "      <td>partner</td>\n",
       "      <td>1998-01-26</td>\n",
       "      <td>Money Market</td>\n",
       "      <td>Female</td>\n",
       "    </tr>\n",
       "    <tr>\n",
       "      <th>14</th>\n",
       "      <td>99996</td>\n",
       "      <td>1998-04-06 00:00:00</td>\n",
       "      <td>Female</td>\n",
       "      <td>NAIROBI</td>\n",
       "      <td>sibling</td>\n",
       "      <td>2001-03-04</td>\n",
       "      <td>Money Market</td>\n",
       "      <td>Female</td>\n",
       "    </tr>\n",
       "    <tr>\n",
       "      <th>28</th>\n",
       "      <td>99994</td>\n",
       "      <td>1966-01-01 00:00:00</td>\n",
       "      <td>Female</td>\n",
       "      <td>NaN</td>\n",
       "      <td>partner</td>\n",
       "      <td>1962-01-01</td>\n",
       "      <td>Money Market</td>\n",
       "      <td>Female</td>\n",
       "    </tr>\n",
       "    <tr>\n",
       "      <th>40</th>\n",
       "      <td>99993</td>\n",
       "      <td>1974-01-01 00:00:00</td>\n",
       "      <td>Female</td>\n",
       "      <td>NAIROBI</td>\n",
       "      <td>partner</td>\n",
       "      <td>1970-09-29</td>\n",
       "      <td>Money Market</td>\n",
       "      <td>Female</td>\n",
       "    </tr>\n",
       "    <tr>\n",
       "      <th>70</th>\n",
       "      <td>99993</td>\n",
       "      <td>1974-01-01 00:00:00</td>\n",
       "      <td>Female</td>\n",
       "      <td>NAIROBI</td>\n",
       "      <td>child</td>\n",
       "      <td>1994-01-01</td>\n",
       "      <td>Money Market</td>\n",
       "      <td>Female</td>\n",
       "    </tr>\n",
       "  </tbody>\n",
       "</table>\n",
       "</div>"
      ],
      "text/plain": [
       "    member_no                  dob  gender     town relationship  \\\n",
       "0       99996  1998-04-06 00:00:00  Female  NAIROBI      partner   \n",
       "14      99996  1998-04-06 00:00:00  Female  NAIROBI      sibling   \n",
       "28      99994  1966-01-01 00:00:00  Female      NaN      partner   \n",
       "40      99993  1974-01-01 00:00:00  Female  NAIROBI      partner   \n",
       "70      99993  1974-01-01 00:00:00  Female  NAIROBI        child   \n",
       "\n",
       "   beneficiery_dob     portfolio gender_mapped  \n",
       "0       1998-01-26  Money Market        Female  \n",
       "14      2001-03-04  Money Market        Female  \n",
       "28      1962-01-01  Money Market        Female  \n",
       "40      1970-09-29  Money Market        Female  \n",
       "70      1994-01-01  Money Market        Female  "
      ]
     },
     "execution_count": 26,
     "metadata": {},
     "output_type": "execute_result"
    }
   ],
   "source": [
    "#inspecting the cleaned df\n",
    "df.head()"
   ]
  },
  {
   "cell_type": "code",
   "execution_count": 27,
   "metadata": {},
   "outputs": [
    {
     "data": {
      "text/plain": [
       "1962-01-01             541\n",
       "1960-01-01             360\n",
       "1968-01-01             320\n",
       "1974-01-01             311\n",
       "1970-01-01             311\n",
       "                      ... \n",
       "1970-04-13               1\n",
       "1960-09-02               1\n",
       "2004-01-14               1\n",
       "1958-04-29               1\n",
       "2000-02-29 21:00:00      1\n",
       "Name: dob, Length: 19092, dtype: int64"
      ]
     },
     "execution_count": 27,
     "metadata": {},
     "output_type": "execute_result"
    }
   ],
   "source": [
    "#age distribution based on dob(date of birth)\n",
    "df.dob.value_counts()"
   ]
  },
  {
   "cell_type": "code",
   "execution_count": 28,
   "metadata": {},
   "outputs": [
    {
     "data": {
      "text/plain": [
       "1899-12-30             1854\n",
       "1962-01-01              584\n",
       "1970-01-01              562\n",
       "1960-01-01              488\n",
       "1963-01-01              475\n",
       "                       ... \n",
       "1989-11-12 00:00:00       1\n",
       "1952-11-06                1\n",
       "1988-06-10 00:00:00       1\n",
       "1952-12-05                1\n",
       "1983-05-22 00:00:00       1\n",
       "Name: beneficiery_dob, Length: 27488, dtype: int64"
      ]
     },
     "execution_count": 28,
     "metadata": {},
     "output_type": "execute_result"
    }
   ],
   "source": [
    "#age distribution based on beneficiary_dob(date of birth)\n",
    "df.beneficiery_dob.value_counts()"
   ]
  },
  {
   "cell_type": "code",
   "execution_count": 29,
   "metadata": {},
   "outputs": [
    {
     "data": {
      "text/plain": [
       "0"
      ]
     },
     "execution_count": 29,
     "metadata": {},
     "output_type": "execute_result"
    }
   ],
   "source": [
    "#fill with the modal age\n",
    "df['dob'] = df.dob.fillna('1962-01-01')\n",
    "df.dob.isna().sum()"
   ]
  },
  {
   "cell_type": "markdown",
   "metadata": {},
   "source": [
    "---\n",
    "\n",
    "To compute ages from the dates of birth in our dataset, we:\n",
    "\n",
    "1. **Convert Dates of Birth:** The `dob` and `beneficiery_dob` columns are first converted to datetime format to ensure proper date handling. If a date cannot be converted, it is set to `NaT` (missing).\n",
    "  \n",
    "2. **Define Age Calculation Function:** A helper function, `calculate_age`, computes the age by subtracting the birth year from the current year and adjusting for birthdays that have not yet occurred this year.\n",
    "\n",
    "3. **Apply Function to Columns:** The function is applied to both `dob` and `beneficiery_dob` to create two new columns: `member_age` and `beneficiery_age`, which store the calculated ages.\n",
    "\n",
    "Finally, the resulting columns are previewed to verify successful age computation."
   ]
  },
  {
   "cell_type": "code",
   "execution_count": 30,
   "metadata": {},
   "outputs": [
    {
     "name": "stdout",
     "output_type": "stream",
     "text": [
      "          dob  member_age beneficiery_dob  beneficiery_age\n",
      "0  1998-04-06          26      1998-01-26             26.0\n",
      "14 1998-04-06          26      2001-03-04             23.0\n",
      "28 1966-01-01          58      1962-01-01             62.0\n",
      "40 1974-01-01          50      1970-09-29             54.0\n",
      "70 1974-01-01          50      1994-01-01             30.0\n"
     ]
    }
   ],
   "source": [
    "# Convert the dob column to datetime format\n",
    "df['dob'] = pd.to_datetime(df['dob'], errors='coerce')\n",
    "\n",
    "# Function to calculate age\n",
    "def calculate_age(birth_date):\n",
    "    if pd.isnull(birth_date):\n",
    "        return None\n",
    "    today = datetime.today()\n",
    "    return today.year - birth_date.year - ((today.month, today.day) < (birth_date.month, birth_date.day))\n",
    "\n",
    "# Apply the function to calculate member age\n",
    "df['member_age'] = df['dob'].apply(calculate_age)\n",
    "\n",
    "# Convert beneficiery_dob column to datetime and calculate beneficiary age similarly\n",
    "df['beneficiery_dob'] = pd.to_datetime(df['beneficiery_dob'], errors='coerce')\n",
    "df['beneficiery_age'] = df['beneficiery_dob'].apply(calculate_age)\n",
    "\n",
    "# Check results\n",
    "print(df[['dob', 'member_age', 'beneficiery_dob', 'beneficiery_age']].head())"
   ]
  },
  {
   "cell_type": "code",
   "execution_count": 31,
   "metadata": {},
   "outputs": [
    {
     "data": {
      "text/plain": [
       "count    111951.000000\n",
       "mean         37.961296\n",
       "std          22.107604\n",
       "min        -178.000000\n",
       "25%          24.000000\n",
       "50%          36.000000\n",
       "75%          53.000000\n",
       "max         329.000000\n",
       "Name: beneficiery_age, dtype: float64"
      ]
     },
     "execution_count": 31,
     "metadata": {},
     "output_type": "execute_result"
    }
   ],
   "source": [
    "# Display summary statistics for the 'beneficiery_age' column to understand the age distribution of beneficiaries\n",
    "df.beneficiery_age.describe()"
   ]
  },
  {
   "cell_type": "code",
   "execution_count": 32,
   "metadata": {},
   "outputs": [
    {
     "data": {
      "text/plain": [
       "Money Market     119710\n",
       "Equity Fund        2014\n",
       "Dollar Fund        1480\n",
       "Balanced Fund      1180\n",
       "Fixed Income       1101\n",
       "Wealth Fund         398\n",
       "MoneyMarket           1\n",
       "Name: portfolio, dtype: int64"
      ]
     },
     "execution_count": 32,
     "metadata": {},
     "output_type": "execute_result"
    }
   ],
   "source": [
    "#display the portfolio allocation \n",
    "df.portfolio.value_counts()"
   ]
  },
  {
   "cell_type": "code",
   "execution_count": 33,
   "metadata": {},
   "outputs": [
    {
     "data": {
      "text/plain": [
       "0"
      ]
     },
     "execution_count": 33,
     "metadata": {},
     "output_type": "execute_result"
    }
   ],
   "source": [
    "#fill with the mode\n",
    "df['portfolio']=df.portfolio.fillna('Money Market')\n",
    "df.portfolio.isna().sum()"
   ]
  },
  {
   "cell_type": "markdown",
   "metadata": {},
   "source": [
    "---\n",
    "\n",
    "1. **Portfolio Mapping:** It defines a dictionary (`portfolio_map`) that standardizes various portfolio names in the `portfolio` column. For instance, entries like \"Money Mrket\" and \"MoneyMarket\" are all mapped to \"Money Market,\" ensuring consistency across the dataset.\n",
    "\n",
    "2. **Replace Portfolio Values:** The `replace` function is then applied to the `portfolio` column, replacing any of the portfolio variations with their standardized labels as defined in the `portfolio_map` dictionary.\n",
    "\n",
    "3. **Create New Column:** The standardized portfolio names are saved in a new column, `portfolio_map`, in the dataframe.\n",
    "\n"
   ]
  },
  {
   "cell_type": "code",
   "execution_count": 34,
   "metadata": {},
   "outputs": [],
   "source": [
    "#clean up the portfolio column\n",
    "portfolio_map ={\n",
    "    'Money Mrket':'Money Market','MoneyMarket':'Money Market',\n",
    "    'Equity Fund':'Equity Fund',\n",
    "    'Dollar Fund':'Dollar Fund',\n",
    "    'Balanced Fund':'Balanced Fund',\n",
    "    'Fixed Income':'Fixed Income',\n",
    "    'Wealth Fund':'Wealth Fund',\n",
    "}\n",
    "df['portfolio_map'] = df['portfolio'].replace(portfolio_map)"
   ]
  },
  {
   "cell_type": "code",
   "execution_count": 35,
   "metadata": {},
   "outputs": [
    {
     "data": {
      "text/html": [
       "<div>\n",
       "<style scoped>\n",
       "    .dataframe tbody tr th:only-of-type {\n",
       "        vertical-align: middle;\n",
       "    }\n",
       "\n",
       "    .dataframe tbody tr th {\n",
       "        vertical-align: top;\n",
       "    }\n",
       "\n",
       "    .dataframe thead th {\n",
       "        text-align: right;\n",
       "    }\n",
       "</style>\n",
       "<table border=\"1\" class=\"dataframe\">\n",
       "  <thead>\n",
       "    <tr style=\"text-align: right;\">\n",
       "      <th></th>\n",
       "      <th>member_no</th>\n",
       "      <th>dob</th>\n",
       "      <th>gender</th>\n",
       "      <th>town</th>\n",
       "      <th>relationship</th>\n",
       "      <th>beneficiery_dob</th>\n",
       "      <th>portfolio</th>\n",
       "      <th>gender_mapped</th>\n",
       "      <th>member_age</th>\n",
       "      <th>beneficiery_age</th>\n",
       "      <th>portfolio_map</th>\n",
       "    </tr>\n",
       "  </thead>\n",
       "  <tbody>\n",
       "    <tr>\n",
       "      <th>0</th>\n",
       "      <td>99996</td>\n",
       "      <td>1998-04-06</td>\n",
       "      <td>Female</td>\n",
       "      <td>NAIROBI</td>\n",
       "      <td>partner</td>\n",
       "      <td>1998-01-26</td>\n",
       "      <td>Money Market</td>\n",
       "      <td>Female</td>\n",
       "      <td>26</td>\n",
       "      <td>26.0</td>\n",
       "      <td>Money Market</td>\n",
       "    </tr>\n",
       "    <tr>\n",
       "      <th>14</th>\n",
       "      <td>99996</td>\n",
       "      <td>1998-04-06</td>\n",
       "      <td>Female</td>\n",
       "      <td>NAIROBI</td>\n",
       "      <td>sibling</td>\n",
       "      <td>2001-03-04</td>\n",
       "      <td>Money Market</td>\n",
       "      <td>Female</td>\n",
       "      <td>26</td>\n",
       "      <td>23.0</td>\n",
       "      <td>Money Market</td>\n",
       "    </tr>\n",
       "    <tr>\n",
       "      <th>28</th>\n",
       "      <td>99994</td>\n",
       "      <td>1966-01-01</td>\n",
       "      <td>Female</td>\n",
       "      <td>NaN</td>\n",
       "      <td>partner</td>\n",
       "      <td>1962-01-01</td>\n",
       "      <td>Money Market</td>\n",
       "      <td>Female</td>\n",
       "      <td>58</td>\n",
       "      <td>62.0</td>\n",
       "      <td>Money Market</td>\n",
       "    </tr>\n",
       "    <tr>\n",
       "      <th>40</th>\n",
       "      <td>99993</td>\n",
       "      <td>1974-01-01</td>\n",
       "      <td>Female</td>\n",
       "      <td>NAIROBI</td>\n",
       "      <td>partner</td>\n",
       "      <td>1970-09-29</td>\n",
       "      <td>Money Market</td>\n",
       "      <td>Female</td>\n",
       "      <td>50</td>\n",
       "      <td>54.0</td>\n",
       "      <td>Money Market</td>\n",
       "    </tr>\n",
       "    <tr>\n",
       "      <th>70</th>\n",
       "      <td>99993</td>\n",
       "      <td>1974-01-01</td>\n",
       "      <td>Female</td>\n",
       "      <td>NAIROBI</td>\n",
       "      <td>child</td>\n",
       "      <td>1994-01-01</td>\n",
       "      <td>Money Market</td>\n",
       "      <td>Female</td>\n",
       "      <td>50</td>\n",
       "      <td>30.0</td>\n",
       "      <td>Money Market</td>\n",
       "    </tr>\n",
       "  </tbody>\n",
       "</table>\n",
       "</div>"
      ],
      "text/plain": [
       "    member_no        dob  gender     town relationship beneficiery_dob  \\\n",
       "0       99996 1998-04-06  Female  NAIROBI      partner      1998-01-26   \n",
       "14      99996 1998-04-06  Female  NAIROBI      sibling      2001-03-04   \n",
       "28      99994 1966-01-01  Female      NaN      partner      1962-01-01   \n",
       "40      99993 1974-01-01  Female  NAIROBI      partner      1970-09-29   \n",
       "70      99993 1974-01-01  Female  NAIROBI        child      1994-01-01   \n",
       "\n",
       "       portfolio gender_mapped  member_age  beneficiery_age portfolio_map  \n",
       "0   Money Market        Female          26             26.0  Money Market  \n",
       "14  Money Market        Female          26             23.0  Money Market  \n",
       "28  Money Market        Female          58             62.0  Money Market  \n",
       "40  Money Market        Female          50             54.0  Money Market  \n",
       "70  Money Market        Female          50             30.0  Money Market  "
      ]
     },
     "execution_count": 35,
     "metadata": {},
     "output_type": "execute_result"
    }
   ],
   "source": [
    "#check the new_df\n",
    "df.head()"
   ]
  },
  {
   "cell_type": "code",
   "execution_count": 36,
   "metadata": {},
   "outputs": [
    {
     "data": {
      "text/plain": [
       "15026"
      ]
     },
     "execution_count": 36,
     "metadata": {},
     "output_type": "execute_result"
    }
   ],
   "source": [
    "#inspecting the null values in the town column\n",
    "df.town.isna().sum()"
   ]
  },
  {
   "cell_type": "code",
   "execution_count": 37,
   "metadata": {},
   "outputs": [
    {
     "data": {
      "text/plain": [
       "NAIROBI              56997\n",
       "Nairobi              10261\n",
       "THIKA                 3000\n",
       "NAKURU                2608\n",
       "MOMBASA               2440\n",
       "                     ...  \n",
       "LAARE                    1\n",
       "KAP                      1\n",
       "KHAYEGA                  1\n",
       "GITHURAI                 1\n",
       "BURUBURU NAIROBI         1\n",
       "Name: town, Length: 973, dtype: int64"
      ]
     },
     "execution_count": 37,
     "metadata": {},
     "output_type": "execute_result"
    }
   ],
   "source": [
    "#inspecting the value_counts in the town column\n",
    "df.town.value_counts()"
   ]
  },
  {
   "cell_type": "code",
   "execution_count": 38,
   "metadata": {},
   "outputs": [
    {
     "data": {
      "text/plain": [
       "0"
      ]
     },
     "execution_count": 38,
     "metadata": {},
     "output_type": "execute_result"
    }
   ],
   "source": [
    "#fill the null values with unknown\n",
    "df['town'] = df.town.fillna('Unknown')\n",
    "df.town.isna().sum()"
   ]
  },
  {
   "cell_type": "code",
   "execution_count": 39,
   "metadata": {},
   "outputs": [
    {
     "data": {
      "text/html": [
       "<div>\n",
       "<style scoped>\n",
       "    .dataframe tbody tr th:only-of-type {\n",
       "        vertical-align: middle;\n",
       "    }\n",
       "\n",
       "    .dataframe tbody tr th {\n",
       "        vertical-align: top;\n",
       "    }\n",
       "\n",
       "    .dataframe thead th {\n",
       "        text-align: right;\n",
       "    }\n",
       "</style>\n",
       "<table border=\"1\" class=\"dataframe\">\n",
       "  <thead>\n",
       "    <tr style=\"text-align: right;\">\n",
       "      <th></th>\n",
       "      <th>member_no</th>\n",
       "      <th>dob</th>\n",
       "      <th>gender</th>\n",
       "      <th>town</th>\n",
       "      <th>relationship</th>\n",
       "      <th>beneficiery_dob</th>\n",
       "      <th>portfolio</th>\n",
       "      <th>gender_mapped</th>\n",
       "      <th>member_age</th>\n",
       "      <th>beneficiery_age</th>\n",
       "      <th>portfolio_map</th>\n",
       "    </tr>\n",
       "  </thead>\n",
       "  <tbody>\n",
       "    <tr>\n",
       "      <th>0</th>\n",
       "      <td>99996</td>\n",
       "      <td>1998-04-06</td>\n",
       "      <td>Female</td>\n",
       "      <td>NAIROBI</td>\n",
       "      <td>partner</td>\n",
       "      <td>1998-01-26</td>\n",
       "      <td>Money Market</td>\n",
       "      <td>Female</td>\n",
       "      <td>26</td>\n",
       "      <td>26.0</td>\n",
       "      <td>Money Market</td>\n",
       "    </tr>\n",
       "    <tr>\n",
       "      <th>14</th>\n",
       "      <td>99996</td>\n",
       "      <td>1998-04-06</td>\n",
       "      <td>Female</td>\n",
       "      <td>NAIROBI</td>\n",
       "      <td>sibling</td>\n",
       "      <td>2001-03-04</td>\n",
       "      <td>Money Market</td>\n",
       "      <td>Female</td>\n",
       "      <td>26</td>\n",
       "      <td>23.0</td>\n",
       "      <td>Money Market</td>\n",
       "    </tr>\n",
       "    <tr>\n",
       "      <th>28</th>\n",
       "      <td>99994</td>\n",
       "      <td>1966-01-01</td>\n",
       "      <td>Female</td>\n",
       "      <td>Unknown</td>\n",
       "      <td>partner</td>\n",
       "      <td>1962-01-01</td>\n",
       "      <td>Money Market</td>\n",
       "      <td>Female</td>\n",
       "      <td>58</td>\n",
       "      <td>62.0</td>\n",
       "      <td>Money Market</td>\n",
       "    </tr>\n",
       "    <tr>\n",
       "      <th>40</th>\n",
       "      <td>99993</td>\n",
       "      <td>1974-01-01</td>\n",
       "      <td>Female</td>\n",
       "      <td>NAIROBI</td>\n",
       "      <td>partner</td>\n",
       "      <td>1970-09-29</td>\n",
       "      <td>Money Market</td>\n",
       "      <td>Female</td>\n",
       "      <td>50</td>\n",
       "      <td>54.0</td>\n",
       "      <td>Money Market</td>\n",
       "    </tr>\n",
       "    <tr>\n",
       "      <th>70</th>\n",
       "      <td>99993</td>\n",
       "      <td>1974-01-01</td>\n",
       "      <td>Female</td>\n",
       "      <td>NAIROBI</td>\n",
       "      <td>child</td>\n",
       "      <td>1994-01-01</td>\n",
       "      <td>Money Market</td>\n",
       "      <td>Female</td>\n",
       "      <td>50</td>\n",
       "      <td>30.0</td>\n",
       "      <td>Money Market</td>\n",
       "    </tr>\n",
       "  </tbody>\n",
       "</table>\n",
       "</div>"
      ],
      "text/plain": [
       "    member_no        dob  gender     town relationship beneficiery_dob  \\\n",
       "0       99996 1998-04-06  Female  NAIROBI      partner      1998-01-26   \n",
       "14      99996 1998-04-06  Female  NAIROBI      sibling      2001-03-04   \n",
       "28      99994 1966-01-01  Female  Unknown      partner      1962-01-01   \n",
       "40      99993 1974-01-01  Female  NAIROBI      partner      1970-09-29   \n",
       "70      99993 1974-01-01  Female  NAIROBI        child      1994-01-01   \n",
       "\n",
       "       portfolio gender_mapped  member_age  beneficiery_age portfolio_map  \n",
       "0   Money Market        Female          26             26.0  Money Market  \n",
       "14  Money Market        Female          26             23.0  Money Market  \n",
       "28  Money Market        Female          58             62.0  Money Market  \n",
       "40  Money Market        Female          50             54.0  Money Market  \n",
       "70  Money Market        Female          50             30.0  Money Market  "
      ]
     },
     "execution_count": 39,
     "metadata": {},
     "output_type": "execute_result"
    }
   ],
   "source": [
    "df.head()"
   ]
  },
  {
   "cell_type": "code",
   "execution_count": 40,
   "metadata": {},
   "outputs": [
    {
     "data": {
      "text/html": [
       "<div>\n",
       "<style scoped>\n",
       "    .dataframe tbody tr th:only-of-type {\n",
       "        vertical-align: middle;\n",
       "    }\n",
       "\n",
       "    .dataframe tbody tr th {\n",
       "        vertical-align: top;\n",
       "    }\n",
       "\n",
       "    .dataframe thead th {\n",
       "        text-align: right;\n",
       "    }\n",
       "</style>\n",
       "<table border=\"1\" class=\"dataframe\">\n",
       "  <thead>\n",
       "    <tr style=\"text-align: right;\">\n",
       "      <th></th>\n",
       "      <th>member_no</th>\n",
       "      <th>town</th>\n",
       "      <th>relationship</th>\n",
       "      <th>gender_mapped</th>\n",
       "      <th>member_age</th>\n",
       "      <th>beneficiery_age</th>\n",
       "      <th>portfolio_map</th>\n",
       "    </tr>\n",
       "  </thead>\n",
       "  <tbody>\n",
       "    <tr>\n",
       "      <th>0</th>\n",
       "      <td>99996</td>\n",
       "      <td>NAIROBI</td>\n",
       "      <td>partner</td>\n",
       "      <td>Female</td>\n",
       "      <td>26</td>\n",
       "      <td>26.0</td>\n",
       "      <td>Money Market</td>\n",
       "    </tr>\n",
       "    <tr>\n",
       "      <th>14</th>\n",
       "      <td>99996</td>\n",
       "      <td>NAIROBI</td>\n",
       "      <td>sibling</td>\n",
       "      <td>Female</td>\n",
       "      <td>26</td>\n",
       "      <td>23.0</td>\n",
       "      <td>Money Market</td>\n",
       "    </tr>\n",
       "    <tr>\n",
       "      <th>28</th>\n",
       "      <td>99994</td>\n",
       "      <td>Unknown</td>\n",
       "      <td>partner</td>\n",
       "      <td>Female</td>\n",
       "      <td>58</td>\n",
       "      <td>62.0</td>\n",
       "      <td>Money Market</td>\n",
       "    </tr>\n",
       "    <tr>\n",
       "      <th>40</th>\n",
       "      <td>99993</td>\n",
       "      <td>NAIROBI</td>\n",
       "      <td>partner</td>\n",
       "      <td>Female</td>\n",
       "      <td>50</td>\n",
       "      <td>54.0</td>\n",
       "      <td>Money Market</td>\n",
       "    </tr>\n",
       "    <tr>\n",
       "      <th>70</th>\n",
       "      <td>99993</td>\n",
       "      <td>NAIROBI</td>\n",
       "      <td>child</td>\n",
       "      <td>Female</td>\n",
       "      <td>50</td>\n",
       "      <td>30.0</td>\n",
       "      <td>Money Market</td>\n",
       "    </tr>\n",
       "  </tbody>\n",
       "</table>\n",
       "</div>"
      ],
      "text/plain": [
       "    member_no     town relationship gender_mapped  member_age  \\\n",
       "0       99996  NAIROBI      partner        Female          26   \n",
       "14      99996  NAIROBI      sibling        Female          26   \n",
       "28      99994  Unknown      partner        Female          58   \n",
       "40      99993  NAIROBI      partner        Female          50   \n",
       "70      99993  NAIROBI        child        Female          50   \n",
       "\n",
       "    beneficiery_age portfolio_map  \n",
       "0              26.0  Money Market  \n",
       "14             23.0  Money Market  \n",
       "28             62.0  Money Market  \n",
       "40             54.0  Money Market  \n",
       "70             30.0  Money Market  "
      ]
     },
     "execution_count": 40,
     "metadata": {},
     "output_type": "execute_result"
    }
   ],
   "source": [
    "# Drop unnecessary columns ('dob', 'gender', 'portfolio', 'beneficiery_dob') from the dataframe\n",
    "new_df=df.drop(columns=['dob','gender','portfolio','beneficiery_dob'])\n",
    "new_df.head()"
   ]
  },
  {
   "cell_type": "code",
   "execution_count": 41,
   "metadata": {},
   "outputs": [],
   "source": [
    "#fill null values with the mode\n",
    "new_df['member_age'].fillna(new_df['member_age'].mode()[0], inplace=True)\n",
    "new_df['beneficiery_age'].fillna(new_df['beneficiery_age'].mode()[0], inplace=True)"
   ]
  },
  {
   "cell_type": "code",
   "execution_count": 42,
   "metadata": {},
   "outputs": [],
   "source": [
    "# Set reasonable age bounds\n",
    "lower_bound = 0\n",
    "upper_bound = 100\n",
    "\n",
    "# Create a copy of original ages for comparison if needed\n",
    "original_ages = new_df['beneficiery_age'].copy()\n",
    "\n",
    "# Replace outliers by clipping to bounds\n",
    "new_df['beneficiery_age'] = new_df['beneficiery_age'].clip(lower=lower_bound, upper=upper_bound)"
   ]
  },
  {
   "cell_type": "markdown",
   "metadata": {},
   "source": [
    "## DATA VISUALIZATION"
   ]
  },
  {
   "cell_type": "code",
   "execution_count": 43,
   "metadata": {},
   "outputs": [
    {
     "data": {
      "image/png": "[encoded data removed]",
      "text/plain": [
       "<Figure size 720x432 with 1 Axes>"
      ]
     },
     "metadata": {
      "needs_background": "light"
     },
     "output_type": "display_data"
    }
   ],
   "source": [
    "average_age = new_df.groupby('portfolio_map')['member_age'].mean().reset_index()\n",
    "\n",
    "plt.figure(figsize=(10, 6))\n",
    "sns.barplot(x='portfolio_map', y='member_age', data=average_age)\n",
    "plt.title('Average Age by Portfolio Map')\n",
    "plt.xlabel('Portfolio Map')\n",
    "plt.ylabel('Average Age')\n",
    "plt.show()\n"
   ]
  },
  {
   "cell_type": "markdown",
   "metadata": {},
   "source": [
    "The output is a bar plot showing the average age for each portfolio type.\n",
    "Each bar represents the average age of members who belong to that specific portfolio, allowing you to quickly compare the average ages across different portfolio categories.\n",
    "The resulting plot gives insights into the age distribution for each portfolio, highlighting which portfolios are associated with older or younger members."
   ]
  },
  {
   "cell_type": "code",
   "execution_count": 44,
   "metadata": {},
   "outputs": [
    {
     "data": {
      "text/plain": [
       "Index(['member_no', 'town', 'relationship', 'gender_mapped', 'member_age',\n",
       "       'beneficiery_age', 'portfolio_map'],\n",
       "      dtype='object')"
      ]
     },
     "execution_count": 44,
     "metadata": {},
     "output_type": "execute_result"
    }
   ],
   "source": [
    "#check columns\n",
    "new_df.columns"
   ]
  },
  {
   "cell_type": "code",
   "execution_count": 45,
   "metadata": {},
   "outputs": [],
   "source": [
    "#convert the cleaned data to csv\n",
    "new_df.to_csv('cleaned_data.csv', index=False)"
   ]
  },
  {
   "cell_type": "code",
   "execution_count": 46,
   "metadata": {},
   "outputs": [
    {
     "name": "stdout",
     "output_type": "stream",
     "text": [
      "<class 'pandas.core.frame.DataFrame'>\n",
      "Int64Index: 125888 entries, 0 to 7532842\n",
      "Data columns (total 7 columns):\n",
      " #   Column           Non-Null Count   Dtype  \n",
      "---  ------           --------------   -----  \n",
      " 0   member_no        125888 non-null  int64  \n",
      " 1   town             125888 non-null  object \n",
      " 2   relationship     125888 non-null  object \n",
      " 3   gender_mapped    125888 non-null  object \n",
      " 4   member_age       125888 non-null  int64  \n",
      " 5   beneficiery_age  125888 non-null  float64\n",
      " 6   portfolio_map    125888 non-null  object \n",
      "dtypes: float64(1), int64(2), object(4)\n",
      "memory usage: 7.7+ MB\n"
     ]
    }
   ],
   "source": [
    "#inspecting the preprocessed dataframe\n",
    "new_df.info()"
   ]
  },
  {
   "cell_type": "code",
   "execution_count": 47,
   "metadata": {},
   "outputs": [
    {
     "data": {
      "image/png": "[encoded data removed]",
      "text/plain": [
       "<Figure size 576x432 with 1 Axes>"
      ]
     },
     "metadata": {
      "needs_background": "light"
     },
     "output_type": "display_data"
    }
   ],
   "source": [
    "plt.figure(figsize=(8, 6))\n",
    "sns.countplot(data=new_df, x='gender_mapped', palette='viridis')\n",
    "plt.title('Male vs Female Count in Gender Mapped')\n",
    "plt.xlabel('Gender')\n",
    "plt.ylabel('Count')\n",
    "plt.show()"
   ]
  },
  {
   "cell_type": "markdown",
   "metadata": {},
   "source": [
    "This plot gives a clear visual comparison of how many male and female entries are present in the dataset after the gender mapping process.\n",
    "The resulting plot allows for an easy comparison of the number of male versus female entries in the dataset, making it visually straightforward to assess gender distribution."
   ]
  },
  {
   "cell_type": "code",
   "execution_count": 48,
   "metadata": {},
   "outputs": [
    {
     "data": {
      "image/png": "[encoded data removed]",
      "text/plain": [
       "<Figure size 720x432 with 1 Axes>"
      ]
     },
     "metadata": {
      "needs_background": "light"
     },
     "output_type": "display_data"
    }
   ],
   "source": [
    "plt.figure(figsize=(10, 6))\n",
    "sns.countplot(data=new_df, x='gender_mapped', hue='portfolio_map', palette='viridis')\n",
    "plt.title('Gender vs Portfolio Map')\n",
    "plt.xlabel('Gender')\n",
    "plt.ylabel('Count')\n",
    "plt.legend(title='Portfolio Map')\n",
    "plt.show()"
   ]
  },
  {
   "cell_type": "markdown",
   "metadata": {},
   "source": [
    "This plot provides a clear visual comparison of how genders are distributed across different portfolio categories, helping to understand the intersection of gender and portfolio preferences. It allows you to see if certain portfolio types are more favored by one gender over the other or if the distribution is relatively balanced."
   ]
  },
  {
   "cell_type": "code",
   "execution_count": 49,
   "metadata": {},
   "outputs": [
    {
     "data": {
      "image/png": "[encoded data removed]",
      "text/plain": [
       "<Figure size 720x720 with 1 Axes>"
      ]
     },
     "metadata": {},
     "output_type": "display_data"
    }
   ],
   "source": [
    "age_bins = [0, 18, 30, 45, 60, 100]\n",
    "age_labels = ['0-18', '19-30', '31-45', '46-60', '60+']\n",
    "new_df['age_group'] = pd.cut(new_df['member_age'], bins=age_bins, labels=age_labels)\n",
    "age_counts = new_df['age_group'].value_counts().sort_index()\n",
    "plt.figure(figsize=(10, 10))\n",
    "plt.pie(age_counts, labels=age_counts.index, autopct='%1.1f%%', startangle=140, colors=sns.color_palette('viridis'))\n",
    "plt.title('Members Age Groups Distribution')\n",
    "plt.show()"
   ]
  },
  {
   "cell_type": "markdown",
   "metadata": {},
   "source": [
    "Each segment of the pie chart represents one of these age groups.\n",
    "The size of each segment corresponds to the percentage of members that fall into each age group.\n",
    "The color palette viridis provides visually distinguishable colors for each segment.\n",
    "The autopct option displays the percentage of total members in each age group directly on the chart, making it easy to compare the distribution across groups.\n",
    "This pie chart provides a clear visual of the age distribution among the members, helping to identify which age groups are the most and least represented in the dataset."
   ]
  },
  {
   "cell_type": "code",
   "execution_count": 50,
   "metadata": {},
   "outputs": [
    {
     "data": {
      "image/png": "[encoded data removed]",
      "text/plain": [
       "<Figure size 720x432 with 1 Axes>"
      ]
     },
     "metadata": {
      "needs_background": "light"
     },
     "output_type": "display_data"
    }
   ],
   "source": [
    "top_10_towns = new_df['town'].value_counts().head(10)\n",
    "plt.figure(figsize=(10, 6))\n",
    "sns.barplot(x=top_10_towns.values, y=top_10_towns.index, palette='viridis')\n",
    "plt.title('Top 10 Towns')\n",
    "plt.xlabel('Count')\n",
    "plt.ylabel('Town')\n",
    "plt.show()"
   ]
  },
  {
   "cell_type": "markdown",
   "metadata": {},
   "source": [
    "overview of the most common towns in the dataset, highlighting their relative frequencies."
   ]
  },
  {
   "cell_type": "markdown",
   "metadata": {},
   "source": [
    "## MODELING"
   ]
  },
  {
   "cell_type": "code",
   "execution_count": 51,
   "metadata": {},
   "outputs": [
    {
     "name": "stdout",
     "output_type": "stream",
     "text": [
      "<class 'pandas.core.frame.DataFrame'>\n",
      "Int64Index: 125888 entries, 0 to 7532842\n",
      "Data columns (total 8 columns):\n",
      " #   Column           Non-Null Count   Dtype   \n",
      "---  ------           --------------   -----   \n",
      " 0   member_no        125888 non-null  int64   \n",
      " 1   town             125888 non-null  object  \n",
      " 2   relationship     125888 non-null  object  \n",
      " 3   gender_mapped    125888 non-null  object  \n",
      " 4   member_age       125888 non-null  int64   \n",
      " 5   beneficiery_age  125888 non-null  float64 \n",
      " 6   portfolio_map    125888 non-null  object  \n",
      " 7   age_group        125808 non-null  category\n",
      "dtypes: category(1), float64(1), int64(2), object(4)\n",
      "memory usage: 12.8+ MB\n"
     ]
    }
   ],
   "source": [
    "#inspect the new_df\n",
    "new_df.info()"
   ]
  },
  {
   "cell_type": "code",
   "execution_count": 52,
   "metadata": {},
   "outputs": [
    {
     "data": {
      "text/html": [
       "<div>\n",
       "<style scoped>\n",
       "    .dataframe tbody tr th:only-of-type {\n",
       "        vertical-align: middle;\n",
       "    }\n",
       "\n",
       "    .dataframe tbody tr th {\n",
       "        vertical-align: top;\n",
       "    }\n",
       "\n",
       "    .dataframe thead th {\n",
       "        text-align: right;\n",
       "    }\n",
       "</style>\n",
       "<table border=\"1\" class=\"dataframe\">\n",
       "  <thead>\n",
       "    <tr style=\"text-align: right;\">\n",
       "      <th></th>\n",
       "      <th>member_no</th>\n",
       "      <th>town</th>\n",
       "      <th>relationship</th>\n",
       "      <th>gender_mapped</th>\n",
       "      <th>member_age</th>\n",
       "      <th>beneficiery_age</th>\n",
       "      <th>portfolio_map</th>\n",
       "      <th>age_group</th>\n",
       "    </tr>\n",
       "  </thead>\n",
       "  <tbody>\n",
       "    <tr>\n",
       "      <th>0</th>\n",
       "      <td>99996</td>\n",
       "      <td>NAIROBI</td>\n",
       "      <td>partner</td>\n",
       "      <td>Female</td>\n",
       "      <td>26</td>\n",
       "      <td>26.0</td>\n",
       "      <td>Money Market</td>\n",
       "      <td>19-30</td>\n",
       "    </tr>\n",
       "    <tr>\n",
       "      <th>14</th>\n",
       "      <td>99996</td>\n",
       "      <td>NAIROBI</td>\n",
       "      <td>sibling</td>\n",
       "      <td>Female</td>\n",
       "      <td>26</td>\n",
       "      <td>23.0</td>\n",
       "      <td>Money Market</td>\n",
       "      <td>19-30</td>\n",
       "    </tr>\n",
       "    <tr>\n",
       "      <th>28</th>\n",
       "      <td>99994</td>\n",
       "      <td>Unknown</td>\n",
       "      <td>partner</td>\n",
       "      <td>Female</td>\n",
       "      <td>58</td>\n",
       "      <td>62.0</td>\n",
       "      <td>Money Market</td>\n",
       "      <td>46-60</td>\n",
       "    </tr>\n",
       "    <tr>\n",
       "      <th>40</th>\n",
       "      <td>99993</td>\n",
       "      <td>NAIROBI</td>\n",
       "      <td>partner</td>\n",
       "      <td>Female</td>\n",
       "      <td>50</td>\n",
       "      <td>54.0</td>\n",
       "      <td>Money Market</td>\n",
       "      <td>46-60</td>\n",
       "    </tr>\n",
       "    <tr>\n",
       "      <th>70</th>\n",
       "      <td>99993</td>\n",
       "      <td>NAIROBI</td>\n",
       "      <td>child</td>\n",
       "      <td>Female</td>\n",
       "      <td>50</td>\n",
       "      <td>30.0</td>\n",
       "      <td>Money Market</td>\n",
       "      <td>46-60</td>\n",
       "    </tr>\n",
       "  </tbody>\n",
       "</table>\n",
       "</div>"
      ],
      "text/plain": [
       "    member_no     town relationship gender_mapped  member_age  \\\n",
       "0       99996  NAIROBI      partner        Female          26   \n",
       "14      99996  NAIROBI      sibling        Female          26   \n",
       "28      99994  Unknown      partner        Female          58   \n",
       "40      99993  NAIROBI      partner        Female          50   \n",
       "70      99993  NAIROBI        child        Female          50   \n",
       "\n",
       "    beneficiery_age portfolio_map age_group  \n",
       "0              26.0  Money Market     19-30  \n",
       "14             23.0  Money Market     19-30  \n",
       "28             62.0  Money Market     46-60  \n",
       "40             54.0  Money Market     46-60  \n",
       "70             30.0  Money Market     46-60  "
      ]
     },
     "execution_count": 52,
     "metadata": {},
     "output_type": "execute_result"
    }
   ],
   "source": [
    "#check the first entries in the dataframe\n",
    "new_df.head()"
   ]
  },
  {
   "cell_type": "code",
   "execution_count": 53,
   "metadata": {},
   "outputs": [
    {
     "name": "stderr",
     "output_type": "stream",
     "text": [
      "<ipython-input-53-c464198fbbef>:5: SettingWithCopyWarning: \n",
      "A value is trying to be set on a copy of a slice from a DataFrame.\n",
      "Try using .loc[row_indexer,col_indexer] = value instead\n",
      "\n",
      "See the caveats in the documentation: https://pandas.pydata.org/pandas-docs/stable/user_guide/indexing.html#returning-a-view-versus-a-copy\n",
      "  X['features'] = X.astype(str).sum(axis=1)\n"
     ]
    }
   ],
   "source": [
    "\n",
    "# Create a feature matrix combining the relevant columns\n",
    "X = new_df[['member_age', 'beneficiery_age', 'age_group', 'gender_mapped']]\n",
    "\n",
    "# Convert the feature columns to a single string for each row\n",
    "X['features'] = X.astype(str).sum(axis=1)\n",
    "\n",
    "# Create a TF-IDF matrix from the features\n",
    "tfidf = TfidfVectorizer(max_features=1000)\n",
    "X_tfidf = tfidf.fit_transform(X['features'])\n",
    "\n",
    "# Split the data into training and test sets\n",
    "X_train, X_test, y_train, y_test = train_test_split(X_tfidf, new_df['portfolio_map'], test_size=0.2, random_state=42)\n",
    "\n",
    "\n"
   ]
  },
  {
   "cell_type": "code",
   "execution_count": 54,
   "metadata": {},
   "outputs": [
    {
     "data": {
      "text/html": [
       "<style>#sk-container-id-1 {color: black;}#sk-container-id-1 pre{padding: 0;}#sk-container-id-1 div.sk-toggleable {background-color: white;}#sk-container-id-1 label.sk-toggleable__label {cursor: pointer;display: block;width: 100%;margin-bottom: 0;padding: 0.3em;box-sizing: border-box;text-align: center;}#sk-container-id-1 label.sk-toggleable__label-arrow:before {content: \"▸\";float: left;margin-right: 0.25em;color: #696969;}#sk-container-id-1 label.sk-toggleable__label-arrow:hover:before {color: black;}#sk-container-id-1 div.sk-estimator:hover label.sk-toggleable__label-arrow:before {color: black;}#sk-container-id-1 div.sk-toggleable__content {max-height: 0;max-width: 0;overflow: hidden;text-align: left;background-color: #f0f8ff;}#sk-container-id-1 div.sk-toggleable__content pre {margin: 0.2em;color: black;border-radius: 0.25em;background-color: #f0f8ff;}#sk-container-id-1 input.sk-toggleable__control:checked~div.sk-toggleable__content {max-height: 200px;max-width: 100%;overflow: auto;}#sk-container-id-1 input.sk-toggleable__control:checked~label.sk-toggleable__label-arrow:before {content: \"▾\";}#sk-container-id-1 div.sk-estimator input.sk-toggleable__control:checked~label.sk-toggleable__label {background-color: #d4ebff;}#sk-container-id-1 div.sk-label input.sk-toggleable__control:checked~label.sk-toggleable__label {background-color: #d4ebff;}#sk-container-id-1 input.sk-hidden--visually {border: 0;clip: rect(1px 1px 1px 1px);clip: rect(1px, 1px, 1px, 1px);height: 1px;margin: -1px;overflow: hidden;padding: 0;position: absolute;width: 1px;}#sk-container-id-1 div.sk-estimator {font-family: monospace;background-color: #f0f8ff;border: 1px dotted black;border-radius: 0.25em;box-sizing: border-box;margin-bottom: 0.5em;}#sk-container-id-1 div.sk-estimator:hover {background-color: #d4ebff;}#sk-container-id-1 div.sk-parallel-item::after {content: \"\";width: 100%;border-bottom: 1px solid gray;flex-grow: 1;}#sk-container-id-1 div.sk-label:hover label.sk-toggleable__label {background-color: #d4ebff;}#sk-container-id-1 div.sk-serial::before {content: \"\";position: absolute;border-left: 1px solid gray;box-sizing: border-box;top: 0;bottom: 0;left: 50%;z-index: 0;}#sk-container-id-1 div.sk-serial {display: flex;flex-direction: column;align-items: center;background-color: white;padding-right: 0.2em;padding-left: 0.2em;position: relative;}#sk-container-id-1 div.sk-item {position: relative;z-index: 1;}#sk-container-id-1 div.sk-parallel {display: flex;align-items: stretch;justify-content: center;background-color: white;position: relative;}#sk-container-id-1 div.sk-item::before, #sk-container-id-1 div.sk-parallel-item::before {content: \"\";position: absolute;border-left: 1px solid gray;box-sizing: border-box;top: 0;bottom: 0;left: 50%;z-index: -1;}#sk-container-id-1 div.sk-parallel-item {display: flex;flex-direction: column;z-index: 1;position: relative;background-color: white;}#sk-container-id-1 div.sk-parallel-item:first-child::after {align-self: flex-end;width: 50%;}#sk-container-id-1 div.sk-parallel-item:last-child::after {align-self: flex-start;width: 50%;}#sk-container-id-1 div.sk-parallel-item:only-child::after {width: 0;}#sk-container-id-1 div.sk-dashed-wrapped {border: 1px dashed gray;margin: 0 0.4em 0.5em 0.4em;box-sizing: border-box;padding-bottom: 0.4em;background-color: white;}#sk-container-id-1 div.sk-label label {font-family: monospace;font-weight: bold;display: inline-block;line-height: 1.2em;}#sk-container-id-1 div.sk-label-container {text-align: center;}#sk-container-id-1 div.sk-container {/* jupyter's `normalize.less` sets `[hidden] { display: none; }` but bootstrap.min.css set `[hidden] { display: none !important; }` so we also need the `!important` here to be able to override the default hidden behavior on the sphinx rendered scikit-learn.org. See: https://github.com/scikit-learn/scikit-learn/issues/21755 */display: inline-block !important;position: relative;}#sk-container-id-1 div.sk-text-repr-fallback {display: none;}</style><div id=\"sk-container-id-1\" class=\"sk-top-container\"><div class=\"sk-text-repr-fallback\"><pre>NearestNeighbors(algorithm=&#x27;brute&#x27;, metric=&#x27;cosine&#x27;)</pre><b>In a Jupyter environment, please rerun this cell to show the HTML representation or trust the notebook. <br />On GitHub, the HTML representation is unable to render, please try loading this page with nbviewer.org.</b></div><div class=\"sk-container\" hidden><div class=\"sk-item\"><div class=\"sk-estimator sk-toggleable\"><input class=\"sk-toggleable__control sk-hidden--visually\" id=\"sk-estimator-id-1\" type=\"checkbox\" checked><label for=\"sk-estimator-id-1\" class=\"sk-toggleable__label sk-toggleable__label-arrow\">NearestNeighbors</label><div class=\"sk-toggleable__content\"><pre>NearestNeighbors(algorithm=&#x27;brute&#x27;, metric=&#x27;cosine&#x27;)</pre></div></div></div></div></div>"
      ],
      "text/plain": [
       "NearestNeighbors(algorithm='brute', metric='cosine')"
      ]
     },
     "execution_count": 54,
     "metadata": {},
     "output_type": "execute_result"
    }
   ],
   "source": [
    "# Train the Nearest Neighbors model\n",
    "model = NearestNeighbors(metric='cosine', algorithm='brute')\n",
    "model.fit(X_train)\n",
    "\n"
   ]
  },
  {
   "cell_type": "code",
   "execution_count": 55,
   "metadata": {},
   "outputs": [],
   "source": [
    "def get_recommendations(member_features, n=5):\n",
    "    # Get distances and indices of the nearest neighbors\n",
    "    distances, indices = model.kneighbors(member_features, n_neighbors=n+1)\n",
    "    \n",
    "    # Retrieve the original portfolio information from `new_df` using indices\n",
    "    # Exclude the first column of `indices` since it's the item itself\n",
    "    recommended_portfolios = new_df.iloc[indices[0, 1:]]['portfolio_map'].tolist()\n",
    "    \n",
    "    return recommended_portfolios"
   ]
  },
  {
   "cell_type": "code",
   "execution_count": 56,
   "metadata": {},
   "outputs": [
    {
     "name": "stdout",
     "output_type": "stream",
     "text": [
      "Accuracy: 0.79\n"
     ]
    }
   ],
   "source": [
    "\n",
    "# Make predictions on the test set\n",
    "y_pred = []\n",
    "for i in range(X_test.shape[0]):\n",
    "    member = X_test[i].toarray()\n",
    "    recommendations = get_recommendations(member.reshape(1, -1), n=1)\n",
    "    y_pred.append(recommendations[0])  # Get the top recommendation\n",
    "\n",
    "# Calculate accuracy by comparing the predicted product to the actual product\n",
    "accuracy = accuracy_score(y_test, y_pred)\n",
    "\n",
    "print(f\"Accuracy: {accuracy:.2f}\")\n"
   ]
  },
  {
   "cell_type": "markdown",
   "metadata": {},
   "source": [
    "RULE BASED ADDED"
   ]
  },
  {
   "cell_type": "code",
   "execution_count": 57,
   "metadata": {},
   "outputs": [],
   "source": [
    "def get_recommendations(member_features, member_no, n=5):\n",
    "    # Fetch member's details\n",
    "    member_row = new_df.loc[new_df['member_no'] == member_no].iloc[0]\n",
    "    member_beneficiary_age = member_row['beneficiery_age']\n",
    "    member_age_group = member_row['age_group']\n",
    "    member_town = member_row['town']\n",
    "    member_gender = member_row['gender_mapped']\n",
    "    member_current_products = set(new_df.loc[new_df['member_no'] == member_no, 'portfolio_map'].values)\n",
    "    \n",
    "    recommended_products = []\n",
    "\n",
    "    # Rule 1: Recommend based on beneficiary age (Student and Junior Accounts)\n",
    "    #if 18 <= member_beneficiary_age <= 25:\n",
    "    if  member_beneficiary_age >= 18 and  member_beneficiary_age <= 25:\n",
    "        recommended_products.append(\"Student Account\")\n",
    "    elif member_beneficiary_age < 18:\n",
    "        recommended_products.append(\"Junior Account\")\n",
    "\n",
    "    # Rule 2: Recommend popular products within the same age group\n",
    "    age_group_products = (\n",
    "        new_df[new_df['age_group'] == member_age_group]\n",
    "        .portfolio_map.value_counts()\n",
    "        .index\n",
    "        .tolist()\n",
    "    )\n",
    "    for product in age_group_products:\n",
    "        if product not in member_current_products and product not in recommended_products:\n",
    "            recommended_products.append(product)\n",
    "        if len(recommended_products) >= n:\n",
    "            return recommended_products[:n]\n",
    "\n",
    "    # Rule 3: Recommend popular products in the same town\n",
    "    town_products = (\n",
    "        new_df[new_df['town'] == member_town]\n",
    "        .portfolio_map.value_counts()\n",
    "        .index\n",
    "        .tolist()\n",
    "    )\n",
    "    for product in town_products:\n",
    "        if product not in member_current_products and product not in recommended_products:\n",
    "            recommended_products.append(product)\n",
    "        if len(recommended_products) >= n:\n",
    "            return recommended_products[:n]\n",
    "        \n",
    "    gender_products = (\n",
    "        new_df[new_df['gender_mapped']== member_gender]\n",
    "        .portfolio_map.value_counts()\n",
    "        .index\n",
    "        .tolist()\n",
    "    )\n",
    "    for product in gender_products:\n",
    "        if product not in member_current_products and product not in recommended_products:\n",
    "            recommended_products.append(product)\n",
    "        if len(recommended_products) >= n:\n",
    "            return recommended_products[:n]\n",
    "\n",
    "    # Collaborative Filtering for Additional Recommendations\n",
    "    distances, indices = model.kneighbors(member_features, n_neighbors=n + len(recommended_products))\n",
    "    for index in indices[0]:\n",
    "        product = new_df.iloc[index]['portfolio_map']\n",
    "        if product not in member_current_products and product not in recommended_products:\n",
    "            recommended_products.append(product)\n",
    "        if len(recommended_products) >= n:\n",
    "            break\n",
    "\n",
    "    return recommended_products[:n]\n"
   ]
  },
  {
   "cell_type": "code",
   "execution_count": 58,
   "metadata": {},
   "outputs": [
    {
     "data": {
      "text/plain": [
       "Index(['member_no', 'town', 'relationship', 'gender_mapped', 'member_age',\n",
       "       'beneficiery_age', 'portfolio_map', 'age_group'],\n",
       "      dtype='object')"
      ]
     },
     "execution_count": 58,
     "metadata": {},
     "output_type": "execute_result"
    }
   ],
   "source": [
    "new_df.columns"
   ]
  },
  {
   "cell_type": "code",
   "execution_count": 59,
   "metadata": {},
   "outputs": [
    {
     "name": "stdout",
     "output_type": "stream",
     "text": [
      "Recommendations for sample member profile:\n",
      "['Fixed Income', 'Equity Fund', 'Dollar Fund']\n"
     ]
    }
   ],
   "source": [
    "# Test the recommendations for a sample member\n",
    "sample_index = 0  # Adjust the sample index for testing\n",
    "sample_member = X_test[sample_index].toarray()\n",
    "sample_member_id = new_df.iloc[sample_index]['member_no']  # Ensure 'member_id' is in new_df\n",
    "\n",
    "# Get recommendations for the sample member\n",
    "recommendations = get_recommendations(sample_member.reshape(1, -1), sample_member_id, n=3)\n",
    "\n",
    "# Display the results\n",
    "print(\"Recommendations for sample member profile:\")\n",
    "print(recommendations)"
   ]
  },
  {
   "cell_type": "code",
   "execution_count": 60,
   "metadata": {},
   "outputs": [
    {
     "name": "stdout",
     "output_type": "stream",
     "text": [
      "Recommendations for sample member profile:\n",
      "['Equity Fund', 'Dollar Fund', 'Fixed Income']\n"
     ]
    }
   ],
   "source": [
    "# Test the recommendations for a sample member\n",
    "sample_index = 20\n",
    "sample_member = X_test[sample_index].toarray()\n",
    "sample_member_id = new_df.iloc[sample_index]['member_no']  \n",
    "\n",
    "# Get recommendations for the sample member\n",
    "recommendations = get_recommendations(sample_member.reshape(1, -1), sample_member_id, n=3)\n",
    "\n",
    "# Display the results\n",
    "print(\"Recommendations for sample member profile:\")\n",
    "print(recommendations)"
   ]
  },
  {
   "cell_type": "code",
   "execution_count": 61,
   "metadata": {},
   "outputs": [],
   "source": [
    "def get_recommendations_with_messages(member_features, member_no, n=5):\n",
    "    # Fetch member's details\n",
    "    member_row = new_df.loc[new_df['member_no'] == member_no].iloc[0]\n",
    "    member_beneficiary_age = member_row['beneficiery_age']\n",
    "    member_age_group = member_row['age_group']\n",
    "    member_town = member_row['town']\n",
    "    member_gender = member_row['gender_mapped']\n",
    "    member_current_products = set(new_df.loc[new_df['member_no'] == member_no, 'portfolio_map'].values)\n",
    "    \n",
    "    recommended_products = []\n",
    "    messages = []\n",
    "\n",
    "    # Rule 1: Recommend based on beneficiary age (Student and Junior Accounts)\n",
    "    age_recommendations = []\n",
    "    if  member_beneficiary_age >= 18 and  member_beneficiary_age <= 25:\n",
    "        age_recommendations.append(\"Student Account\")\n",
    "        messages.append(\n",
    "            f\"Planning for your child's future? Our Student Account is perfect for young adults aged 18-25. \"\n",
    "            f\"Start securing their educational journey today!\"\n",
    "        )\n",
    "    elif  member_beneficiary_age < 18:\n",
    "        age_recommendations.append(\"Junior Account\")\n",
    "        messages.append(\n",
    "            f\"Give your child a head start with our Junior Account! It's specially designed for children under 18 \"\n",
    "            f\"to help them develop good financial habits early.\"\n",
    "        )\n",
    "    recommended_products.extend(age_recommendations)\n",
    "\n",
    "    # Rule 2: Recommend popular products within the same age group\n",
    "    age_group_recommendations = []\n",
    "    age_group_products = (\n",
    "        new_df[new_df['age_group'] == member_age_group]\n",
    "        .portfolio_map.value_counts()\n",
    "        .index\n",
    "        .tolist()\n",
    "    )\n",
    "    for product in age_group_products:\n",
    "        if product not in member_current_products and product not in recommended_products:\n",
    "            age_group_recommendations.append(product)\n",
    "        if len(recommended_products) + len(age_group_recommendations) >= n:\n",
    "            break\n",
    "    \n",
    "    if age_group_recommendations:\n",
    "        messages.append(\n",
    "            f\"Members in your age group are enjoying these popular products: {', '.join(age_group_recommendations)}. \"\n",
    "            f\"Join them in making smart financial choices!\"\n",
    "        )\n",
    "    recommended_products.extend(age_group_recommendations)\n",
    "\n",
    "    # Rule 3: Recommend popular products in the same town\n",
    "    location_recommendations = []\n",
    "    town_products = (\n",
    "        new_df[new_df['town'] == member_town]\n",
    "        .portfolio_map.value_counts()\n",
    "        .index\n",
    "        .tolist()\n",
    "    )\n",
    "    for product in town_products:\n",
    "        if product not in member_current_products and product not in recommended_products:\n",
    "            location_recommendations.append(product)\n",
    "        if len(recommended_products) + len(location_recommendations) >= n:\n",
    "            break\n",
    "    \n",
    "    if location_recommendations:\n",
    "        messages.append(\n",
    "            f\"Trending in {member_town}! Your neighbors are choosing {', '.join(location_recommendations)}. \"\n",
    "            f\"Discover why these products are popular in your community!\"\n",
    "        )\n",
    "    recommended_products.extend(location_recommendations)\n",
    "\n",
    "    # Rule 4: Gender-based recommendations\n",
    "    gender_recommendations = []\n",
    "    gender_products = (\n",
    "        new_df[new_df['gender_mapped'] == member_gender]\n",
    "        .portfolio_map.value_counts()\n",
    "        .index\n",
    "        .tolist()\n",
    "    )\n",
    "    for product in gender_products:\n",
    "        if product not in member_current_products and product not in recommended_products:\n",
    "            gender_recommendations.append(product)\n",
    "        if len(recommended_products) + len(gender_recommendations) >= n:\n",
    "            break\n",
    "    \n",
    "    if gender_recommendations:\n",
    "        gender_message = (\n",
    "            \"Specially curated for you! \" if member_gender == 'Female' else\n",
    "            \"Join other members like you! \"\n",
    "        )\n",
    "        messages.append(\n",
    "            f\"{gender_message}Discover {', '.join(gender_recommendations)} - \"\n",
    "            f\"products that match your financial goals.\"\n",
    "        )\n",
    "    recommended_products.extend(gender_recommendations)\n",
    "    # Collaborative Filtering for Additional Recommendations\n",
    "    if len(recommended_products) < n:\n",
    "        collab_recommendations = []\n",
    "        distances, indices = model.kneighbors(member_features, n_neighbors=n + len(recommended_products))\n",
    "        for index in indices[0]:\n",
    "            product = new_df.iloc[index]['portfolio_map']\n",
    "            if product not in member_current_products and product not in recommended_products:\n",
    "                collab_recommendations.append(product)\n",
    "            if len(recommended_products) + len(collab_recommendations) >= n:\n",
    "                break\n",
    "        \n",
    "        if collab_recommendations:\n",
    "            messages.append(\n",
    "                f\"Based on your profile, we think you'll love {', '.join(collab_recommendations)}. \"\n",
    "                f\"These products align perfectly with your financial journey!\"\n",
    "            )\n",
    "        recommended_products.extend(collab_recommendations)\n",
    "\n",
    "    # Final personalized message\n",
    "    if len(recommended_products) > 0:\n",
    "        messages.append(\n",
    "            f\"💡 Pro tip: Adding {', '.join(recommended_products[:n])} to your portfolio \"\n",
    "            f\"could help you achieve your financial goals faster!\"\n",
    "        )\n",
    "\n",
    "    return recommended_products[:n], messages"
   ]
  },
  {
   "cell_type": "code",
   "execution_count": 62,
   "metadata": {},
   "outputs": [
    {
     "name": "stdout",
     "output_type": "stream",
     "text": [
      "\n",
      "🏦 Member Profile Analysis\n",
      "--------------------------------------------------\n",
      "Member ID: 96336\n",
      "Age Group: 31-45\n",
      "Town: Unknown\n",
      "Gender: Female\n",
      "Beneficiary Age: 64.0\n",
      "\n",
      "📊 Recommended Products\n",
      "--------------------------------------------------\n",
      "1. Equity Fund\n",
      "2. Dollar Fund\n",
      "3. Fixed Income\n",
      "\n",
      "💌 Personalized Messages\n",
      "--------------------------------------------------\n",
      "Message 1:\n",
      "Members in your age group are enjoying these popular products: Equity Fund, Dollar Fund, Fixed Income. Join them in making smart financial choices!\n",
      "\n",
      "Message 2:\n",
      "💡 Pro tip: Adding Equity Fund, Dollar Fund, Fixed Income to your portfolio could help you achieve your financial goals faster!\n",
      "\n",
      "\n",
      "📝 Current Portfolio\n",
      "--------------------------------------------------\n",
      "• Money Market\n"
     ]
    }
   ],
   "source": [
    "# Test the recommendations for a sample member\n",
    "sample_index = 3464  # Adjust the sample index for testing\n",
    "sample_member = X_test[sample_index].toarray()\n",
    "sample_member_id = new_df.iloc[sample_index]['member_no']  # Ensure 'member_id' is in new_df\n",
    "\n",
    "# Get recommendations and messages for the sample member\n",
    "recommendations, messages = get_recommendations_with_messages(sample_member.reshape(1, -1), sample_member_id, n=3)\n",
    "\n",
    "# Display the results\n",
    "print(\"\\n🏦 Member Profile Analysis\")\n",
    "print(\"-\" * 50)\n",
    "print(f\"Member ID: {sample_member_id}\")\n",
    "member_details = new_df.loc[new_df['member_no'] == sample_member_id].iloc[0]\n",
    "print(f\"Age Group: {member_details['age_group']}\")\n",
    "print(f\"Town: {member_details['town']}\")\n",
    "print(f\"Gender: {member_details['gender_mapped']}\")\n",
    "if not pd.isna(member_details['beneficiery_age']):\n",
    "    print(f\"Beneficiary Age: {member_details['beneficiery_age']}\")\n",
    "\n",
    "print(\"\\n📊 Recommended Products\")\n",
    "print(\"-\" * 50)\n",
    "for i, product in enumerate(recommendations, 1):\n",
    "    print(f\"{i}. {product}\")\n",
    "\n",
    "print(\"\\n💌 Personalized Messages\")\n",
    "print(\"-\" * 50)\n",
    "for i, message in enumerate(messages, 1):\n",
    "    print(f\"Message {i}:\")\n",
    "    print(f\"{message}\")\n",
    "    print()\n",
    "\n",
    "# Optional: Display current products for comparison\n",
    "current_products = set(new_df.loc[new_df['member_no'] == sample_member_id, 'portfolio_map'].values)\n",
    "if current_products:\n",
    "    print(\"\\n📝 Current Portfolio\")\n",
    "    print(\"-\" * 50)\n",
    "    for product in current_products:\n",
    "        print(f\"• {product}\")"
   ]
  },
  {
   "cell_type": "code",
   "execution_count": 63,
   "metadata": {},
   "outputs": [
    {
     "name": "stdout",
     "output_type": "stream",
     "text": [
      "\n",
      "🏦 Member Profile Analysis\n",
      "--------------------------------------------------\n",
      "Member ID: 99988\n",
      "Age Group: 31-45\n",
      "Town: NAIROBI\n",
      "Gender: Female\n",
      "Beneficiary Age: 3.0\n",
      "\n",
      "📊 Recommended Products\n",
      "--------------------------------------------------\n",
      "1. Junior Account\n",
      "2. Equity Fund\n",
      "3. Dollar Fund\n",
      "\n",
      "💌 Personalized Messages\n",
      "--------------------------------------------------\n",
      "Message 1:\n",
      "Give your child a head start with our Junior Account! It's specially designed for children under 18 to help them develop good financial habits early.\n",
      "\n",
      "Message 2:\n",
      "Members in your age group are enjoying these popular products: Equity Fund, Dollar Fund. Join them in making smart financial choices!\n",
      "\n",
      "Message 3:\n",
      "💡 Pro tip: Adding Junior Account, Equity Fund, Dollar Fund to your portfolio could help you achieve your financial goals faster!\n",
      "\n",
      "\n",
      "📝 Current Portfolio\n",
      "--------------------------------------------------\n",
      "• Money Market\n"
     ]
    }
   ],
   "source": [
    "# Test the recommendations for a sample member\n",
    "sample_index = 9  # Adjust the sample index for testing\n",
    "sample_member = X_test[sample_index].toarray()\n",
    "sample_member_id = new_df.iloc[sample_index]['member_no']  # Ensure 'member_id' is in new_df\n",
    "\n",
    "# Get recommendations and messages for the sample member\n",
    "recommendations, messages = get_recommendations_with_messages(sample_member.reshape(1, -1), sample_member_id, n=3)\n",
    "\n",
    "# Display the results\n",
    "print(\"\\n🏦 Member Profile Analysis\")\n",
    "print(\"-\" * 50)\n",
    "print(f\"Member ID: {sample_member_id}\")\n",
    "member_details = new_df.loc[new_df['member_no'] == sample_member_id].iloc[0]\n",
    "print(f\"Age Group: {member_details['age_group']}\")\n",
    "print(f\"Town: {member_details['town']}\")\n",
    "print(f\"Gender: {member_details['gender_mapped']}\")\n",
    "if not pd.isna(member_details['beneficiery_age']):\n",
    "    print(f\"Beneficiary Age: {member_details['beneficiery_age']}\")\n",
    "\n",
    "print(\"\\n📊 Recommended Products\")\n",
    "print(\"-\" * 50)\n",
    "for i, product in enumerate(recommendations, 1):\n",
    "    print(f\"{i}. {product}\")\n",
    "\n",
    "print(\"\\n💌 Personalized Messages\")\n",
    "print(\"-\" * 50)\n",
    "for i, message in enumerate(messages, 1):\n",
    "    print(f\"Message {i}:\")\n",
    "    print(f\"{message}\")\n",
    "    print()\n",
    "\n",
    "# Optional: Display current products for comparison\n",
    "current_products = set(new_df.loc[new_df['member_no'] == sample_member_id, 'portfolio_map'].values)\n",
    "if current_products:\n",
    "    print(\"\\n📝 Current Portfolio\")\n",
    "    print(\"-\" * 50)\n",
    "    for product in current_products:\n",
    "        print(f\"• {product}\")"
   ]
  },
  {
   "cell_type": "code",
   "execution_count": 64,
   "metadata": {},
   "outputs": [
    {
     "data": {
      "text/html": [
       "<div>\n",
       "<style scoped>\n",
       "    .dataframe tbody tr th:only-of-type {\n",
       "        vertical-align: middle;\n",
       "    }\n",
       "\n",
       "    .dataframe tbody tr th {\n",
       "        vertical-align: top;\n",
       "    }\n",
       "\n",
       "    .dataframe thead th {\n",
       "        text-align: right;\n",
       "    }\n",
       "</style>\n",
       "<table border=\"1\" class=\"dataframe\">\n",
       "  <thead>\n",
       "    <tr style=\"text-align: right;\">\n",
       "      <th></th>\n",
       "      <th>member_no</th>\n",
       "      <th>town</th>\n",
       "      <th>relationship</th>\n",
       "      <th>gender_mapped</th>\n",
       "      <th>member_age</th>\n",
       "      <th>beneficiery_age</th>\n",
       "      <th>portfolio_map</th>\n",
       "      <th>age_group</th>\n",
       "    </tr>\n",
       "  </thead>\n",
       "  <tbody>\n",
       "    <tr>\n",
       "      <th>0</th>\n",
       "      <td>99996</td>\n",
       "      <td>NAIROBI</td>\n",
       "      <td>partner</td>\n",
       "      <td>Female</td>\n",
       "      <td>26</td>\n",
       "      <td>26.0</td>\n",
       "      <td>Money Market</td>\n",
       "      <td>19-30</td>\n",
       "    </tr>\n",
       "    <tr>\n",
       "      <th>14</th>\n",
       "      <td>99996</td>\n",
       "      <td>NAIROBI</td>\n",
       "      <td>sibling</td>\n",
       "      <td>Female</td>\n",
       "      <td>26</td>\n",
       "      <td>23.0</td>\n",
       "      <td>Money Market</td>\n",
       "      <td>19-30</td>\n",
       "    </tr>\n",
       "    <tr>\n",
       "      <th>28</th>\n",
       "      <td>99994</td>\n",
       "      <td>Unknown</td>\n",
       "      <td>partner</td>\n",
       "      <td>Female</td>\n",
       "      <td>58</td>\n",
       "      <td>62.0</td>\n",
       "      <td>Money Market</td>\n",
       "      <td>46-60</td>\n",
       "    </tr>\n",
       "    <tr>\n",
       "      <th>40</th>\n",
       "      <td>99993</td>\n",
       "      <td>NAIROBI</td>\n",
       "      <td>partner</td>\n",
       "      <td>Female</td>\n",
       "      <td>50</td>\n",
       "      <td>54.0</td>\n",
       "      <td>Money Market</td>\n",
       "      <td>46-60</td>\n",
       "    </tr>\n",
       "    <tr>\n",
       "      <th>70</th>\n",
       "      <td>99993</td>\n",
       "      <td>NAIROBI</td>\n",
       "      <td>child</td>\n",
       "      <td>Female</td>\n",
       "      <td>50</td>\n",
       "      <td>30.0</td>\n",
       "      <td>Money Market</td>\n",
       "      <td>46-60</td>\n",
       "    </tr>\n",
       "  </tbody>\n",
       "</table>\n",
       "</div>"
      ],
      "text/plain": [
       "    member_no     town relationship gender_mapped  member_age  \\\n",
       "0       99996  NAIROBI      partner        Female          26   \n",
       "14      99996  NAIROBI      sibling        Female          26   \n",
       "28      99994  Unknown      partner        Female          58   \n",
       "40      99993  NAIROBI      partner        Female          50   \n",
       "70      99993  NAIROBI        child        Female          50   \n",
       "\n",
       "    beneficiery_age portfolio_map age_group  \n",
       "0              26.0  Money Market     19-30  \n",
       "14             23.0  Money Market     19-30  \n",
       "28             62.0  Money Market     46-60  \n",
       "40             54.0  Money Market     46-60  \n",
       "70             30.0  Money Market     46-60  "
      ]
     },
     "execution_count": 64,
     "metadata": {},
     "output_type": "execute_result"
    }
   ],
   "source": [
    "new_df.head()"
   ]
  },
  {
   "cell_type": "code",
   "execution_count": 65,
   "metadata": {},
   "outputs": [
    {
     "name": "stdout",
     "output_type": "stream",
     "text": [
      "Notebook content has been pickled successfully.\n"
     ]
    }
   ],
   "source": [
    "import nbformat\n",
    "import pickle\n",
    "\n",
    "# Define the notebook filename\n",
    "notebook_filename = 'Investment Product Cross Selling Collins.ipynb'\n",
    "\n",
    "try:\n",
    "    # Step 1: Read the notebook content using nbformat with UTF-8 encoding\n",
    "    with open(notebook_filename, 'r', encoding='utf-8') as f:\n",
    "        notebook_content = nbformat.read(f, as_version=4)\n",
    "\n",
    "    # Step 2: Pickle the notebook content\n",
    "    with open('Investment_Product_Cross_Selling_notebook.pkl', 'wb') as f:\n",
    "        pickle.dump(notebook_content, f)\n",
    "\n",
    "    print(\"Notebook content has been pickled successfully.\")\n",
    "\n",
    "except FileNotFoundError:\n",
    "    print(f\"Error: The file '{notebook_filename}' was not found. Please ensure the file is in the current directory and that the filename is correct.\")"
   ]
  },
  {
   "cell_type": "code",
   "execution_count": 66,
   "metadata": {},
   "outputs": [],
   "source": [
    "# #saving the notebook as a pickle file\n",
    "# import nbformat\n",
    "# import pickle\n",
    "\n",
    "# # Define the notebook filename\n",
    "# notebook_filename = 'Investment Product Cross Selling(1).ipynb'\n",
    "\n",
    "# # Read the notebook content using nbformat with UTF-8 encoding\n",
    "# with open(notebook_filename, 'r', encoding='utf-8') as f:\n",
    "#     notebook_content = nbformat.read(f, as_version=4)\n",
    "\n",
    "# # Pickle the notebook content\n",
    "# with open('Investment_Product_Cross_Selling_notebook.pkl', 'wb') as f:\n",
    "#     pickle.dump(notebook_content, f)\n",
    "\n",
    "# print(\"Notebook content has been pickled successfully.\")\n"
   ]
  },
  {
   "cell_type": "code",
   "execution_count": 67,
   "metadata": {},
   "outputs": [
    {
     "name": "stdout",
     "output_type": "stream",
     "text": [
      "{'cells': [{'cell_type': 'markdown', 'metadata': {}, 'source': '# Product Cross Selling Recommender System\\n\\n**Business Problem Statement:**\\n\\nOur financial services company has a diverse portfolio of investment products, yet the vast majority (99%) of our existing customers hold only one product—the Money Market Fund. Despite a broad array of offerings (Balanced Fund, Dollar Fund, Equity Fund, Fixed Income Fund, and Wealth Fund), our product penetration per customer (PPC) remains exceptionally low. This indicates a significant opportunity to cross-sell additional products to our existing customer base, which would increase customer value, loyalty, and the company’s overall profitability.\\n\\nCurrently, our customers’ data includes key information that could be leveraged to tailor product recommendations. These data points include:\\n- **Location (town)**\\n- **Gender**\\n- **Customer-relationship or beneficiary information** (as customers may have more than one relationship or beneficiary associated with them)\\n- **Customer age and DOB**\\n- **Beneficiary age and DOB**\\n\\nOur goal is to create a user-friendly, intelligent recommender system that can analyze this existing data to suggest additional, relevant financial products to each customer. This system should be able to identify patterns or trends in customer profiles, uncover customer needs, and map those needs to suitable financial products, increasing our PPC in an efficient, cost-effective manner. \\n\\n**Objectives:**\\n1. **Customer Retention and Loyalty**: By offering personalized recommendations, we aim to build deeper, more personalized relationships with our customers, making them more likely to stay with us long-term.\\n2. **Increased Revenue per Customer**: A successful cross-selling strategy would increase the average number of products per customer, boosting overall portfolio revenue.\\n3. **User-Friendly Experience**: Ensuring a straightforward, accessible interface for customers to explore new financial products, particularly given that our target customers may have limited experience with financial diversification.\\n\\n**Project Success Criteria:**\\n1. Develop a model that accurately predicts the next likely product(s) for each customer based on their profile and behavior.\\n2. Achieve a measurable increase in the PPC rate by the end of the initial deployment phase.\\n3. Design an intuitive interface that enhances the customer journey, with minimal friction, to encourage engagement and adoption.'}, {'cell_type': 'markdown', 'metadata': {}, 'source': '## DATA CLEANING AND PREPARATION'}, {'cell_type': 'code', 'execution_count': 1, 'metadata': {}, 'outputs': [], 'source': '#importing the necessary libraries\\nimport zipfile\\nimport pandas as pd\\nimport numpy as np\\nimport matplotlib.pyplot as plt\\nimport seaborn as sns\\nimport nbformat\\nimport pickle\\n\\nfrom sklearn.metrics.pairwise import cosine_similarity\\nfrom scipy.spatial.distance import cosine\\nfrom sklearn.feature_extraction.text import TfidfVectorizer\\nfrom sklearn.model_selection import train_test_split\\nfrom datetime import datetime\\nfrom sklearn.neighbors import NearestNeighbors\\nfrom sklearn.metrics import accuracy_score\\n'}, {'cell_type': 'code', 'execution_count': 2, 'metadata': {}, 'outputs': [], 'source': '# # Extract the CSV file from the zip file\\n# with zipfile.ZipFile(\"single_member.zip\", \\'r\\') as zip_ref:\\n#     zip_ref.extractall()  # This will extract to the current directory'}, {'cell_type': 'code', 'execution_count': 3, 'metadata': {}, 'outputs': [{'data': {'text/html': '<div>\\n<style scoped>\\n    .dataframe tbody tr th:only-of-type {\\n        vertical-align: middle;\\n    }\\n\\n    .dataframe tbody tr th {\\n        vertical-align: top;\\n    }\\n\\n    .dataframe thead th {\\n        text-align: right;\\n    }\\n</style>\\n<table border=\"1\" class=\"dataframe\">\\n  <thead>\\n    <tr style=\"text-align: right;\">\\n      <th></th>\\n      <th>member_no</th>\\n      <th>reg_date</th>\\n      <th>dob</th>\\n      <th>hse_no</th>\\n      <th>gender</th>\\n      <th>town</th>\\n      <th>relationship</th>\\n      <th>beneficiery_dob</th>\\n      <th>portfolio</th>\\n    </tr>\\n  </thead>\\n  <tbody>\\n    <tr>\\n      <th>0</th>\\n      <td>99996</td>\\n      <td>2023-10-01 00:00:00.000</td>\\n      <td>1998-04-06 00:00:00</td>\\n      <td>Single Member</td>\\n      <td>Female</td>\\n      <td>NAIROBI</td>\\n      <td>Partner</td>\\n      <td>1998-01-26</td>\\n      <td>Money Market</td>\\n    </tr>\\n    <tr>\\n      <th>1</th>\\n      <td>99996</td>\\n      <td>2023-10-01 00:00:00.000</td>\\n      <td>1998-04-06 00:00:00</td>\\n      <td>Single Member</td>\\n      <td>Female</td>\\n      <td>NAIROBI</td>\\n      <td>Partner</td>\\n      <td>1998-01-26</td>\\n      <td>Money Market</td>\\n    </tr>\\n    <tr>\\n      <th>2</th>\\n      <td>99996</td>\\n      <td>2023-10-01 00:00:00.000</td>\\n      <td>1998-04-06 00:00:00</td>\\n      <td>Single Member</td>\\n      <td>Female</td>\\n      <td>NAIROBI</td>\\n      <td>Partner</td>\\n      <td>1998-01-26</td>\\n      <td>Money Market</td>\\n    </tr>\\n    <tr>\\n      <th>3</th>\\n      <td>99996</td>\\n      <td>2023-10-01 00:00:00.000</td>\\n      <td>1998-04-06 00:00:00</td>\\n      <td>Single Member</td>\\n      <td>Female</td>\\n      <td>NAIROBI</td>\\n      <td>Partner</td>\\n      <td>1998-01-26</td>\\n      <td>Money Market</td>\\n    </tr>\\n    <tr>\\n      <th>4</th>\\n      <td>99996</td>\\n      <td>2023-10-01 00:00:00.000</td>\\n      <td>1998-04-06 00:00:00</td>\\n      <td>Single Member</td>\\n      <td>Female</td>\\n      <td>NAIROBI</td>\\n      <td>Partner</td>\\n      <td>1998-01-26</td>\\n      <td>Money Market</td>\\n    </tr>\\n    <tr>\\n      <th>...</th>\\n      <td>...</td>\\n      <td>...</td>\\n      <td>...</td>\\n      <td>...</td>\\n      <td>...</td>\\n      <td>...</td>\\n      <td>...</td>\\n      <td>...</td>\\n      <td>...</td>\\n    </tr>\\n    <tr>\\n      <th>7532949</th>\\n      <td>2</td>\\n      <td>2011-06-07</td>\\n      <td>1965-05-06</td>\\n      <td>Single Member</td>\\n      <td>Male</td>\\n      <td>NAIROBI</td>\\n      <td>NaN</td>\\n      <td>NaN</td>\\n      <td>Money Market</td>\\n    </tr>\\n    <tr>\\n      <th>7532950</th>\\n      <td>2</td>\\n      <td>2011-06-07</td>\\n      <td>1965-05-06</td>\\n      <td>Single Member</td>\\n      <td>Male</td>\\n      <td>NAIROBI</td>\\n      <td>NaN</td>\\n      <td>NaN</td>\\n      <td>Money Market</td>\\n    </tr>\\n    <tr>\\n      <th>7532951</th>\\n      <td>2</td>\\n      <td>2011-06-07</td>\\n      <td>1965-05-06</td>\\n      <td>Single Member</td>\\n      <td>Male</td>\\n      <td>NAIROBI</td>\\n      <td>NaN</td>\\n      <td>NaN</td>\\n      <td>Money Market</td>\\n    </tr>\\n    <tr>\\n      <th>7532952</th>\\n      <td>2</td>\\n      <td>2011-06-07</td>\\n      <td>1965-05-06</td>\\n      <td>Single Member</td>\\n      <td>Male</td>\\n      <td>NAIROBI</td>\\n      <td>NaN</td>\\n      <td>NaN</td>\\n      <td>Balanced Fund</td>\\n    </tr>\\n    <tr>\\n      <th>7532953</th>\\n      <td>2</td>\\n      <td>2011-06-07</td>\\n      <td>1965-05-06</td>\\n      <td>Single Member</td>\\n      <td>Male</td>\\n      <td>NAIROBI</td>\\n      <td>NaN</td>\\n      <td>NaN</td>\\n      <td>Money Market</td>\\n    </tr>\\n  </tbody>\\n</table>\\n<p>7532954 rows × 9 columns</p>\\n</div>', 'text/plain': '         member_no                 reg_date                  dob  \\\\\\n0            99996  2023-10-01 00:00:00.000  1998-04-06 00:00:00   \\n1            99996  2023-10-01 00:00:00.000  1998-04-06 00:00:00   \\n2            99996  2023-10-01 00:00:00.000  1998-04-06 00:00:00   \\n3            99996  2023-10-01 00:00:00.000  1998-04-06 00:00:00   \\n4            99996  2023-10-01 00:00:00.000  1998-04-06 00:00:00   \\n...            ...                      ...                  ...   \\n7532949          2               2011-06-07           1965-05-06   \\n7532950          2               2011-06-07           1965-05-06   \\n7532951          2               2011-06-07           1965-05-06   \\n7532952          2               2011-06-07           1965-05-06   \\n7532953          2               2011-06-07           1965-05-06   \\n\\n                hse_no  gender     town relationship beneficiery_dob  \\\\\\n0        Single Member  Female  NAIROBI      Partner      1998-01-26   \\n1        Single Member  Female  NAIROBI      Partner      1998-01-26   \\n2        Single Member  Female  NAIROBI      Partner      1998-01-26   \\n3        Single Member  Female  NAIROBI      Partner      1998-01-26   \\n4        Single Member  Female  NAIROBI      Partner      1998-01-26   \\n...                ...     ...      ...          ...             ...   \\n7532949  Single Member    Male  NAIROBI          NaN             NaN   \\n7532950  Single Member    Male  NAIROBI          NaN             NaN   \\n7532951  Single Member    Male  NAIROBI          NaN             NaN   \\n7532952  Single Member    Male  NAIROBI          NaN             NaN   \\n7532953  Single Member    Male  NAIROBI          NaN             NaN   \\n\\n             portfolio  \\n0         Money Market  \\n1         Money Market  \\n2         Money Market  \\n3         Money Market  \\n4         Money Market  \\n...                ...  \\n7532949   Money Market  \\n7532950   Money Market  \\n7532951   Money Market  \\n7532952  Balanced Fund  \\n7532953   Money Market  \\n\\n[7532954 rows x 9 columns]'}, 'execution_count': 3, 'metadata': {}, 'output_type': 'execute_result'}], 'source': '#load the dataset\\ndf = pd.read_csv(\"single_member.csv\")\\ndf'}, {'cell_type': 'code', 'execution_count': 4, 'metadata': {}, 'outputs': [{'data': {'text/plain': \"Index(['member_no', 'reg_date', 'dob', 'hse_no', 'gender', 'town',\\n       'relationship', 'beneficiery_dob', 'portfolio'],\\n      dtype='object')\"}, 'execution_count': 4, 'metadata': {}, 'output_type': 'execute_result'}], 'source': '#inspecting the columns in the dataframe\\ndf.columns'}, {'cell_type': 'code', 'execution_count': 5, 'metadata': {}, 'outputs': [{'data': {'text/plain': 'array([99996, 99994, 99993, ...,    19,     3,     2], dtype=int64)'}, 'execution_count': 5, 'metadata': {}, 'output_type': 'execute_result'}], 'source': \"#checking the unique values from the member_no column\\ndf['member_no'].unique()\"}, {'cell_type': 'code', 'execution_count': 6, 'metadata': {}, 'outputs': [{'data': {'text/plain': \"array(['Female', 'Male', 'FEMALE', nan, 'MALE', 'F', 'M'], dtype=object)\"}, 'execution_count': 6, 'metadata': {}, 'output_type': 'execute_result'}], 'source': \"#checking the unique values from the gender column\\ndf['gender'].unique()\"}, {'cell_type': 'code', 'execution_count': 7, 'metadata': {}, 'outputs': [{'data': {'text/plain': 'array([\\'NAIROBI\\', nan, \\'NAIROBI \\', \\'THIKA\\', \\'NAKURU\\', \\'MOMBASA \\',\\n       \\'NDANAI \\', \\'KISUMU\\', \\'KIKUYU\\', \\'JUJA\\', \\'MACHAKOS\\', \\'MERU\\',\\n       \\'KERICHO\\', \\'MUKURWEINI\\', \\'KATANGI\\', \\'THIKA,KIAMBU\\', \\'NANYUKI\\',\\n       \\'RUAI \\', \\'MALINDI\\', \\'NYAHURURU\\', \\'MUMIAS\\', \\'KAKAMEGA\\', \\'LODWAR\\',\\n       \\'Nairobi \\', \\'KITENGELA\\', \\'LIMURU\\', \\'THIKA \\', \\'MIGORI\\', \\'ELDORET\\',\\n       \\'KITUI\\', \\'RUARAKA\\', \\'Ruiru\\', \\'NJORO\\', \\'EMBU\\', \\'SORI\\', \\'NGONG\\',\\n       \\'MASENO\\', \\'GATUNDU\\', \\'KAHURO\\', \\'KILIFI\\', \\'RUIRU\\', \\'KERUGOYA\\',\\n       \\'KARATINA\\', \\'KITALE \\', \\'MOMBASA\\', \\'BUNGOMA\\', \\'KISII\\', \\'-\\',\\n       \\'Nairobi\\', \\'KINAMBA\\', \\'SIAYA\\', \\'KERICHO \\', \\'KIAMBU\\', \\'KITALE\\',\\n       \\'BUSIA\\', \\'RUNYENJES\\', \\'VILLAGE MARKET\\', \\'Kapsabet\\', \\'KAGWE\\',\\n       \\'NANDI HILLS\\', \\'KUTUS\\', \\'DAGORETTI\\', \\'LITEIN\\', \\'KAJIADO\\', \\'CHUKA\\',\\n       \\'NYERI\\', \\'NAIROBI, NAIROBI\\', \\'Kisumu \\', \\'KANJUKU\\', \\'EMALI\\',\\n       \\'GILGIL\\', \\'Kiambu \\', \\'KANGEMA\\', \\'TIRIKI\\', \\'KARATINA \\', \\'OTHAYA\\',\\n       \\'KARURI ,KIAMBU\\', \\'MURANGA \\', \\'Mombasa\\', \\'GATUKUYU \\', \\'MLOLONGO\\',\\n       \\'UTAWALA \\', \\'KAPENGURIA\\', \\'KAPSABET\\', \\'SUNA\\', \\'BOMET\\', \\'KENOL \\',\\n       \\'NYERI \\', \\'BUNGOMA \\', \\'NDANAI\\', \\'KALIMONI\\', \\'KIGANJO\\',\\n       \\'KAPSOKWONY\\', \\'Nakuru\\', \\'KIAMBU \\', \\'nairobi\\', \\'CHOGORIA\\',\\n       \\'GITHUNGURI\\', \\'YOANI,SALAMA\\', \\'LIMURU \\', \\'NAIROBI, KENYA.\\',\\n       \\'UKUNDA\\', \\'MATUU\\', \\'embu\\', \\'NYALI\\', \\'nakuru\\', \\'MBALE\\', \\'EMUHAYA\\',\\n       \\'TELFORD\\', \\'NAIVASHA\\', \\'KAREN\\', \\'KILIFI \\', \\'HOLA\\', \\'MAKINDU\\',\\n       \\'WOTE\\', \\'DIANI\\', \\'O\\', \\'OLKALAU\\', \\'KAREN \\', \\'UPLANDS\\', \\'WANGÚRU\\',\\n       \\'KABIYET\\', \\'KAKAMEGA \\', \\'SOTIK\\', \\'NGONG \\', \\'CITY SQUARE\\', \\'NKUBU\\',\\n       \\'KANGARI\\', \\'NGONG HILLS \\', \\'NYAHURURU \\', \\'KARURI \\', \\'UTHIRU\\',\\n       \\'MARIMANTI\\', \\'MANCHESTER\\', \\'Kikuyu\\', \\'.\\', \\'NAIRO \\', \\'kiambu\\',\\n       \\'VOI\\', \\'EMBAKASI\\', \\'MOLO\\', \\'Siaya \\', \\'NGIYA\\', \\'OLKALOU\\',\\n       \\'KANYAGIA\\', \\'WANJOHI\\', \\'kabete\\', \\'Wamunyu\\', \\'MARIAKANI\\',\\n       \\'KISERIAN\\', \\'ARTHI RIVER \\', \\'SUBUKIA\\', \\'KILGORIS\\', \\'KIMININI\\',\\n       \\'LAGOS\\', \\'SARE\\', \\'ATHI RIVER\\', \\'ngong hills \\', \\'WERUGHA\\',\\n       \\'NAIROBIP\\', \\'MASINFA\\', \\'kikuyu\\', \\'OL JORO OROK\\', \\'MAUA\\',\\n       \\'GIKUE MURANGA\\', \\'KIMENDE\\', \\'KIMILILI\\', \\'KISUMU \\', \\'VIHIGA\\',\\n       \\' NAIROBI \\', \\'BURUBURU\\', \\'MATATHIA\\', \\'RUAKA\\', \\'UGUNJA\\', \\'LONGISA\\',\\n       \\'ELDORATE \\', \\'KAPKATET\\', \\'WINNIPEG\\', \\'PIPELINE \\', \\'KAHAWA WEST \\',\\n       \\'KANDARA\\', \\'Kimilili \\', \\'MTWAPA \\', \\'MARAGUA\\', \\'BANANA \\', \\'NYAMIRA\\',\\n       \\'AUBURN\\', \\'KARURI\\', \\'MTWAPA\\', \\'ONGATA RONGAI\\', \\'ELDORET \\',\\n       \\'HOMABAY\\', \\'WANGIGE\\', \\'KENDUBAY\\', \\'KIBWEZI\\', \\'RONGAI\\', \\'RUIRU \\',\\n       \\'NORTH KINANGOP\\', \\'MAKUYU\\', \\'Nyeri \\', \\'Eldoret \\', \\'BOUTIGNY\\',\\n       \\'00506\\', \\'MWINGI\\', \\'00100\\', \\'KERUGOYA \\', \\'TALA\\', \\'OLENGURUONE\\',\\n       \\'MAVINDINI\\', \\'UHURU GARDENS\\', \\'KIKUYU \\', \\'Ongata Rongai\\',\\n       \\'SOUTH KINANGOP\\', \\'ELDAMA RAVINE\\', \\'MITUNGURU\\', \\'TOM MBOYA\\',\\n       \\'NAKURU \\', \\'MITABONI\\', \\'NAROMORU\\', \\'MURANGA\\', \\'OLJOROROK\\',\\n       \\'BUTERE\\', \\'OYUGIS\\', \\'SILIBWET\\', \\'EMBU \\', \\'Doha\\', \\'Eldoret\\',\\n       \\'KANGEMI\\', \\'NYERI-KIGUMO\\', \\'KISERIAN \\', \\'Athi River\\', \\'KENOL\\',\\n       \\'OL KALOU\\', \\'WESTLANDS\\', \\'Nyahururu \\', \\'ENDARASHA \\', \\'GPO/NAIROBI\\',\\n       \\'DAGORETI\\', \\'OGEMBO \\', \\'mombasa\\', \\'RUAI\\', \\'DONYO SABUK\\', \\'KEROKA\\',\\n       \\'LOWER KABETE\\', \\'MWEIGA\\', \\'Naitobi\\', \\'TOKYO\\', \\'Embu\\', \\'KIRINYAGA\\',\\n       \\'KIANYAGA\\', \\'SIAYA \\', \\'ADLISWIL\\', \\'BURU BURU\\', \\'MERU \\', \\'NYAKIO\\',\\n       \\'KWALE\\', \\'AMUKURA\\', \\'NAROK\\', \\'KOBUJOI\\', \"WANG\\'URU\", \\'BONDO\\',\\n       \\'Kericho\\', \\'KIKIMA \\', \\'CHANGAMWE\\', \\'BUTULA\\', \\'NAIROBI KAYOLE\\',\\n       \\'KANGUNDO\\', \\'MARIAKANI \\', \\'TIMBOROA\\', \\'KIANJAI\\', \\'KALOLENI \\',\\n       \\'ISINYA\\', \\'IOWA CITY, IOWA\\', \\'Garsen \\', \\'MUKURWE-INI\\',\\n       \\'NAIROBI GPO\\', \\'MANYATTA\\', \\'SARE-OWENDO\\', \\'NANYUKI \\', \\'NDHIWA\\',\\n       \\'ELBURGON\\', \\'Orange\\', \\'MAKUENI\\', \\'kisumu \\', \\'MACHAKOS \\',\\n       \\'KABARNET \\', \"Murang\\'a \", \\'JUJA, KIAMBU\\', \\'Bungoma\\', \\'MAWEGO\\',\\n       \\'Bath\\', \\'ROYSAMBU\\', \\'Nanyuki\\', \\'SAGANA\\', \\'MACH \\', \\'Nyeri\\', \\'Ruaka\\',\\n       \\'KITUI \\', \\'KAJIADO \\', \\'NUNGUNI\\', \\'RONGAI \\', \\'KISII \\', \\'WANGIGE \\',\\n       \\'Makongeni Jogoo Rd\\', \\'nairobi \\', \\'Kikuyu \\', \\'Kisii\\', \\'MSAMBWENI\\',\\n       \\'BUJUMBURA\\', \\'GITHONGO\\', \\'KEROKA/KISII\\', \\'BURUBURU, NAIROBI\\',\\n       \\'MALAVA\\', \\'KIJABE\\', \\'Woolwich \\', \\'NDERE-SIAYA\\', \\'AHERO\\',\\n       \\'MUHORONI \\', \\'Nakuru \\', \\'kahuro\\', \\'Malakisi \\', \\'MUHORONI\\',\\n       \\'ISIOLO\\', \\'SYOKIMAU \\', \\'ONGATA RONGAI \\', \\'Maralal \\',\\n       \\'KIBIRICHIA, MERU\\', \\'GRANGER, INDIANA\\', \\'WESTLAND \\', \\'MUKURWEINI \\',\\n       \\'MASII\\', \\'NRB\\', \\'KWISERO\\', \\'ANKARA\\', \\'SHIMBA HILLS\\', \\'TAVETA\\',\\n       \\'WOTE, MAKUENI \\', \\'WANGURU\\', \\'KISSII\\', \\'BURUBURU NAIROBI \\',\\n       \\'KIRITIRI\\', \\'MESA ARIZONA\\', \\'KAJIADO TOWN\\', \\'KURIA\\',\\n       \\'NAIROBI WEST\\', \\'ENDARASHA\\', \\'KIPKAREN \\', \\'0\\', \\'GAMBOGI\\', \\'KOLA\\',\\n       \\'Marsabit\\', \\'WEBUYE\\', \\'GAKUNGU\\', \\'NAIROBJ\\',\\n       \\'NAIROBI ,KAMITI ROAD RICHLAND\\', \\'NKUBU \\', \\'MWATATE\\', \\'MALAKISI\\',\\n       \\'ITEN\\', \\'KATHIANI\\', \"MURANG\\'A\", \\'KAIRIA\\', \\'UPLANDS \\', \\'RONGO\\',\\n       \\'UHURU GARDEN\\', \\'KINANGOP\\', \\'BAHATI NAKURU \\', \\'MATILIKU\\', \\'meru\\',\\n       \\'Limuru\\', \\'MALAA\\', \\'TURBO\\', \\'MARIMA -MERU HIGHWAY \\', \\'OLJORO OROK\\',\\n       \\'homabay \\', \\'KIKIMA\\', \\'ADAMS ARCADE\\', \\'MUNICH\\', \\'MUMIAS \\',\\n       \\'KALIMONI \\', \\'CHWELE\\', \\'MARALAL\\', \\'NAMBALE\\', \\'NAIROBI COUNTY\\',\\n       \\'Narok \\', \\'TURBO \\', \\'KANGARI \\', \\'Pécs \\', \\'thika\\', \\'KATSE\\',\\n       \\'thika \\', \\'CHEBUNYO\\', \\'OL JORO OROK \\', \\'MOBIL PLAZA\\', \\'WAMUNYU \\',\\n       \\'MAGUNGA\\', \\'RORET\\', \\'YALA\\', \\'KAHUHIA\\', \"KENOL MURANG\\'A\",\\n       \\'Machakos\\', \\'UKWALA\\', \\'KALOLENI\\', \\'JOONDALUP\\', \\'MIGORI \\',\\n       \\'MARAGOLI\\', \\'MARMANET\\', \\'IKANGA\\', \\'KINOO\\', \\'OYUGIS \\', \\'LANGATA\\',\\n       \\'Kiambu\\', \\'Malindi\\', \\'NAIROBI.\\', \\'MAKUENI \\', \\'Bungoma \\',\\n       \\'GITHUNGURI \\', \\'MACHOKOS\\', \\'KOMBEWA \\', \\'UTHIRU \\', \\'KITENGELA \\',\\n       \\'BANANA\\', \\'CHEPKORIO\\', \\'MASII \\', \\'Gitugi\\', \\'. \\', \\'RUIRY\\', \\'Kisumu\\',\\n       \\'MBUMBUNI-MACHAKOS\\', \\'WAMUYU\\', \\'siaya\\', \\'Kakamega\\', \\'TAITA TAVETA\\',\\n       \\'Bumala\\', \\'KIMENDE \\', \\'BRISTOL\\', \\'MATUNDA\\', \\'KARABA\\', \\'SULTAN\\',\\n       \\'GATURA\\', \\'KASARANI ,NAIROBI \\', \\'NANDI\\', \\'MAGUTUNI\\', \\'CHUKA \\',\\n       \\'NGONG HILL\\', \\'ngong\\', \\'KIANGAI\\', \\'MBITA\\', \\'Mumias\\', \\'KAMBITI\\',\\n       \\'MUMBI\\', \\'Juja\\', \\'WODANGA\\', \\'KIRIANI\\', \\'KABARNET\\', \\'MISIKHU\\',\\n       \\'Thika\\', \\'NYANSIONGO\\', \\'nyeri \\', \\'NAIVASHA \\', \"MURANG\\'A \",\\n       \\'KAPCHENO\\', \\'NGARA\\', \\'MADARAKA\\', \\'kitengela \\', \\'BONDO \\', \\'WAMUNYU\\',\\n       \\'NYANDARUA\\', \\'MOGOGOSIEK\\', \\'00\\', \\'NAIROBI/JUJA\\', \\'NA \\', \\'LUANDA\\',\\n       \\'KLEMZIG\\', \\'TEL AVIV\\', \\'ongata rongai \\', \\'30-60101 Manyatta \\',\\n       \\'12410 Nyeri\\', \\'KATHONZWENI \\', \\'GITHURAI \\', \\'WESRN AUSTRALIA\\',\\n       \\'SABASABA \\', \\'Gilgil \\', \\'ISEBANIA\\', \\'KIRIAINI\\', \\'MUTHETHENI \\',\\n       \\'Mombasa \\', \\'Kitengela\\', \\'CARLIFONIA\\', \\'NIL\\',\\n       \\'NAIROBI, NAIROBI AREA, KENYA\\', \\'SOY\\', \\'Sabasaba\\', \\'SABASABA\\',\\n       \\'COLUMBIA\\', \\'Homa Bay \\', \\'MARIMA\\', \\'SEGA\\', \\'KAYOLE\\', \\'BUDD LAKE\\',\\n       \\'KITHYOKO\\', \\'KIJABE \\', \\'Mbale\\', \\'KITHIMANI\\', \\'HANOI\\', \\'chuka\\',\\n       \\'KILINDINI\\', \\'MERY\\', \\'CHELMSFORD\\', \\'LOITOKITOK\\', \\'MOSORIOT\\',\\n       \\'IKONGE\\', \\'ENGINEER\\', \\'Othaya\\', \\'Ahero\\', \\'MWEA\\', \\'JOSKA \\',\\n       \\'NGAMBWA\\', \\'MASINGA\\', \\'KINANGOP \\', \\'LONDON\\', \\'KILELESHWA \\',\\n       \\'SARIT CENTRE\\', \\'mgange \\', \\'ST. MARYS NSW\\', \\'GESIMA\\', \\'Migori \\',\\n       \\'KHWISERO\\', \\'SYOKIMAU\\', \\'MTITO ANDEI \\', \\'nakuru \\', \\'NAIROBI CITY\\',\\n       \\'ATHIRIVER\\', \\'KABATI\\', \\'Kitale\\', \\'MPEKETONI\\', \\'YOANI\\',\\n       \\'KABARTONJO\\', \\'NAMANGA\\', \\'CHESINENDE\\', \\'BAHATI\\', \\'NZEEKA\\',\\n       \\'MATATHIA, KAMAE\\', \\'RONALD NGALA \\', \\'KUBUKUBU\\', \\'THOGOTO\\',\\n       \\'GATORA\\', \\'NAI \\', \\'KUJA,KIAMBU\\', \\'Machakos \\', \\'AMAGORO\\', \\'Uthiru\\',\\n       \\'Naivasha\\', \\'KEROKA \\', \\'MAZERAS\\', \\'EGERTON\\', \\'KASARANI\\', \\'Kimende\\',\\n       \\'WAJIR\\', \\'DUBAI\\', \\'TWO RIVERS\\', \\'NDARAGWA \\', \\'EASTLEIGH\\', \\'KAGIO\\',\\n       \\'HOMA BAY\\', \\'KISII, KENYA\\', \\'Thika \\', \\'NGECHA\\', \\'Kakamega \\',\\n       \\'KERINGET\\', \\'FORT WAYNE\\', \\'STAREHE\\', \\'GILGIL \\', \\'KAWANGWARE\\',\\n       \\'GPO NAIROBI\\', \\'GITUGI\\', \\'Tala\\', \\'kakamega \\', \\'TEXAS\\', \\'GACHIE\\',\\n       \\'Syokimau\\', \\'Sydney \\', \\'LESSOS\\', \\'Meru \\', \\'KIPKAREN RIVER\\',\\n       \\'SOSIOT\\', \\'LAKEWOOD SEATTLE\\', \\'Lodwar\\', \\'Kitale \\', \\'Membley\\',\\n       \\'chepkorio\\', \\'Luanda\\', \\'Kijabe \\', \\'TONGAREN\\', \\'karuri \\', \\'malindi\\',\\n       \\'Ogembo \\', \\'Maryland\\', \\'Kisii Town \\', \\'kajiado \\', \\'LIKONI\\',\\n       \\'wangige \\', \\'Ngong\\', \\'OLKALOU \\', \\'4597-20100 Nakuru\\', \\'GARISSA\\',\\n       \\'KIRIAINI \\', \\'SYOKIMAU L\\', \\'Machakos, Kathiani\\', \\'Kitui\\',\\n       \\'AUSTRALIA\\', \\'Bondo\\', \\'Salama \\', \\'bomet \\', \\'Naivasha \\',\\n       \\'TOORMINA, NSW\\', \\'Utawala\\', \\'Ankara\\', \\'MOISBRIDGE\\', \\'nbo\\',\\n       \\'Kijabe\\', \\'KABAZI\\', \\'P.O BOX 75-30105 SOY\\', \\'kisumu\\', \\'nyeri\\',\\n       \\'Voi\\', \\'Kanjuku\\', \"NG\\'IYA\", \\'Muranga\\', \\'Bournemouth \\',\\n       \\'SARE-AWENDO\\', \\'narok\\', \\'Ruiru \\', \\'Kilifi \\', \\'Meru\\',\\n       \\'Ol-joro-orok\\', \\'152 30100 eldoret \\', \\'Mtwapa\\', \\'Karuri\\',\\n       \\'Kitengela \\', \\'Isiolo \\', \\'38061-00623 Nairobi\\', \\'Ngong Hills\\',\\n       \\'RARIEDA\\', \\' Nairobi County,\\', \\'187 Ngewa\\', \\'NJAMBINI\\',\\n       \\'25635 00603 Nairobi\\', \\'GIKOE\\', \\'kakamega\\', \\'ISHIARA \\',\\n       \\'P. O. Box 111 Ruiru\\', \\'Kibwezi\\', \\'Syokimau \\', \\'kiambu \\', \\'Bomet \\',\\n       \\'Busia\\', \\'Gilgil\\', \\'LAMU\\', \\'Kajiado \\', \\'makueni \\', \\'kisii\\',\\n       \\'MERU 2274\\', \\'TURKANA\\', \\'Kilifi\\', \\'nottingham\\', \\'Embakasi\\',\\n       \\'Masii - MACHAKOS\\', \\'SEREM\\', \\'Tala, Kangundo. \\', \\'Ugunja\\',\\n       \\'Karatina\\', \\'Migori\\', \\'Berlin\\', \\'KALAMBA\\', \\'UKUNDA \\', \\'ruiru\\',\\n       \\'Sondu\\', \\'BUSIA - PORT VICTORIA \\', \\'Matuu.\\', \\'Gatundu\\',\\n       \\'Seasons Kasarani. \\', \\'KARUNGU\\', \\'Kahawa Sukari\\', \\'Kangundo \\',\\n       \\'mombasa \\', \\'St. Georges\\', \\'maseno\\', \\'KINDARUMA \\',\\n       \\'kakuma 1 Nuer community \\', \\'copenhagen\\', \\'549 LIMURU\\', \\'Lamu\\',\\n       \\'DRESDEN\\', \\'Ol Kalou \\', \\'KIRIA-INI \\', \\'123 KIKUYU\\', \\'Kianyaga\\',\\n       \\'Kasarani\\', \\'Makueni \\', \\'KABETE\\', \\'Sagana\\',\\n       \\'Imani avenue, Ongata Rongai, Kajiado\\', \\'LOS ANGELES\\', \\'KAKUMA\\',\\n       \\'kitengela\\', \\'56-10300 Kerugoya\\', \\'Kalimoni P.o Box 178-01001\\',\\n       \\'Nairobi, Komarock.\\', \\'kilifi\\', \\'NAIROBI, KITENGELA \\',\\n       \\'14 Lamina Avenue, Mill Park VIC 3082\\', \\'kebirigo \\', \\'Darwin \\',\\n       \\'Kericho \\', \\'Nairibi\\', \\'782 - 00232 Ruiru\\', \\'eldoret\\', \\'Oyugis\\',\\n       \\'Conroe\\', \\'NAIROBI 572 00300\\', \\'Eldama Ravine\\', \\'Kabete \\', \\'Maua\\',\\n       \\'Isiolo\\', \\'828-90200\\', \\'Athens\\', \\'Chicago \\', \\'Hola\\', \\'Abu Dhabi \\',\\n       \\'Nyayo Estate, Court 521\\', \\'Deanside\\', \\'452-00200, KIAMBU\\',\\n       \\'KOBENHAUN\\', \\'karuri\\', \\'Nanyuki \\', \\'P.O. Box 2413-60200, Meru\\',\\n       \\'Kenol\\', \\'Wote\\', \\'githunguri \\', \\'NAIROBI. 45095-00100\\', \\'Serem\\',\\n       \\'P.o.box 1298-00618 Ruaraka, Nairobi\\', \\'Vienna \\', \\'karen\\',\\n       \\'CHICAGO\\', \\'GENEVA\\', \\'Kiserian \\', \\'Kabarnet\\', \\'RABAI\\',\\n       \\'KIAMBU COUNTY\\', \\'Uthiru Cooperation \\', \\'Githunguri \\',\\n       \\'79718-00200 NAIROBI\\', \\'stockholm\\', \\'42 NDARAGWA\\',\\n       \\'P.O. Box 103635-00101\\', \\'Heuchlingen \\', \\'PORT VICTORIA\\',\\n       \\'Doolandella, Australia\\', \\'Grand Oyster Kileleshwa, Nairobi\\',\\n       \\'10572-00200 NAIROBI\\', \\'Wangige \\', \\'Siaya\\', \\'Litein\\', \\'Washington\\',\\n       \\'Geneva\\', \\'Winchester \\', \\'Mariashoni\\', \\'Mwiki\\', \\'Limuru \\',\\n       \\'Nairobi i\\', \\'P O Box 898-00100 NAIROBI\\', \\'KAWNGWARE NAIROBI \\',\\n       \\'rongai\\', \\'Roysambu\\', \\'NAIROBI UMOJA\\', \\'kangema\\',\\n       \\'P.O.Box 848-00208 NGONG\\', \\'Braunschweig \\', \\'Wote MAKUENI\\',\\n       \\'814_3 300 KAPSABET \\', \\'Box 2316 Machakos\\', \\'Ruaraka\\', \\'Nyahururu\\',\\n       \\'Kenmore \\', \\'Melbourne \\', \\'1711 Nyahururu\\', \\'nanyuki\\',\\n       \\'kawangware \\', \\'Narok\\', \\'Githunguri\\', \\'Mahindi \\', \\'Moncton\\',\\n       \\'kERUGOYA\\', \\'Homa Bay\\', \\'Ukunda\\', \\'Mukurweini \\', \\'Malindi \\',\\n       \\'narumoru\\', \\'Juba\\', \\'01000-214 Thika\\', \\'kabete \\', \\'Kajiado\\',\\n       \\'NAROK \\', \\'Kapenguria \\', \\'Athi-river \\', \"murang\\'a \", \\'Gem\\',\\n       \\'nyahururu \\', \\'Gachie \\', \\'Kirinyaga\\', \\' Nairobi \\', \\'CALIFORNIA\\',\\n       \\'Bomet\\', \\'molo\\', \\'Chuka\\', \\'Nairobi, Kenya.\\', \\'ANTONY\\',\\n       \\'wite-makueni\\', \\'ugunja\\', \\'Matunda \\', \\'KARORI\\', \\'kikuyu \\',\\n       \\'Shinyalu \\', \\'Molo\\', \\'KIPKAREN\\', \\'KANGUNDO \\', \\'LUTON\\', \\'FLORIDA\\',\\n       \\'NGEWA\\', \\'SUSWA\\', \\'USA\\', \"KENOL MURANG\\'A \", \\'PUYALLUP WA USA\\',\\n       \\'LAARE\\', \\'P.O Box 30231 - 00100, Nairobi\\', \\'Runyenjes\\',\\n       \\'KENDUBAY \\', \\'Gigiri, Nairobi\\', \\'GATUKUYU\\', \\'BUNYALA\\', \\'OKIA\\',\\n       \\'3704 GPO NAIROBI \\', \\'RANGWE\\', \\'KITUI KENYA\\', \\'SAUDI ARABIA\\',\\n       \\'JUJA KALIMONI\\', \\'MSA\\', \\'GAKUNYU\\', \\'MIHARATI\\', \\'KERUGOYA TOWN\\',\\n       \\'RAGENGNI\\', \\'mwingi \\', \\'NBI\\', \\'IGOJI\\', \\'KIMULOT\\', \\'LONDIANI\\',\\n       \\'CAMBRIDGE\\', \\'KHAYEGA\\', \\'NDUNYU NJERU \\', \\'58-10205 Maragua\\',\\n       \\'MALINDI \\', \\'Kasarani, Clay City\\', \\'ATHI RIVER \\', \\'Sawagongo \\',\\n       \\'HELSINKI\\', \\'GPO\\', \\'BURNTFOREST\\', \\'MATUNDA \\', \\'HARRISDALE\\',\\n       \\'KARANDI\\', \\'DUKHAN \\', \\'SONDU\\', \\'EMBU, KENYA\\', \\'NAIROBI KENYA\\',\\n       \\'NANDI HILLS \\', \\'HAZELWOOD\\', \\'MGANGE\\', \\'LUCYSUMMER-NAIROBI\\',\\n       \\'KUKUYU\\', \\'NGONG ROAD\\', \\'NYAYO STADIUM\\', \\'Karen\\', \\'makuyu\\',\\n       \\'LOITIKITOK\\', \\'Kenyenya\\', \\'MUNICH \\', \\'tawa\\', \\'FUNYULA\\',\\n       \\'NOTTIGHAM\\', \\'nanyuki \\', \\'Kenny Bay\\', \\'MOMBSA\\', \\'SHERWOOD\\',\\n       \\'NDARAGWA\\', \\'ongata rongai\\', \\'BUMALA\\', \\'MEITINGEN \\', \\'80100\\',\\n       \\'KOMBEWA\\', \\'DOYSELDOR\\', \\'NOTTINGHAM\\', \\'VIENNA\\', \\'KISERIAN KAJIADO\\',\\n       \\'NAIROBI, KENYA\\', \\'Mtwapa \\', \\'KEUMBU\\', \\'Kerugoya Town\\', \\'KAP \\',\\n       \\'UPPER HILL NAIROBI\\', \\'MOI;S BRIDGE\\', \\'ENTERPRISE  ROAD\\',\\n       \\'THIONGO-NAIROBI\\', \\'KATHONZWENI\\', \\'UTAWALA\\', \\'MIU ATHI-RIVER\\',\\n       \\'CHAMAKANGA\\', \\'NYAMACHE\\', \\'NUERI\\', \\'SULTAN HAMUD\\', \\'NAROMORU \\',\\n       \\'NYAMIRA \\', \\'NAIROBI BURU\\', \\'HAMBURG\\', \\'TOWN \\', \\'14 KADONGO 40223\\',\\n       \\'Mois Bridge \\', \\'RUNYENJES \\', \\'MARAGWA\\', \\'SURPRISE,USA\\',\\n       \\'KALAMBA \\', \\'Ruai\\', \\'KADONGO\\', \\'TORONGO\\', \\'NJABINI\\',\\n       \\'GIGIRI, VILLAGE MARKET, NAIROBI\\', \\'LAVINGTON\\', \\'SPRING VALLEY\\',\\n       \\'MBUMBUNI\\', \\'NAIROBI MUNICIPALITY\\', \\'NAIROBI,KENYA\\',\\n       \\'Bamburi Mtambo \\', \\'GITHURAI\\', \\'RUMURUTI\\',\\n       \\'Kenyatta Highway, Nanyuki\\', \\'MUTOMO\\', \\'KENYATTA HOSPITAL\\',\\n       \\'NAIROBI GENERAL POST OFFICE\\', \\'LITIEN\\', \\'LONDIANI \\',\\n       \\'ONGATA RONGAI NAIROBI\\', \\'GATUNDU \\', \\'GAMBONI\\', \\'NAIROB\\',\\n       \\'L.KABETE\\', \\'ATHI - RIVER\\', \\'kerugoya \\', \\'Webuye \\', \\'Maralal\\',\\n       \\'Andover\\', \\'mombas\\', \\'Kiambu 627-00900\\', \\'Maragua\\',\\n       \\'murang*a 10200-658\\', \\'Syracuse\\', \\'Karen Nairobi \\',\\n       \\'ontario, California 91764 \\', \\'Karlsruhe \\', \\'Nyamira \\', \\'Olkalau\\',\\n       \\'GILGIL, KENYA\\', \\'Kerugoya \\',\\n       \\'14 AV FERNAND FENZY92160  ANTONY FRANCE\\'], dtype=object)'}, 'execution_count': 7, 'metadata': {}, 'output_type': 'execute_result'}], 'source': \"#checking the unique values from the town column\\ndf['town'].unique()\"}, {'cell_type': 'code', 'execution_count': 8, 'metadata': {}, 'outputs': [{'data': {'text/plain': 'array([\\'Partner\\', \\'Sister\\', \\'Husband \\', \\'Husband\\', \\'Daughter\\', \\'Brother \\',\\n       \\'Son\\', \\'Daughter \\', \\'Wife\\', \\'Father\\', \\'Mother\\', \\'Brother\\', \\'son\\',\\n       \\'mother\\', \\'father\\', \\'Mother \\', \\'SPOUSE\\', \\'FRIEND\\', \\'Spouse \\',\\n       \\'WIfe\\', \\'Father \\', \\'Spouse\\', \\'child\\', nan, \\'Parent\\', \\'wife\\',\\n       \\'Wife \\', \\'Son \\', \\'spouse\\', \\'doughter\\', \\'CHILD\\', \\'ParentChild\\',\\n       \\'partner\\', \\'brother\\', \\'sister\\', \\'MotheR\\', \\'Friend\\', \\'Child\\',\\n       \\'Cousin\\', \\'Dad\\', \\'Mum\\', \\'MOTHER\\', \\'WIFE\\', \\'Sister \\', \\'SON\\',\\n       \\'BROTHER\\', \\'FATHER\\', \\'aunt \\', \\'Grandmother\\', \\'HUSBAND\\', \\'self\\',\\n       \\'husband\\', \\'husband \\', \\'Owner\\', \\' Grand daughter\\', \\'Nephew\\',\\n       \\'SP0USE\\', \\'Self\\', \\'parent\\', \\'SISTER\\', \\'NIECE\\', \\'Niece\\', \\'daughter\\',\\n       \\'Sibling\\', \\'DAUGHTER\\', \\'AUNT\\', \\'brother \\', \\'254701361835\\',\\n       \\'Parent \\', \\'daughter \\', \\'FAITHER\\', \\'Family \\', \\'SPOUSE \\',\\n       \\'Sibling \\', \\'PARENT\\', \\'CONFIDANT\\', \\'MUM\\', \\'DAD\\', \\'wife \\', \\'family\\',\\n       \\'Trustee \\', \\'son \\', \\'mother \\', \\'MOTHER \\', \\'friend\\', \\'spouse \\',\\n       \\'S0N\\', \\'SISTER \\', \\'FATHER \\', \\'father \\', \\'FAMILY \\', \\'WifE\\',\\n       \\'Partner \\', \\'daugther\\', \\'1226805243;130143346\\', \\'relative\\',\\n       \\'BROTHER \\', \\'Daighter\\', \\'Advisor\\', \\'SON \\', \\'AUNTIE\\', \\'FIANCEE\\',\\n       \\'Fiancee\\', \\'DOUGHTER\\', \\'parent \\', \\'HUSBAND \\', \\'DAUGHTER \\', \\'SELF\\',\\n       \\'MOther\\', \\'mOTHER\\', \\'Aunt\\', \\'Grandparent\\', \\'Bother \\', \\'SO\\',\\n       \\'married\\', \\'MARRIED\\', \\'FIANCE\\', \\'Doughter \\', \\'Guardian \\',\\n       \\'ASS0CIATE\\', \\'sibling\\', \\'fiance\\', \\'Sistet\\', \\'Grandson\\', \\'Doughter\\',\\n       \\'DAUGTHER\\', \\'wIFE\\', \\'Bro\\', \\'PARTNER\\', \\'B INLAW\\', \\'GUARDIAN\\',\\n       \\'daughte\\', \\'Mom\\', \\'COUSIN\\', \\'GRANDMA\\', \\'aunt\\', \\'Domestic Partner\\',\\n       \\'PATNER\\', \\'me\\', \\'MENTOR\\', \\'UNCLE\\', \\'Sis\\', \\'SiBLING\\', \\'GRAND SON\\',\\n       \\'Fiance \\', \\'KID\\', \\'SIBLING\\', \\'GRANDSON\\', \\'Nephew \\', \\'-\\', \\'Cousin \\',\\n       \\'DAUGHETR\\', \\'Person\\', \\'s0n\\', \\'na\\', \\'myson\\', \\'PARTNER \\', \\'Bishop\\',\\n       \\'nephew\\', \\'mwas\\', \\'Mothers\\', \\'Friend \\', \\'Child \\', \\'daughter33\\',\\n       \\'CLOSE FRIEND\\', \\'hUSBAND\\', \\'CLOSEFRIEND\\', \\'Boyfriend \\',\\n       \\'dependant\\', \\'WIFE \\', \\'MARRIAGE\\', \\'GRAND DAUGHTER\\', \\'DAUGHER\\',\\n       \\'Niece \\', \\'granddaughter\\', \\'grandson\\', \\'DAUGHTER/CHILD\\',\\n       \\'RELATIVE\\', \\'mum\\', \\'single\\', \\'Self \\', \\'sister \\', \\'Mother TO SON\\',\\n       \\'Grandfather\\', \\'DAD \\', \\'Relative\\', \\'Daughter-in-law \\',\\n       \\'GRANDMOTHER\\', \\'child \\', \\'15\\', \\'DaD\\', \\'GIRLFRIEND\\', \\'FAMILY\\',\\n       \\'Uncle \\', \\'SiNGLE\\', \\'SINGLE\\', \\'fiancee\\', \\'FaMILY\\', \\'BENEFICIARY\\',\\n       \\'OWNER\\', \\'Relative \\', \\'GRANDDAUGHTER\\', \\' Spouse\\', \\'uncle\\',\\n       \\'Married \\', \\'chil\\', \\'CHILD MINOR\\', \\'33\\', \\'NEPHEW\\', \\'JOINT PARTNER\\',\\n       \\'MOTHERS \\', \\'Fiancé \\', \\'Others \\', \\'Grand daughter\\',\\n       \\'DAUGHTER-IN-LAW\\', \\'Na\\', \\'CHILD \\', \\'SPIRITUAL FATHER\\', \\'COUSN\\',\\n       \\'DEPEDANT\\', \\'Estate\\', \\'Uncle\\', \\'sISTER\\', \\'sisiter\\', \\' BROTHER\\',\\n       \\'Granddaughter \\', \\'BRother\\', \\'Aunt \\', \\'cousin\\', \\'Baby\\', \\'Morher\\',\\n       \\'MOM\\', \\'God mother\\', \\'GRANDSON \\', \\'Husband/spouse\\', \\'SPOUCE\\',\\n       \\'uncle \\', \\'FRIEND \\', \\'Single\\', \\'Vhild\\', \\'Patner\\', \\'Spouce\\',\\n       \\'Family\\', \\'SoN\\', \\'SisteR\\', \\'AUNTY\\', \\'FATHER-IN-LAW\\', \\'SonS\\', \\'0\\',\\n       \\'MO9\\', \\'Fiance\\', \\'33.4\\', \\'CHILF\\', \\'254727756559\\', \\'0720401466\\',\\n       \\'GRAND FATHER\\', \\'PRINCIPAL\\', \\'Guardian\\', \\'JUNIOR\\',\\n       \\'DGRAND DAUGHTER\\', \\'COWORKER\\', \\'GRAND MOTHER\\', \\'D100\\', \\'NMO\\',\\n       \\'BUSINESS PARTNER\\', \\'GURDIAN\\', \\'2021\\', \\'MotH\\', \\'MoM\\', \\'UN,CLE\\',\\n       \\'GRAND CHILD\\', \\'Sister in law\\', \\'Grand Daughter\\', \\'COMAPANION\\',\\n       \\'BOYFRIEND\\', \\'EX-WIFE\\', \\'GRANDDAUGTER\\', \\'PARNT\\', \\'M\\', \\'F\\', \\'Chils\\',\\n       \\';SON\\', \\'GUARDINA\\', \\'NiecE\\', \\'Brother-IN-LAW\\', \\'Member\\',\\n       \\'Grand mother\\', \\'ADMINISTRATOR\\', \\'VM\\', \\'GRANDFATHER\\', \\'GIRLFRIED\\',\\n       \\'Brestfriend\\', \\'Finance\\', \\'SIS\\', \\'Daughter in law\\', \\'children\\',\\n       \\'Girlfriend\\', \\'COLLEAGUE\\', \\'TRUSTEE\\', \\'254708368426\\', \\'Colleague\\',\\n       \\'Sister-IN-LAW\\', \\'GRAND-DAUGHTER\\', \\'GRANNY\\', \\'GRANDCHILD\\', \"\\'M\",\\n       \\'spouce\\', \\'SiLBLING\\', \\'Siblings\\', \\'Step-mother\\', \\'Aunty\\', \\'FREINF\\',\\n       \\'50\\', \\'100\\', \\'254723993458\\', \\'Cousins\\', \\'Cousins \\', \\'ASSOCIATE\\',\\n       \\'Fiane\\', \\'guardian\\', \\'Guadian\\', \\'Confidant\\', \\'Auntie\\', \\'GRANDPA\\',\\n       \\'mom\\', \\'Brother in Law\\', \\'BUSINESS PARTNER \\', \\'Spuose\\',\\n       \\'Business Partner\\', \\'Dating\\', \\'IN LAW\\', \\'STEP-MOM\\', \\'Son/Brother\\',\\n       \\'Chid\\', \\'Granddaughter\\', \\'niece\\', \\'Son/SISTER\\', \\'Grand Son\\',\\n       \\'BrotheR\\', \"Nolan\\'s Guardian\", \"Xena\\'s Guardian\", \\'Sister-in law\\',\\n       \\'PARENTS\\', \\'c/o\\', \\'STEP MOTHER\\', \\'NiCE\\', \\'Ciru\\', \\'DEPENDANT\\',\\n       \\'som\\', \\'GUARDIAN \\', \\'Dau`\\', \\'Kid\\', \\'PARENT \\', \\'CHILDREN\\',\\n       \\'partner \\', \\'CLOUSIN\\', \\'19112004\\', \\'twinsister\\', \\'MINOR\\',\\n       \\'Sister- Custodian\\', \\'GRANSON\\', \\'COMPANION\\', \\'ENGAGED\\',\\n       \\'WELL WISHER\\', \\'PARNER\\', \\'GRANCHILD\\', \\'Trustee\\', \\'Next of kin\\',\\n       \\'SIIBLING\\', \\'SIBLINGS\\', \\'Foster daughter\\', \\'ADMINSTRATOR\\',\\n       \\'IN-LAW\\', \\'Boyfriend\\', \\'NepheW\\', \\'EMPLOYEE\\', \\'DIRECTORS\\',\\n       \\'RELIGIOUS COMMUNITY\\', \\'CUSTODIAN\\', \\'C/O ARIANNA\\', \\'Sister IN LAW\\',\\n       \\'spose\\', \\'SPAUSE\\', \\'MEMBER\\', \\'DomesticPartner\\', \\'Grand-daughter\\',\\n       \\'Brother-in-law\\', \\'STEP-BROTHER\\', \\'Mother to Evan\\', \\'Sister-Inlaw\\',\\n       \\'BUS. PARTNER\\', \\'Sister(Guardian)\\', \\'CONTACT PERSON\\', \\'FatheR\\',\\n       \\'Brother in law\\', \\'Parwnt\\', \\'M,\\', \\'Sister-GUARDIAN\\', \\'Grand Child\\',\\n       \\'GODMOTHER\\', \\'Sister-Guardian\\', \\'Mother- Guardian\\', \\'Grandchild\\',\\n       \\'Grand son\\', \\'CHLD\\', \\'GRAND.DAUGHTER\\', \\'GRAND-MOTHER\\', \\'Parents\\',\\n       \\'EX WIFE\\', \\'Sister - Guardian\\', \\'Step-Mother\\', \\'FOSTER DAUGHTER\\',\\n       \\'Grand-mother\\', \\'God Mother\\', \\'Mother-in-law\\', \\'MEMBER \\',\\n       \\'B/S PARTNER\\', \\'LAWYER\\', \\'GRAND-SON\\', \\'parents\\', \\'Stepson\\',\\n       \\'Contingent\\', \\'grandmother\\', \\'G/Daughter\\', \\'Brother and sister\\',\\n       \\'Sibbling\\', \\' \\', \\'COUSIN \\', \\'DaughteR\\', \\'SPUOSE\\', \\'CHIILD\\',\\n       \\'DSPOUSE\\', \\'Executor\\', \\'HU\\', \\'EWIFE\\', \\'SPOUDSE\\', \\'SoPOUSE\\',\\n       \\'grandchild\\', \\'ChILD\\', \\'9266025\\', \\'PARE NT\\', \\'254700442162\\',\\n       \\'BEST FRIEND\\', \\'SISTER IN LAW \\', \\'mather\\', \\'SAVING PARTNER \\',\\n       \\'AUNTIE \\', \\'ParenChild\\', \\'GIRLFRIEND \\', \\'SINGLE \\', \\'Parentchild\\',\\n       \\'parentchild\\', \\'SPOUSE20\\', \\'Myself\\', \\'FIACEE\\', \\'SD\\',\\n       \\'Grand mother \\', \\'Mother of child\\', \\'Childnephew\\', \\'FATH \\',\\n       \\'MY SON\\', \\'BabyMother\\', \\'CHID\\', \\'GIRL FRIEND\\', \\'chils\\', \\'self \\',\\n       \"Mother\\'s \", \\'Mum \\', \\'aunty\\', \\'SPouse\\', \\'Auntie \\', \\'ChiLD\\',\\n       \\'grandmother \\', \\'Grand daughter \\', \\'auntie\\', \\'baby mama \\', \\'DA\\',\\n       \\'BrOther\\', \\'Fiancee \\', \\'In law\\', \\'Colleague \\', \\'WiFE\\', \\'owner\\',\\n       \\'sON\\', \\'Mather\\', \\'Dauhgter\\', \\'myself\\', \\'Hubby\\', \\'Sister in-law\\',\\n       \\'Aunty \\', \\'Foster parent\\', \\'grandson \\', \\'Wife/Guardian\\',\\n       \\'21761402\\', \\'GUARDIAN-MOTHER\\'], dtype=object)'}, 'execution_count': 8, 'metadata': {}, 'output_type': 'execute_result'}], 'source': \"#checking the unique values from the relationship column\\ndf['relationship'].unique()\"}, {'cell_type': 'code', 'execution_count': 9, 'metadata': {}, 'outputs': [{'data': {'text/plain': \"array(['Single Member'], dtype=object)\"}, 'execution_count': 9, 'metadata': {}, 'output_type': 'execute_result'}], 'source': \"#checking the unique values from the hse_no column\\ndf['hse_no'].unique()\"}, {'cell_type': 'code', 'execution_count': 10, 'metadata': {}, 'outputs': [{'data': {'text/plain': \"array(['Money Market', 'Dollar Fund', 'Wealth Fund', 'Equity Fund',\\n       'Fixed Income', 'Balanced Fund', 'MoneyMarket', nan], dtype=object)\"}, 'execution_count': 10, 'metadata': {}, 'output_type': 'execute_result'}], 'source': \"#checking the unique values from the portfolio column\\ndf['portfolio'].unique()\"}, {'cell_type': 'code', 'execution_count': 11, 'metadata': {}, 'outputs': [{'data': {'text/plain': 'array([\\'NAIROBI\\', nan, \\'NAIROBI \\', \\'THIKA\\', \\'NAKURU\\', \\'MOMBASA \\',\\n       \\'NDANAI \\', \\'KISUMU\\', \\'KIKUYU\\', \\'JUJA\\', \\'MACHAKOS\\', \\'MERU\\',\\n       \\'KERICHO\\', \\'MUKURWEINI\\', \\'KATANGI\\', \\'THIKA,KIAMBU\\', \\'NANYUKI\\',\\n       \\'RUAI \\', \\'MALINDI\\', \\'NYAHURURU\\', \\'MUMIAS\\', \\'KAKAMEGA\\', \\'LODWAR\\',\\n       \\'Nairobi \\', \\'KITENGELA\\', \\'LIMURU\\', \\'THIKA \\', \\'MIGORI\\', \\'ELDORET\\',\\n       \\'KITUI\\', \\'RUARAKA\\', \\'Ruiru\\', \\'NJORO\\', \\'EMBU\\', \\'SORI\\', \\'NGONG\\',\\n       \\'MASENO\\', \\'GATUNDU\\', \\'KAHURO\\', \\'KILIFI\\', \\'RUIRU\\', \\'KERUGOYA\\',\\n       \\'KARATINA\\', \\'KITALE \\', \\'MOMBASA\\', \\'BUNGOMA\\', \\'KISII\\', \\'-\\',\\n       \\'Nairobi\\', \\'KINAMBA\\', \\'SIAYA\\', \\'KERICHO \\', \\'KIAMBU\\', \\'KITALE\\',\\n       \\'BUSIA\\', \\'RUNYENJES\\', \\'VILLAGE MARKET\\', \\'Kapsabet\\', \\'KAGWE\\',\\n       \\'NANDI HILLS\\', \\'KUTUS\\', \\'DAGORETTI\\', \\'LITEIN\\', \\'KAJIADO\\', \\'CHUKA\\',\\n       \\'NYERI\\', \\'NAIROBI, NAIROBI\\', \\'Kisumu \\', \\'KANJUKU\\', \\'EMALI\\',\\n       \\'GILGIL\\', \\'Kiambu \\', \\'KANGEMA\\', \\'TIRIKI\\', \\'KARATINA \\', \\'OTHAYA\\',\\n       \\'KARURI ,KIAMBU\\', \\'MURANGA \\', \\'Mombasa\\', \\'GATUKUYU \\', \\'MLOLONGO\\',\\n       \\'UTAWALA \\', \\'KAPENGURIA\\', \\'KAPSABET\\', \\'SUNA\\', \\'BOMET\\', \\'KENOL \\',\\n       \\'NYERI \\', \\'BUNGOMA \\', \\'NDANAI\\', \\'KALIMONI\\', \\'KIGANJO\\',\\n       \\'KAPSOKWONY\\', \\'Nakuru\\', \\'KIAMBU \\', \\'nairobi\\', \\'CHOGORIA\\',\\n       \\'GITHUNGURI\\', \\'YOANI,SALAMA\\', \\'LIMURU \\', \\'NAIROBI, KENYA.\\',\\n       \\'UKUNDA\\', \\'MATUU\\', \\'embu\\', \\'NYALI\\', \\'nakuru\\', \\'MBALE\\', \\'EMUHAYA\\',\\n       \\'TELFORD\\', \\'NAIVASHA\\', \\'KAREN\\', \\'KILIFI \\', \\'HOLA\\', \\'MAKINDU\\',\\n       \\'WOTE\\', \\'DIANI\\', \\'O\\', \\'OLKALAU\\', \\'KAREN \\', \\'UPLANDS\\', \\'WANGÚRU\\',\\n       \\'KABIYET\\', \\'KAKAMEGA \\', \\'SOTIK\\', \\'NGONG \\', \\'CITY SQUARE\\', \\'NKUBU\\',\\n       \\'KANGARI\\', \\'NGONG HILLS \\', \\'NYAHURURU \\', \\'KARURI \\', \\'UTHIRU\\',\\n       \\'MARIMANTI\\', \\'MANCHESTER\\', \\'Kikuyu\\', \\'.\\', \\'NAIRO \\', \\'kiambu\\',\\n       \\'VOI\\', \\'EMBAKASI\\', \\'MOLO\\', \\'Siaya \\', \\'NGIYA\\', \\'OLKALOU\\',\\n       \\'KANYAGIA\\', \\'WANJOHI\\', \\'kabete\\', \\'Wamunyu\\', \\'MARIAKANI\\',\\n       \\'KISERIAN\\', \\'ARTHI RIVER \\', \\'SUBUKIA\\', \\'KILGORIS\\', \\'KIMININI\\',\\n       \\'LAGOS\\', \\'SARE\\', \\'ATHI RIVER\\', \\'ngong hills \\', \\'WERUGHA\\',\\n       \\'NAIROBIP\\', \\'MASINFA\\', \\'kikuyu\\', \\'OL JORO OROK\\', \\'MAUA\\',\\n       \\'GIKUE MURANGA\\', \\'KIMENDE\\', \\'KIMILILI\\', \\'KISUMU \\', \\'VIHIGA\\',\\n       \\' NAIROBI \\', \\'BURUBURU\\', \\'MATATHIA\\', \\'RUAKA\\', \\'UGUNJA\\', \\'LONGISA\\',\\n       \\'ELDORATE \\', \\'KAPKATET\\', \\'WINNIPEG\\', \\'PIPELINE \\', \\'KAHAWA WEST \\',\\n       \\'KANDARA\\', \\'Kimilili \\', \\'MTWAPA \\', \\'MARAGUA\\', \\'BANANA \\', \\'NYAMIRA\\',\\n       \\'AUBURN\\', \\'KARURI\\', \\'MTWAPA\\', \\'ONGATA RONGAI\\', \\'ELDORET \\',\\n       \\'HOMABAY\\', \\'WANGIGE\\', \\'KENDUBAY\\', \\'KIBWEZI\\', \\'RONGAI\\', \\'RUIRU \\',\\n       \\'NORTH KINANGOP\\', \\'MAKUYU\\', \\'Nyeri \\', \\'Eldoret \\', \\'BOUTIGNY\\',\\n       \\'00506\\', \\'MWINGI\\', \\'00100\\', \\'KERUGOYA \\', \\'TALA\\', \\'OLENGURUONE\\',\\n       \\'MAVINDINI\\', \\'UHURU GARDENS\\', \\'KIKUYU \\', \\'Ongata Rongai\\',\\n       \\'SOUTH KINANGOP\\', \\'ELDAMA RAVINE\\', \\'MITUNGURU\\', \\'TOM MBOYA\\',\\n       \\'NAKURU \\', \\'MITABONI\\', \\'NAROMORU\\', \\'MURANGA\\', \\'OLJOROROK\\',\\n       \\'BUTERE\\', \\'OYUGIS\\', \\'SILIBWET\\', \\'EMBU \\', \\'Doha\\', \\'Eldoret\\',\\n       \\'KANGEMI\\', \\'NYERI-KIGUMO\\', \\'KISERIAN \\', \\'Athi River\\', \\'KENOL\\',\\n       \\'OL KALOU\\', \\'WESTLANDS\\', \\'Nyahururu \\', \\'ENDARASHA \\', \\'GPO/NAIROBI\\',\\n       \\'DAGORETI\\', \\'OGEMBO \\', \\'mombasa\\', \\'RUAI\\', \\'DONYO SABUK\\', \\'KEROKA\\',\\n       \\'LOWER KABETE\\', \\'MWEIGA\\', \\'Naitobi\\', \\'TOKYO\\', \\'Embu\\', \\'KIRINYAGA\\',\\n       \\'KIANYAGA\\', \\'SIAYA \\', \\'ADLISWIL\\', \\'BURU BURU\\', \\'MERU \\', \\'NYAKIO\\',\\n       \\'KWALE\\', \\'AMUKURA\\', \\'NAROK\\', \\'KOBUJOI\\', \"WANG\\'URU\", \\'BONDO\\',\\n       \\'Kericho\\', \\'KIKIMA \\', \\'CHANGAMWE\\', \\'BUTULA\\', \\'NAIROBI KAYOLE\\',\\n       \\'KANGUNDO\\', \\'MARIAKANI \\', \\'TIMBOROA\\', \\'KIANJAI\\', \\'KALOLENI \\',\\n       \\'ISINYA\\', \\'IOWA CITY, IOWA\\', \\'Garsen \\', \\'MUKURWE-INI\\',\\n       \\'NAIROBI GPO\\', \\'MANYATTA\\', \\'SARE-OWENDO\\', \\'NANYUKI \\', \\'NDHIWA\\',\\n       \\'ELBURGON\\', \\'Orange\\', \\'MAKUENI\\', \\'kisumu \\', \\'MACHAKOS \\',\\n       \\'KABARNET \\', \"Murang\\'a \", \\'JUJA, KIAMBU\\', \\'Bungoma\\', \\'MAWEGO\\',\\n       \\'Bath\\', \\'ROYSAMBU\\', \\'Nanyuki\\', \\'SAGANA\\', \\'MACH \\', \\'Nyeri\\', \\'Ruaka\\',\\n       \\'KITUI \\', \\'KAJIADO \\', \\'NUNGUNI\\', \\'RONGAI \\', \\'KISII \\', \\'WANGIGE \\',\\n       \\'Makongeni Jogoo Rd\\', \\'nairobi \\', \\'Kikuyu \\', \\'Kisii\\', \\'MSAMBWENI\\',\\n       \\'BUJUMBURA\\', \\'GITHONGO\\', \\'KEROKA/KISII\\', \\'BURUBURU, NAIROBI\\',\\n       \\'MALAVA\\', \\'KIJABE\\', \\'Woolwich \\', \\'NDERE-SIAYA\\', \\'AHERO\\',\\n       \\'MUHORONI \\', \\'Nakuru \\', \\'kahuro\\', \\'Malakisi \\', \\'MUHORONI\\',\\n       \\'ISIOLO\\', \\'SYOKIMAU \\', \\'ONGATA RONGAI \\', \\'Maralal \\',\\n       \\'KIBIRICHIA, MERU\\', \\'GRANGER, INDIANA\\', \\'WESTLAND \\', \\'MUKURWEINI \\',\\n       \\'MASII\\', \\'NRB\\', \\'KWISERO\\', \\'ANKARA\\', \\'SHIMBA HILLS\\', \\'TAVETA\\',\\n       \\'WOTE, MAKUENI \\', \\'WANGURU\\', \\'KISSII\\', \\'BURUBURU NAIROBI \\',\\n       \\'KIRITIRI\\', \\'MESA ARIZONA\\', \\'KAJIADO TOWN\\', \\'KURIA\\',\\n       \\'NAIROBI WEST\\', \\'ENDARASHA\\', \\'KIPKAREN \\', \\'0\\', \\'GAMBOGI\\', \\'KOLA\\',\\n       \\'Marsabit\\', \\'WEBUYE\\', \\'GAKUNGU\\', \\'NAIROBJ\\',\\n       \\'NAIROBI ,KAMITI ROAD RICHLAND\\', \\'NKUBU \\', \\'MWATATE\\', \\'MALAKISI\\',\\n       \\'ITEN\\', \\'KATHIANI\\', \"MURANG\\'A\", \\'KAIRIA\\', \\'UPLANDS \\', \\'RONGO\\',\\n       \\'UHURU GARDEN\\', \\'KINANGOP\\', \\'BAHATI NAKURU \\', \\'MATILIKU\\', \\'meru\\',\\n       \\'Limuru\\', \\'MALAA\\', \\'TURBO\\', \\'MARIMA -MERU HIGHWAY \\', \\'OLJORO OROK\\',\\n       \\'homabay \\', \\'KIKIMA\\', \\'ADAMS ARCADE\\', \\'MUNICH\\', \\'MUMIAS \\',\\n       \\'KALIMONI \\', \\'CHWELE\\', \\'MARALAL\\', \\'NAMBALE\\', \\'NAIROBI COUNTY\\',\\n       \\'Narok \\', \\'TURBO \\', \\'KANGARI \\', \\'Pécs \\', \\'thika\\', \\'KATSE\\',\\n       \\'thika \\', \\'CHEBUNYO\\', \\'OL JORO OROK \\', \\'MOBIL PLAZA\\', \\'WAMUNYU \\',\\n       \\'MAGUNGA\\', \\'RORET\\', \\'YALA\\', \\'KAHUHIA\\', \"KENOL MURANG\\'A\",\\n       \\'Machakos\\', \\'UKWALA\\', \\'KALOLENI\\', \\'JOONDALUP\\', \\'MIGORI \\',\\n       \\'MARAGOLI\\', \\'MARMANET\\', \\'IKANGA\\', \\'KINOO\\', \\'OYUGIS \\', \\'LANGATA\\',\\n       \\'Kiambu\\', \\'Malindi\\', \\'NAIROBI.\\', \\'MAKUENI \\', \\'Bungoma \\',\\n       \\'GITHUNGURI \\', \\'MACHOKOS\\', \\'KOMBEWA \\', \\'UTHIRU \\', \\'KITENGELA \\',\\n       \\'BANANA\\', \\'CHEPKORIO\\', \\'MASII \\', \\'Gitugi\\', \\'. \\', \\'RUIRY\\', \\'Kisumu\\',\\n       \\'MBUMBUNI-MACHAKOS\\', \\'WAMUYU\\', \\'siaya\\', \\'Kakamega\\', \\'TAITA TAVETA\\',\\n       \\'Bumala\\', \\'KIMENDE \\', \\'BRISTOL\\', \\'MATUNDA\\', \\'KARABA\\', \\'SULTAN\\',\\n       \\'GATURA\\', \\'KASARANI ,NAIROBI \\', \\'NANDI\\', \\'MAGUTUNI\\', \\'CHUKA \\',\\n       \\'NGONG HILL\\', \\'ngong\\', \\'KIANGAI\\', \\'MBITA\\', \\'Mumias\\', \\'KAMBITI\\',\\n       \\'MUMBI\\', \\'Juja\\', \\'WODANGA\\', \\'KIRIANI\\', \\'KABARNET\\', \\'MISIKHU\\',\\n       \\'Thika\\', \\'NYANSIONGO\\', \\'nyeri \\', \\'NAIVASHA \\', \"MURANG\\'A \",\\n       \\'KAPCHENO\\', \\'NGARA\\', \\'MADARAKA\\', \\'kitengela \\', \\'BONDO \\', \\'WAMUNYU\\',\\n       \\'NYANDARUA\\', \\'MOGOGOSIEK\\', \\'00\\', \\'NAIROBI/JUJA\\', \\'NA \\', \\'LUANDA\\',\\n       \\'KLEMZIG\\', \\'TEL AVIV\\', \\'ongata rongai \\', \\'30-60101 Manyatta \\',\\n       \\'12410 Nyeri\\', \\'KATHONZWENI \\', \\'GITHURAI \\', \\'WESRN AUSTRALIA\\',\\n       \\'SABASABA \\', \\'Gilgil \\', \\'ISEBANIA\\', \\'KIRIAINI\\', \\'MUTHETHENI \\',\\n       \\'Mombasa \\', \\'Kitengela\\', \\'CARLIFONIA\\', \\'NIL\\',\\n       \\'NAIROBI, NAIROBI AREA, KENYA\\', \\'SOY\\', \\'Sabasaba\\', \\'SABASABA\\',\\n       \\'COLUMBIA\\', \\'Homa Bay \\', \\'MARIMA\\', \\'SEGA\\', \\'KAYOLE\\', \\'BUDD LAKE\\',\\n       \\'KITHYOKO\\', \\'KIJABE \\', \\'Mbale\\', \\'KITHIMANI\\', \\'HANOI\\', \\'chuka\\',\\n       \\'KILINDINI\\', \\'MERY\\', \\'CHELMSFORD\\', \\'LOITOKITOK\\', \\'MOSORIOT\\',\\n       \\'IKONGE\\', \\'ENGINEER\\', \\'Othaya\\', \\'Ahero\\', \\'MWEA\\', \\'JOSKA \\',\\n       \\'NGAMBWA\\', \\'MASINGA\\', \\'KINANGOP \\', \\'LONDON\\', \\'KILELESHWA \\',\\n       \\'SARIT CENTRE\\', \\'mgange \\', \\'ST. MARYS NSW\\', \\'GESIMA\\', \\'Migori \\',\\n       \\'KHWISERO\\', \\'SYOKIMAU\\', \\'MTITO ANDEI \\', \\'nakuru \\', \\'NAIROBI CITY\\',\\n       \\'ATHIRIVER\\', \\'KABATI\\', \\'Kitale\\', \\'MPEKETONI\\', \\'YOANI\\',\\n       \\'KABARTONJO\\', \\'NAMANGA\\', \\'CHESINENDE\\', \\'BAHATI\\', \\'NZEEKA\\',\\n       \\'MATATHIA, KAMAE\\', \\'RONALD NGALA \\', \\'KUBUKUBU\\', \\'THOGOTO\\',\\n       \\'GATORA\\', \\'NAI \\', \\'KUJA,KIAMBU\\', \\'Machakos \\', \\'AMAGORO\\', \\'Uthiru\\',\\n       \\'Naivasha\\', \\'KEROKA \\', \\'MAZERAS\\', \\'EGERTON\\', \\'KASARANI\\', \\'Kimende\\',\\n       \\'WAJIR\\', \\'DUBAI\\', \\'TWO RIVERS\\', \\'NDARAGWA \\', \\'EASTLEIGH\\', \\'KAGIO\\',\\n       \\'HOMA BAY\\', \\'KISII, KENYA\\', \\'Thika \\', \\'NGECHA\\', \\'Kakamega \\',\\n       \\'KERINGET\\', \\'FORT WAYNE\\', \\'STAREHE\\', \\'GILGIL \\', \\'KAWANGWARE\\',\\n       \\'GPO NAIROBI\\', \\'GITUGI\\', \\'Tala\\', \\'kakamega \\', \\'TEXAS\\', \\'GACHIE\\',\\n       \\'Syokimau\\', \\'Sydney \\', \\'LESSOS\\', \\'Meru \\', \\'KIPKAREN RIVER\\',\\n       \\'SOSIOT\\', \\'LAKEWOOD SEATTLE\\', \\'Lodwar\\', \\'Kitale \\', \\'Membley\\',\\n       \\'chepkorio\\', \\'Luanda\\', \\'Kijabe \\', \\'TONGAREN\\', \\'karuri \\', \\'malindi\\',\\n       \\'Ogembo \\', \\'Maryland\\', \\'Kisii Town \\', \\'kajiado \\', \\'LIKONI\\',\\n       \\'wangige \\', \\'Ngong\\', \\'OLKALOU \\', \\'4597-20100 Nakuru\\', \\'GARISSA\\',\\n       \\'KIRIAINI \\', \\'SYOKIMAU L\\', \\'Machakos, Kathiani\\', \\'Kitui\\',\\n       \\'AUSTRALIA\\', \\'Bondo\\', \\'Salama \\', \\'bomet \\', \\'Naivasha \\',\\n       \\'TOORMINA, NSW\\', \\'Utawala\\', \\'Ankara\\', \\'MOISBRIDGE\\', \\'nbo\\',\\n       \\'Kijabe\\', \\'KABAZI\\', \\'P.O BOX 75-30105 SOY\\', \\'kisumu\\', \\'nyeri\\',\\n       \\'Voi\\', \\'Kanjuku\\', \"NG\\'IYA\", \\'Muranga\\', \\'Bournemouth \\',\\n       \\'SARE-AWENDO\\', \\'narok\\', \\'Ruiru \\', \\'Kilifi \\', \\'Meru\\',\\n       \\'Ol-joro-orok\\', \\'152 30100 eldoret \\', \\'Mtwapa\\', \\'Karuri\\',\\n       \\'Kitengela \\', \\'Isiolo \\', \\'38061-00623 Nairobi\\', \\'Ngong Hills\\',\\n       \\'RARIEDA\\', \\' Nairobi County,\\', \\'187 Ngewa\\', \\'NJAMBINI\\',\\n       \\'25635 00603 Nairobi\\', \\'GIKOE\\', \\'kakamega\\', \\'ISHIARA \\',\\n       \\'P. O. Box 111 Ruiru\\', \\'Kibwezi\\', \\'Syokimau \\', \\'kiambu \\', \\'Bomet \\',\\n       \\'Busia\\', \\'Gilgil\\', \\'LAMU\\', \\'Kajiado \\', \\'makueni \\', \\'kisii\\',\\n       \\'MERU 2274\\', \\'TURKANA\\', \\'Kilifi\\', \\'nottingham\\', \\'Embakasi\\',\\n       \\'Masii - MACHAKOS\\', \\'SEREM\\', \\'Tala, Kangundo. \\', \\'Ugunja\\',\\n       \\'Karatina\\', \\'Migori\\', \\'Berlin\\', \\'KALAMBA\\', \\'UKUNDA \\', \\'ruiru\\',\\n       \\'Sondu\\', \\'BUSIA - PORT VICTORIA \\', \\'Matuu.\\', \\'Gatundu\\',\\n       \\'Seasons Kasarani. \\', \\'KARUNGU\\', \\'Kahawa Sukari\\', \\'Kangundo \\',\\n       \\'mombasa \\', \\'St. Georges\\', \\'maseno\\', \\'KINDARUMA \\',\\n       \\'kakuma 1 Nuer community \\', \\'copenhagen\\', \\'549 LIMURU\\', \\'Lamu\\',\\n       \\'DRESDEN\\', \\'Ol Kalou \\', \\'KIRIA-INI \\', \\'123 KIKUYU\\', \\'Kianyaga\\',\\n       \\'Kasarani\\', \\'Makueni \\', \\'KABETE\\', \\'Sagana\\',\\n       \\'Imani avenue, Ongata Rongai, Kajiado\\', \\'LOS ANGELES\\', \\'KAKUMA\\',\\n       \\'kitengela\\', \\'56-10300 Kerugoya\\', \\'Kalimoni P.o Box 178-01001\\',\\n       \\'Nairobi, Komarock.\\', \\'kilifi\\', \\'NAIROBI, KITENGELA \\',\\n       \\'14 Lamina Avenue, Mill Park VIC 3082\\', \\'kebirigo \\', \\'Darwin \\',\\n       \\'Kericho \\', \\'Nairibi\\', \\'782 - 00232 Ruiru\\', \\'eldoret\\', \\'Oyugis\\',\\n       \\'Conroe\\', \\'NAIROBI 572 00300\\', \\'Eldama Ravine\\', \\'Kabete \\', \\'Maua\\',\\n       \\'Isiolo\\', \\'828-90200\\', \\'Athens\\', \\'Chicago \\', \\'Hola\\', \\'Abu Dhabi \\',\\n       \\'Nyayo Estate, Court 521\\', \\'Deanside\\', \\'452-00200, KIAMBU\\',\\n       \\'KOBENHAUN\\', \\'karuri\\', \\'Nanyuki \\', \\'P.O. Box 2413-60200, Meru\\',\\n       \\'Kenol\\', \\'Wote\\', \\'githunguri \\', \\'NAIROBI. 45095-00100\\', \\'Serem\\',\\n       \\'P.o.box 1298-00618 Ruaraka, Nairobi\\', \\'Vienna \\', \\'karen\\',\\n       \\'CHICAGO\\', \\'GENEVA\\', \\'Kiserian \\', \\'Kabarnet\\', \\'RABAI\\',\\n       \\'KIAMBU COUNTY\\', \\'Uthiru Cooperation \\', \\'Githunguri \\',\\n       \\'79718-00200 NAIROBI\\', \\'stockholm\\', \\'42 NDARAGWA\\',\\n       \\'P.O. Box 103635-00101\\', \\'Heuchlingen \\', \\'PORT VICTORIA\\',\\n       \\'Doolandella, Australia\\', \\'Grand Oyster Kileleshwa, Nairobi\\',\\n       \\'10572-00200 NAIROBI\\', \\'Wangige \\', \\'Siaya\\', \\'Litein\\', \\'Washington\\',\\n       \\'Geneva\\', \\'Winchester \\', \\'Mariashoni\\', \\'Mwiki\\', \\'Limuru \\',\\n       \\'Nairobi i\\', \\'P O Box 898-00100 NAIROBI\\', \\'KAWNGWARE NAIROBI \\',\\n       \\'rongai\\', \\'Roysambu\\', \\'NAIROBI UMOJA\\', \\'kangema\\',\\n       \\'P.O.Box 848-00208 NGONG\\', \\'Braunschweig \\', \\'Wote MAKUENI\\',\\n       \\'814_3 300 KAPSABET \\', \\'Box 2316 Machakos\\', \\'Ruaraka\\', \\'Nyahururu\\',\\n       \\'Kenmore \\', \\'Melbourne \\', \\'1711 Nyahururu\\', \\'nanyuki\\',\\n       \\'kawangware \\', \\'Narok\\', \\'Githunguri\\', \\'Mahindi \\', \\'Moncton\\',\\n       \\'kERUGOYA\\', \\'Homa Bay\\', \\'Ukunda\\', \\'Mukurweini \\', \\'Malindi \\',\\n       \\'narumoru\\', \\'Juba\\', \\'01000-214 Thika\\', \\'kabete \\', \\'Kajiado\\',\\n       \\'NAROK \\', \\'Kapenguria \\', \\'Athi-river \\', \"murang\\'a \", \\'Gem\\',\\n       \\'nyahururu \\', \\'Gachie \\', \\'Kirinyaga\\', \\' Nairobi \\', \\'CALIFORNIA\\',\\n       \\'Bomet\\', \\'molo\\', \\'Chuka\\', \\'Nairobi, Kenya.\\', \\'ANTONY\\',\\n       \\'wite-makueni\\', \\'ugunja\\', \\'Matunda \\', \\'KARORI\\', \\'kikuyu \\',\\n       \\'Shinyalu \\', \\'Molo\\', \\'KIPKAREN\\', \\'KANGUNDO \\', \\'LUTON\\', \\'FLORIDA\\',\\n       \\'NGEWA\\', \\'SUSWA\\', \\'USA\\', \"KENOL MURANG\\'A \", \\'PUYALLUP WA USA\\',\\n       \\'LAARE\\', \\'P.O Box 30231 - 00100, Nairobi\\', \\'Runyenjes\\',\\n       \\'KENDUBAY \\', \\'Gigiri, Nairobi\\', \\'GATUKUYU\\', \\'BUNYALA\\', \\'OKIA\\',\\n       \\'3704 GPO NAIROBI \\', \\'RANGWE\\', \\'KITUI KENYA\\', \\'SAUDI ARABIA\\',\\n       \\'JUJA KALIMONI\\', \\'MSA\\', \\'GAKUNYU\\', \\'MIHARATI\\', \\'KERUGOYA TOWN\\',\\n       \\'RAGENGNI\\', \\'mwingi \\', \\'NBI\\', \\'IGOJI\\', \\'KIMULOT\\', \\'LONDIANI\\',\\n       \\'CAMBRIDGE\\', \\'KHAYEGA\\', \\'NDUNYU NJERU \\', \\'58-10205 Maragua\\',\\n       \\'MALINDI \\', \\'Kasarani, Clay City\\', \\'ATHI RIVER \\', \\'Sawagongo \\',\\n       \\'HELSINKI\\', \\'GPO\\', \\'BURNTFOREST\\', \\'MATUNDA \\', \\'HARRISDALE\\',\\n       \\'KARANDI\\', \\'DUKHAN \\', \\'SONDU\\', \\'EMBU, KENYA\\', \\'NAIROBI KENYA\\',\\n       \\'NANDI HILLS \\', \\'HAZELWOOD\\', \\'MGANGE\\', \\'LUCYSUMMER-NAIROBI\\',\\n       \\'KUKUYU\\', \\'NGONG ROAD\\', \\'NYAYO STADIUM\\', \\'Karen\\', \\'makuyu\\',\\n       \\'LOITIKITOK\\', \\'Kenyenya\\', \\'MUNICH \\', \\'tawa\\', \\'FUNYULA\\',\\n       \\'NOTTIGHAM\\', \\'nanyuki \\', \\'Kenny Bay\\', \\'MOMBSA\\', \\'SHERWOOD\\',\\n       \\'NDARAGWA\\', \\'ongata rongai\\', \\'BUMALA\\', \\'MEITINGEN \\', \\'80100\\',\\n       \\'KOMBEWA\\', \\'DOYSELDOR\\', \\'NOTTINGHAM\\', \\'VIENNA\\', \\'KISERIAN KAJIADO\\',\\n       \\'NAIROBI, KENYA\\', \\'Mtwapa \\', \\'KEUMBU\\', \\'Kerugoya Town\\', \\'KAP \\',\\n       \\'UPPER HILL NAIROBI\\', \\'MOI;S BRIDGE\\', \\'ENTERPRISE  ROAD\\',\\n       \\'THIONGO-NAIROBI\\', \\'KATHONZWENI\\', \\'UTAWALA\\', \\'MIU ATHI-RIVER\\',\\n       \\'CHAMAKANGA\\', \\'NYAMACHE\\', \\'NUERI\\', \\'SULTAN HAMUD\\', \\'NAROMORU \\',\\n       \\'NYAMIRA \\', \\'NAIROBI BURU\\', \\'HAMBURG\\', \\'TOWN \\', \\'14 KADONGO 40223\\',\\n       \\'Mois Bridge \\', \\'RUNYENJES \\', \\'MARAGWA\\', \\'SURPRISE,USA\\',\\n       \\'KALAMBA \\', \\'Ruai\\', \\'KADONGO\\', \\'TORONGO\\', \\'NJABINI\\',\\n       \\'GIGIRI, VILLAGE MARKET, NAIROBI\\', \\'LAVINGTON\\', \\'SPRING VALLEY\\',\\n       \\'MBUMBUNI\\', \\'NAIROBI MUNICIPALITY\\', \\'NAIROBI,KENYA\\',\\n       \\'Bamburi Mtambo \\', \\'GITHURAI\\', \\'RUMURUTI\\',\\n       \\'Kenyatta Highway, Nanyuki\\', \\'MUTOMO\\', \\'KENYATTA HOSPITAL\\',\\n       \\'NAIROBI GENERAL POST OFFICE\\', \\'LITIEN\\', \\'LONDIANI \\',\\n       \\'ONGATA RONGAI NAIROBI\\', \\'GATUNDU \\', \\'GAMBONI\\', \\'NAIROB\\',\\n       \\'L.KABETE\\', \\'ATHI - RIVER\\', \\'kerugoya \\', \\'Webuye \\', \\'Maralal\\',\\n       \\'Andover\\', \\'mombas\\', \\'Kiambu 627-00900\\', \\'Maragua\\',\\n       \\'murang*a 10200-658\\', \\'Syracuse\\', \\'Karen Nairobi \\',\\n       \\'ontario, California 91764 \\', \\'Karlsruhe \\', \\'Nyamira \\', \\'Olkalau\\',\\n       \\'GILGIL, KENYA\\', \\'Kerugoya \\',\\n       \\'14 AV FERNAND FENZY92160  ANTONY FRANCE\\'], dtype=object)'}, 'execution_count': 11, 'metadata': {}, 'output_type': 'execute_result'}], 'source': \"#checking the unique values from the town column\\ndf['town'].unique()\"}, {'cell_type': 'code', 'execution_count': 12, 'metadata': {}, 'outputs': [{'data': {'text/plain': 'member_no                0\\nreg_date              1863\\ndob                  20038\\nhse_no                   0\\ngender                4667\\ntown               1048216\\nrelationship       1632933\\nbeneficiery_dob    1086598\\nportfolio                9\\ndtype: int64'}, 'execution_count': 12, 'metadata': {}, 'output_type': 'execute_result'}], 'source': '#inspecting the dataframe for null values\\ndf.isna().sum()'}, {'cell_type': 'code', 'execution_count': 13, 'metadata': {}, 'outputs': [{'data': {'text/plain': '7407066'}, 'execution_count': 13, 'metadata': {}, 'output_type': 'execute_result'}], 'source': '#inspecting the dataframe duplicate values\\ndf.duplicated().sum()'}, {'cell_type': 'markdown', 'metadata': {}, 'source': 'In the below code block, we drop duplicated values.'}, {'cell_type': 'code', 'execution_count': 14, 'metadata': {}, 'outputs': [], 'source': 'df = df.drop_duplicates()'}, {'cell_type': 'markdown', 'metadata': {}, 'source': 'From our problem statement, we aim to cross sell investment products depending on Age, Gender and Location. Therefore, we are going to drop some columns which are irrelevant. e.g. hse_no, beneficiary_dob,reg_date.'}, {'cell_type': 'code', 'execution_count': 15, 'metadata': {}, 'outputs': [], 'source': \"df=df.drop(columns=['reg_date','hse_no'])\"}, {'cell_type': 'code', 'execution_count': 16, 'metadata': {}, 'outputs': [{'data': {'text/plain': 'member_no              0\\ndob                  238\\ngender                82\\ntown               15026\\nrelationship       14308\\nbeneficiery_dob    13937\\nportfolio              4\\ndtype: int64'}, 'execution_count': 16, 'metadata': {}, 'output_type': 'execute_result'}], 'source': '#inspecting the null vaues after dropping columns\\ndf.isna().sum()'}, {'cell_type': 'code', 'execution_count': 17, 'metadata': {}, 'outputs': [{'data': {'text/plain': 'array([\\'Partner\\', \\'Sister\\', \\'Husband \\', \\'Husband\\', \\'Daughter\\', \\'Brother \\',\\n       \\'Son\\', \\'Daughter \\', \\'Wife\\', \\'Father\\', \\'Mother\\', \\'Brother\\', \\'son\\',\\n       \\'mother\\', \\'father\\', \\'Mother \\', \\'SPOUSE\\', \\'FRIEND\\', \\'Spouse \\',\\n       \\'WIfe\\', \\'Father \\', \\'Spouse\\', \\'child\\', nan, \\'Parent\\', \\'wife\\',\\n       \\'Wife \\', \\'Son \\', \\'spouse\\', \\'doughter\\', \\'CHILD\\', \\'ParentChild\\',\\n       \\'partner\\', \\'brother\\', \\'sister\\', \\'MotheR\\', \\'Friend\\', \\'Child\\',\\n       \\'Cousin\\', \\'Dad\\', \\'Mum\\', \\'MOTHER\\', \\'WIFE\\', \\'Sister \\', \\'SON\\',\\n       \\'BROTHER\\', \\'FATHER\\', \\'aunt \\', \\'Grandmother\\', \\'HUSBAND\\', \\'self\\',\\n       \\'husband\\', \\'husband \\', \\'Owner\\', \\' Grand daughter\\', \\'Nephew\\',\\n       \\'SP0USE\\', \\'Self\\', \\'parent\\', \\'SISTER\\', \\'NIECE\\', \\'Niece\\', \\'daughter\\',\\n       \\'Sibling\\', \\'DAUGHTER\\', \\'AUNT\\', \\'brother \\', \\'254701361835\\',\\n       \\'Parent \\', \\'daughter \\', \\'FAITHER\\', \\'Family \\', \\'SPOUSE \\',\\n       \\'Sibling \\', \\'PARENT\\', \\'CONFIDANT\\', \\'MUM\\', \\'DAD\\', \\'wife \\', \\'family\\',\\n       \\'Trustee \\', \\'son \\', \\'mother \\', \\'MOTHER \\', \\'friend\\', \\'spouse \\',\\n       \\'S0N\\', \\'SISTER \\', \\'FATHER \\', \\'father \\', \\'FAMILY \\', \\'WifE\\',\\n       \\'Partner \\', \\'daugther\\', \\'1226805243;130143346\\', \\'relative\\',\\n       \\'BROTHER \\', \\'Daighter\\', \\'Advisor\\', \\'SON \\', \\'AUNTIE\\', \\'FIANCEE\\',\\n       \\'Fiancee\\', \\'DOUGHTER\\', \\'parent \\', \\'HUSBAND \\', \\'DAUGHTER \\', \\'SELF\\',\\n       \\'MOther\\', \\'mOTHER\\', \\'Aunt\\', \\'Grandparent\\', \\'Bother \\', \\'SO\\',\\n       \\'married\\', \\'MARRIED\\', \\'FIANCE\\', \\'Doughter \\', \\'Guardian \\',\\n       \\'ASS0CIATE\\', \\'sibling\\', \\'fiance\\', \\'Sistet\\', \\'Grandson\\', \\'Doughter\\',\\n       \\'DAUGTHER\\', \\'wIFE\\', \\'Bro\\', \\'PARTNER\\', \\'B INLAW\\', \\'GUARDIAN\\',\\n       \\'daughte\\', \\'Mom\\', \\'COUSIN\\', \\'GRANDMA\\', \\'aunt\\', \\'Domestic Partner\\',\\n       \\'PATNER\\', \\'me\\', \\'MENTOR\\', \\'UNCLE\\', \\'Sis\\', \\'SiBLING\\', \\'GRAND SON\\',\\n       \\'Fiance \\', \\'KID\\', \\'SIBLING\\', \\'GRANDSON\\', \\'Nephew \\', \\'-\\', \\'Cousin \\',\\n       \\'DAUGHETR\\', \\'Person\\', \\'s0n\\', \\'na\\', \\'myson\\', \\'PARTNER \\', \\'Bishop\\',\\n       \\'nephew\\', \\'mwas\\', \\'Mothers\\', \\'Friend \\', \\'Child \\', \\'daughter33\\',\\n       \\'CLOSE FRIEND\\', \\'hUSBAND\\', \\'CLOSEFRIEND\\', \\'Boyfriend \\',\\n       \\'dependant\\', \\'WIFE \\', \\'MARRIAGE\\', \\'GRAND DAUGHTER\\', \\'DAUGHER\\',\\n       \\'Niece \\', \\'granddaughter\\', \\'grandson\\', \\'DAUGHTER/CHILD\\',\\n       \\'RELATIVE\\', \\'mum\\', \\'single\\', \\'Self \\', \\'sister \\', \\'Mother TO SON\\',\\n       \\'Grandfather\\', \\'DAD \\', \\'Relative\\', \\'Daughter-in-law \\',\\n       \\'GRANDMOTHER\\', \\'child \\', \\'15\\', \\'DaD\\', \\'GIRLFRIEND\\', \\'FAMILY\\',\\n       \\'Uncle \\', \\'SiNGLE\\', \\'SINGLE\\', \\'fiancee\\', \\'FaMILY\\', \\'BENEFICIARY\\',\\n       \\'OWNER\\', \\'Relative \\', \\'GRANDDAUGHTER\\', \\' Spouse\\', \\'uncle\\',\\n       \\'Married \\', \\'chil\\', \\'CHILD MINOR\\', \\'33\\', \\'NEPHEW\\', \\'JOINT PARTNER\\',\\n       \\'MOTHERS \\', \\'Fiancé \\', \\'Others \\', \\'Grand daughter\\',\\n       \\'DAUGHTER-IN-LAW\\', \\'Na\\', \\'CHILD \\', \\'SPIRITUAL FATHER\\', \\'COUSN\\',\\n       \\'DEPEDANT\\', \\'Estate\\', \\'Uncle\\', \\'sISTER\\', \\'sisiter\\', \\' BROTHER\\',\\n       \\'Granddaughter \\', \\'BRother\\', \\'Aunt \\', \\'cousin\\', \\'Baby\\', \\'Morher\\',\\n       \\'MOM\\', \\'God mother\\', \\'GRANDSON \\', \\'Husband/spouse\\', \\'SPOUCE\\',\\n       \\'uncle \\', \\'FRIEND \\', \\'Single\\', \\'Vhild\\', \\'Patner\\', \\'Spouce\\',\\n       \\'Family\\', \\'SoN\\', \\'SisteR\\', \\'AUNTY\\', \\'FATHER-IN-LAW\\', \\'SonS\\', \\'0\\',\\n       \\'MO9\\', \\'Fiance\\', \\'33.4\\', \\'CHILF\\', \\'254727756559\\', \\'0720401466\\',\\n       \\'GRAND FATHER\\', \\'PRINCIPAL\\', \\'Guardian\\', \\'JUNIOR\\',\\n       \\'DGRAND DAUGHTER\\', \\'COWORKER\\', \\'GRAND MOTHER\\', \\'D100\\', \\'NMO\\',\\n       \\'BUSINESS PARTNER\\', \\'GURDIAN\\', \\'2021\\', \\'MotH\\', \\'MoM\\', \\'UN,CLE\\',\\n       \\'GRAND CHILD\\', \\'Sister in law\\', \\'Grand Daughter\\', \\'COMAPANION\\',\\n       \\'BOYFRIEND\\', \\'EX-WIFE\\', \\'GRANDDAUGTER\\', \\'PARNT\\', \\'M\\', \\'F\\', \\'Chils\\',\\n       \\';SON\\', \\'GUARDINA\\', \\'NiecE\\', \\'Brother-IN-LAW\\', \\'Member\\',\\n       \\'Grand mother\\', \\'ADMINISTRATOR\\', \\'VM\\', \\'GRANDFATHER\\', \\'GIRLFRIED\\',\\n       \\'Brestfriend\\', \\'Finance\\', \\'SIS\\', \\'Daughter in law\\', \\'children\\',\\n       \\'Girlfriend\\', \\'COLLEAGUE\\', \\'TRUSTEE\\', \\'254708368426\\', \\'Colleague\\',\\n       \\'Sister-IN-LAW\\', \\'GRAND-DAUGHTER\\', \\'GRANNY\\', \\'GRANDCHILD\\', \"\\'M\",\\n       \\'spouce\\', \\'SiLBLING\\', \\'Siblings\\', \\'Step-mother\\', \\'Aunty\\', \\'FREINF\\',\\n       \\'50\\', \\'100\\', \\'254723993458\\', \\'Cousins\\', \\'Cousins \\', \\'ASSOCIATE\\',\\n       \\'Fiane\\', \\'guardian\\', \\'Guadian\\', \\'Confidant\\', \\'Auntie\\', \\'GRANDPA\\',\\n       \\'mom\\', \\'Brother in Law\\', \\'BUSINESS PARTNER \\', \\'Spuose\\',\\n       \\'Business Partner\\', \\'Dating\\', \\'IN LAW\\', \\'STEP-MOM\\', \\'Son/Brother\\',\\n       \\'Chid\\', \\'Granddaughter\\', \\'niece\\', \\'Son/SISTER\\', \\'Grand Son\\',\\n       \\'BrotheR\\', \"Nolan\\'s Guardian\", \"Xena\\'s Guardian\", \\'Sister-in law\\',\\n       \\'PARENTS\\', \\'c/o\\', \\'STEP MOTHER\\', \\'NiCE\\', \\'Ciru\\', \\'DEPENDANT\\',\\n       \\'som\\', \\'GUARDIAN \\', \\'Dau`\\', \\'Kid\\', \\'PARENT \\', \\'CHILDREN\\',\\n       \\'partner \\', \\'CLOUSIN\\', \\'19112004\\', \\'twinsister\\', \\'MINOR\\',\\n       \\'Sister- Custodian\\', \\'GRANSON\\', \\'COMPANION\\', \\'ENGAGED\\',\\n       \\'WELL WISHER\\', \\'PARNER\\', \\'GRANCHILD\\', \\'Trustee\\', \\'Next of kin\\',\\n       \\'SIIBLING\\', \\'SIBLINGS\\', \\'Foster daughter\\', \\'ADMINSTRATOR\\',\\n       \\'IN-LAW\\', \\'Boyfriend\\', \\'NepheW\\', \\'EMPLOYEE\\', \\'DIRECTORS\\',\\n       \\'RELIGIOUS COMMUNITY\\', \\'CUSTODIAN\\', \\'C/O ARIANNA\\', \\'Sister IN LAW\\',\\n       \\'spose\\', \\'SPAUSE\\', \\'MEMBER\\', \\'DomesticPartner\\', \\'Grand-daughter\\',\\n       \\'Brother-in-law\\', \\'STEP-BROTHER\\', \\'Mother to Evan\\', \\'Sister-Inlaw\\',\\n       \\'BUS. PARTNER\\', \\'Sister(Guardian)\\', \\'CONTACT PERSON\\', \\'FatheR\\',\\n       \\'Brother in law\\', \\'Parwnt\\', \\'M,\\', \\'Sister-GUARDIAN\\', \\'Grand Child\\',\\n       \\'GODMOTHER\\', \\'Sister-Guardian\\', \\'Mother- Guardian\\', \\'Grandchild\\',\\n       \\'Grand son\\', \\'CHLD\\', \\'GRAND.DAUGHTER\\', \\'GRAND-MOTHER\\', \\'Parents\\',\\n       \\'EX WIFE\\', \\'Sister - Guardian\\', \\'Step-Mother\\', \\'FOSTER DAUGHTER\\',\\n       \\'Grand-mother\\', \\'God Mother\\', \\'Mother-in-law\\', \\'MEMBER \\',\\n       \\'B/S PARTNER\\', \\'LAWYER\\', \\'GRAND-SON\\', \\'parents\\', \\'Stepson\\',\\n       \\'Contingent\\', \\'grandmother\\', \\'G/Daughter\\', \\'Brother and sister\\',\\n       \\'Sibbling\\', \\' \\', \\'COUSIN \\', \\'DaughteR\\', \\'SPUOSE\\', \\'CHIILD\\',\\n       \\'DSPOUSE\\', \\'Executor\\', \\'HU\\', \\'EWIFE\\', \\'SPOUDSE\\', \\'SoPOUSE\\',\\n       \\'grandchild\\', \\'ChILD\\', \\'9266025\\', \\'PARE NT\\', \\'254700442162\\',\\n       \\'BEST FRIEND\\', \\'SISTER IN LAW \\', \\'mather\\', \\'SAVING PARTNER \\',\\n       \\'AUNTIE \\', \\'ParenChild\\', \\'GIRLFRIEND \\', \\'SINGLE \\', \\'Parentchild\\',\\n       \\'parentchild\\', \\'SPOUSE20\\', \\'Myself\\', \\'FIACEE\\', \\'SD\\',\\n       \\'Grand mother \\', \\'Mother of child\\', \\'Childnephew\\', \\'FATH \\',\\n       \\'MY SON\\', \\'BabyMother\\', \\'CHID\\', \\'GIRL FRIEND\\', \\'chils\\', \\'self \\',\\n       \"Mother\\'s \", \\'Mum \\', \\'aunty\\', \\'SPouse\\', \\'Auntie \\', \\'ChiLD\\',\\n       \\'grandmother \\', \\'Grand daughter \\', \\'auntie\\', \\'baby mama \\', \\'DA\\',\\n       \\'BrOther\\', \\'Fiancee \\', \\'In law\\', \\'Colleague \\', \\'WiFE\\', \\'owner\\',\\n       \\'sON\\', \\'Mather\\', \\'Dauhgter\\', \\'myself\\', \\'Hubby\\', \\'Sister in-law\\',\\n       \\'Aunty \\', \\'Foster parent\\', \\'grandson \\', \\'Wife/Guardian\\',\\n       \\'21761402\\', \\'GUARDIAN-MOTHER\\'], dtype=object)'}, 'execution_count': 17, 'metadata': {}, 'output_type': 'execute_result'}], 'source': '#checking for unique values in relationship column\\ndf.relationship.unique()'}, {'cell_type': 'code', 'execution_count': 18, 'metadata': {}, 'outputs': [{'data': {'text/plain': '\"mother                  18900 son                     18207 daughter                18010 sister                  12234 wife                    11190 husband                  9563 brother                  7768 father                   6738 spouse                   3311 child                    1567 parent                    627 friend                    393 niece                     369 nephew                    313 cousin                    309 aunt                      220 partner                   203 sibling                   199 fiance                    137 guardian                  117 fiancee                   100 uncle                      85 grandson                   74 grandmother                61 family                     51 self                       42 -                          40 estate                     39 grand daughter             31 dad                        29 granddaughter              29 mum                        27 girlfriend                 26 doughter                   25 relative                   18 boyfriend                  17 grandchild                 16 aunty                      16 business partner           15 member                     15 auntie                     14 sister in law              12 mom                        11 gurdian                    11 grandfather                11 kid                        10 so                         10 grand-daughter              9 s0n                         8 trustee                     8 grand mother                8 grand child                 7 single                      7 colleague                   7 patner                      6 spouce                      6 parents                     5 100                         5 foster daughter             4 grand son                   4 owner                       4 daughetr                    4 dependant                   4 grand-mother                4 0                           4 married                     4 na                          3 daighter                    3 daugther                    3 minor                       3 spause                      3 parentchild                 3 in law                      3 grand father                3 bus. partner                3 my son                      3 daughter-in-law             2 beneficiary                 2 1226805243;130143346        2 son/brother                 2 children                    2 grandma                     2 baby mama                   2 myself                      2 brother in law              2 cousins                     2 step-mother                 2 sis                         2 chid                        2 contact person              2 50                          2 mothers                     2 brother-in-law              2 god mother                  2 c/o arianna                 2 parner                      2 chils                       2 depedant                    2 daugher                     2 sister-guardian             2 b/s partner                 2 associate                   2 mother-in-law               2 confidant                   2 vhild                       2 vm                          2 guardina                    2 spuose                      2 ex-wife                     2 mather                      2 m                           2 granddaugter                2 close friend                2 girl friend                 2 sister in-law               2 in-law                      2 sister-in-law               2 siblings                    2 f                           1 2021                        1 godmother                   1 xena\\'s guardian             1 sd                          1 coworker                    1 childnephew                 1 fiane                       1 mwas                        1 21761402                    1 grandpa                     1 freinf                      1 dating                      1 chld                        1 sisiter                     1 closefriend                 1 ;son                        1 stepson                     1 twinsister                  1 nice                        1 nolan\\'s guardian            1 hubby                       1 directors                   1 sister-inlaw                1 33.4                        1 cousn                       1 254727756559                1 baby                        1 son/sister                  1 parenchild                  1 un,cle                      1 \\'m                          1 domestic partner            1 grand-son                   1 fiancé                      1 principal                   1 myson                       1 silbling                    1 mother\\'s                    1 19112004                    1 grand.daughter              1 spoudse                     1 254701361835                1 lawyer                      1 person                      1 som                         1 chilf                       1 dau`                        1 mother to evan              1 custodian                   1 bishop                      1 granchild                   1 dauhgter                    1 sons                        1 254723993458                1 da                          1 moth                        1 sopouse                     1 well wisher                 1 bro                         1 fiacee                      1 brother and sister          1 daughter/child              1 joint partner               1 brestfriend                 1 wife/guardian               1 step-brother                1 ewife                       1 sister- custodian           1 sister-in law               1 marriage                    1 nmo                         1 spouse20                    1 junior                      1 babymother                  1 father-in-law               1 ciru                        1 foster parent               1 bother                      1 254708368426                1 dgrand daughter             1 granny                      1 mother to son               1 mother of child             1 contingent                  1 pare nt                     1 step-mom                    1 morher                      1 advisor                     1 clousin                     1 grandparent                 1 ex wife                     1 domesticpartner             1 finance                     1 15                          1 sister - guardian           1 administrator               1 spose                       1 hu                          1 ass0ciate                   1 chiild                      1 sistet                      1 chil                        1 guadian                     1 daughter in law             1 33                          1 c/o                         1 sister(guardian)            1 mo9                         1 parwnt                      1 daughter33                  1 others                      1 d100                        1 adminstrator                1 granson                     1 254700442162                1 saving partner              1 companion                   1 executor                    1 engaged                     1 b inlaw                     1 me                          1 fath                        1 0720401466                  1 spiritual father            1 mentor                      1 next of kin                 1 best friend                 1 sp0use                      1 step mother                 1 9266025                     1 child minor                 1 faither                     1 girlfried                   1 parnt                       1 siibling                    1 employee                    1 daughte                     1 husband/spouse              1 religious community         1 sibbling                    1 mother- guardian            1 dspouse                     1 comapanion                  1 guardian-mother             1 m,                          1 g/daughter                  1                             1\"'}, 'execution_count': 18, 'metadata': {}, 'output_type': 'execute_result'}], 'source': '# Convert values in the \\'relationship\\' column to lowercase and remove any extra spaces\\ndf[\\'relationship\\'] = df[\\'relationship\\'].str.lower().str.strip()\\n\\n# Get the counts of each unique value in the \\'relationship\\' column,\\n# then format the output as a single line string\\ndf[\\'relationship\\'].value_counts().to_string().replace(\"\\\\n\", \" \")'}, {'cell_type': 'code', 'execution_count': 19, 'metadata': {}, 'outputs': [{'data': {'text/plain': '0'}, 'execution_count': 19, 'metadata': {}, 'output_type': 'execute_result'}], 'source': \"# Replace any missing values in the 'relationship' column with 'son'\\ndf['relationship'] = df['relationship'].fillna('son')\\n\\n# Check if there are any remaining missing values in the 'relationship' column\\ndf['relationship'].isna().sum()\\n\"}, {'cell_type': 'markdown', 'metadata': {}, 'source': 'To organize and standardize relationship values in the dataset, we define categories for mapping different variations of relationship terms. This approach creates a consistent structure by grouping terms like \"spouse,\" \"child,\" \"sibling,\" etc., into predefined categories. By applying this mapping, we ensure that any variations in spelling, formatting, or synonymous terms are aligned under a single label.\\n\\nThe following code accomplishes this by:\\n\\nDefining a dictionary (relationship_map) that assigns potential variations of relationship terms to specific categories.\\nCreating a function (map_relationship) that checks each entry in the relationship column against the keywords in relationship_map.\\nApplying this function to the column to classify each entry according to the defined categories.\\nFinally, we display the count of values in each category to confirm the classification distribution.'}, {'cell_type': 'code', 'execution_count': 20, 'metadata': {}, 'outputs': [{'name': 'stdout', 'output_type': 'stream', 'text': 'child           52152\\nparent          26352\\npartner         24578\\nsibling         20240\\nrelative         1534\\nfriends           396\\nother             392\\nguardian          128\\nprofessional       67\\nself               49\\nName: relationship, dtype: int64\\n'}], 'source': \"# Convert all entries to lower case and strip whitespace for uniformity\\ndf['relationship'] = df['relationship'].str.lower().str.strip()\\n\\n# Mapping dictionary\\nrelationship_map = {\\n    'partner': [\\n        'partner', 'spouse', 'sp0use','husband', 'wife', 'fiancee', 'ex-wife', 'spouce', 'fiancé',\\n        'husband ', 'sponse', 'spouse ', 'wiFe', 'wifE', 'wife ', 'spouse', 'married', 'marriage',\\n        'husband/spouse', 'ex-wife', 'fiance ', 'fiance', 'married ', 'myson', 'baby mama ',\\n        'fiancee ', 'souse', 'hubby', 'dating', 'boyfriend', 'girlfriend', 'ex wife', 'boyfriend ',\\n        'girlfriend ', 'wife/guardian', 'ex husband', 'girl friend', 'fiancée', 'sopouse', 'spoudse',\\n        'soPOUSE', 'spause', 'sposue', 'ex husband', 'love', 'b/f', 'g/f', 'divorcee', 'ex spouse',\\n        'bf', 'gf', 'b/f', 'g/f', 'fiancé ', 'domesticpartner', 'domestic partner', 'dating', 'exwife',\\n        'exhusband', 'wive', 'husb', 'exspouse', 'partner ', 'significant other', 'fiancee','companion','Partner',\\n        'Husband ', 'Husband',  'Wife',   'SPOUSE' , 'Spouse ', 'WIfe', 'Spouse',  'wife', 'Wife ', 'spouse', 'partner',\\n        'HUSBAND', 'husband', 'husband ',  'SP0USE' , 'SPOUSE ',  'wife ',\\n        'spouse ', 'Partner ' , 'FIANCEE', 'Fiancee',  'HUSBAND ',  'FIANCE', \\n        'wIFE', 'PARTNER',  'Domestic Partner', 'PATNER', 'Fiance ', 'PARTNER ',  'hUSBAND',  'Boyfriend ',\\n        'WIFE ', 'fiancee', 'JOINT PARTNER', 'Fiancé ' , 'Husband/spouse', 'SPOUCE',  'Patner', 'Spouce',  \\n        'Fiance', 'BOYFRIEND', 'EX-WIFE',  'PARNT',  'GIRLFRIED'\\n    ],\\n    'child': [\\n        'child', 'kid', 'daughter', 'son', 'children', 'daughter33', 'doughter', 'daugther', 'doughter ',\\n        'daugther', 'son ', 'daughter ', 'child minor', 'kids', 'baby', 'infant', 'toddler', 'sonS',\\n        'minor', 'child ', 'son/sister', 'chid', 'newborn', 'son/brother', 'childnephew',\\n        'chils', 'chiLD', 'kID', 'dau`', 'daugher', 'childnephew', 'my son','child', 'son', 'dau', \\n        'daughter', 'daughter33', 'my son', 'infant', 'childnephew', 'kids', 'baby', 'ChiLD', 'CHID',\\n        'sON', 'cHILS', 'CHID', 'CHIILD', 'KID', 'FOSTER' 'DAUGHTER', 'CHILD MINOR', 'MINOR', 'CHILDREN', \\n        'SOM', 'CHILDREN', 'JUNIOR', 'BABY',  'CHIL', 'DAUGHTER/CHILDDAUGHER', 'CHILF', 'DOUGHTER', 'DAIGHTER', \\n        'DAUGHTE', 'DAUGHETR', 'S0N','MYSON','child','CHILD','Child ','DAUGHTER/CHILD','child ','CHILD MINOR',\\n        'CHILD ','children','CHILDREN','ChILD','ChiLD'\\n    ],\\n    'parent': [\\n        'mother', 'mom', 'mum', 'father', 'dad', 'parent', 'parents', 'mother ', 'father ', 'mOTHER',\\n        'dad ', 'mum ', 'mom ', 'mummy', 'daddy', 'papa', 'mama', 'mother in law', 'father in law',\\n        'mothers', 'fathers', 'moms', 'mums', 'father-in-law', 'mother-in-law', 'mommy', 'dadi', 'momi',\\n        'parent ', 'mother to son', 'mother of child', 'parents', 'mother- guardian', 'father - guardian',\\n        'parentchild', 'parental', 'parenthood', 'parenting', 'mother IN LAW', 'mom in law', 'dad in law',\\n        'mum in law', 'parenting', 'fatherhood', 'motherhood', 'parent ', 'grandparent', 'step mother',\\n        'step father', 'step-mother', 'step-father','Parent', 'Parents', 'Mother', 'Mothers', 'Mom', 'Mum', \\n        'Father', 'DAD', 'Dad', 'Guardian', 'Grandmother', 'Grandfather', 'Step-mother', 'Step-father', 'Foster parent',\\n        'Mother-in-law', 'Father-in-law', 'ParentChild', 'Mama', 'Mummy', 'Dadi', 'Mother TO SON', 'PARENT', 'MOther'\\n    ],\\n    'self': [\\n        'self', 'owner', 'me', 'myself', 'self ', 'owner ', 'i', 'myself ', 'personal', 'individual',\\n        'own', 'my own', 'self-employed', 'proprietor', 'me ', 'self employed', 'self own', 'personal account',\\n        'my account', 'own account'\\n    ],\\n    'guardian': [\\n        'guardian', 'custodian', 'trustee', 'guard', 'guardian ', 'custodian ', 'trustee ', 'guard ',\\n        'legal guardian', 'guardianship', 'custodianship', 'trusteeship', 'protector', 'caregiver',\\n        'conservator','conservator', 'foster parent', 'foster guardian', 'legal custodian', 'guardian-mother', 'guardian father'\\n    ],\\n    'sibling': [\\n        'siblings', 'brother', 'sister', 'sibling', 'brother ', 'sister ', 'bro', 'sis', 'brothers', 'sisters',\\n        'sibling ', 'brother-in-law', 'sister-in-law', 'sibling in law', 'brother and sister', 'sibbling',\\n        'siBLING', 'sibblings', 'sister in law', 'brother in law', 'sister/guardian', 'sister - guardian',\\n        'sister-guardian', 'bros', 'sisses', 'step-sister', 'step-brother', 'half-sister', 'half-brother', 'broski','Sister', 'Brother ','brother', 'sister',\\n       'Sister ', 'SISTER','Sibling', 'brother ','Sibling ','SISTER ','Sistet', 'Bro', 'Sis', 'SiBLING',\\n        'SIBLING',  's0n', 'sister ''sISTER', 'sisiter', ' BROTHER','BRother', 'SisteR', 'SIS', \\n       'som',\\n       'Sister- Custodian', \\n       'SIIBLING', 'SIBLINGS','Brother and sister',\\n       'Sibbling'\\n    ],\\n    'relative': [\\n        'cousin', 'nephew', 'grand child', 'niece', 'grandmother', 'granddaughter', 'grandson', 'grandfather', 'uncles', 'aunties',\\n        'aunt', 'uncle', 'granny', 'grandparent', 'grand child', 'relative', 'relatives', 'cousins', 'uncles',\\n        'aunties', 'aunts', 'grandparents', 'great grandmother', 'great grandfather', 'grand children', 'extended family',\\n        'grandmother ', 'grandfather ', 'nephew ', 'niece ', 'cousin ', 'aunt ', 'uncle ', 'granny ', 'granddaughter ',\\n        'grandson ', 'grandchild', 'grandchild ', 'grandchildren', 'grandkids', 'great grandparent', 'ancestors', 'descendants',\\n        'kin', 'kinship', 'next of kin', 'in-laws', 'inlaw', 'in laws', 'extended relatives', 'b inlaw', 'in law','family tree', 'Cousin', ' Grand daughter', 'Nephew', 'NIECE', 'Niece', 'AUNT', 'relative', 'AUNTIE', 'B INLAW', 'COUSIN', 'aunt', 'UNCLE', 'GRAND SON', 'Nephew ', 'Cousin ', 'nephew', 'GRAND DAUGHTER', 'Niece ', 'granddaughter', 'grandson', 'RELATIVE', 'Daughter-in-law ', 'GRANDMOTHER', 'Relative ', 'uncle',\\n'NEPHEW', 'Grand daughter', 'DAUGHTER-IN-LAW', 'COUSN', 'Uncle', 'Granddaughter ', 'Aunt ', 'cousin', 'GRANDSON ', 'uncle ', 'AUNTY', 'FATHER-IN-LAW', 'GRAND FATHER', 'DGRAND DAUGHTER', 'GRAND MOTHER', 'UN,CLE', 'GRAND CHILD', 'Sister in law', 'Grand Daughter', 'GRANDDAUGTER', 'NiecE', 'Brother-IN-LAW', 'Grand mother', 'GRANDFATHER', 'Daughter in law', 'Sister-IN-LAW', 'GRAND-DAUGHTER', 'GRANNY', \\n'GRANDCHILD', 'Aunty', 'Cousins', 'Cousins ', 'Auntie', 'GRANDPA', 'Brother in Law', 'IN LAW', 'Granddaughter', 'niece', 'Grand Son', 'Sister-in law', 'CLOUSIN', 'GRANSON', 'Sister IN LAW', 'Brother-in-law', 'Sister-Inlaw', 'Brother in law', 'GRAND-MOTHER', 'Grand-mother', 'Mother-in-law', 'SISTER IN LAW ', 'Grand mother ', 'Childnephew', 'Grand daughter ', 'auntie', 'In law', 'Sister in-law', 'Aunty '\\n    ],\\n    'friends': ['friend','closefriend', 'confidant', 'friend ',\\n        'peers', 'acquaintance', 'comrade', 'pal', 'buddy', 'mate', 'fellow', 'ally', 'supporter',\\n        'confidante', 'friend of the family', 'family friend',\\n        'peer', 'companion', 'companions'\\n    ],\\n    'professional':['colleague', 'coworker', 'partner in law',\\n        'associate', 'advisor', 'mentor', 'colleague ', 'coworker ',\\n        'associate ', 'colleague', 'professional', 'mentor', 'adviser', 'counselor', 'legal representative', 'executor', 'business partner',\\n        'co-worker', 'workmate', 'teammate',\\n        'partner in business', 'business associate', 'collaborator', 'collegue','estate'\\n    ],\\n    'other': ['spiritual advisor','sponsor'\\n    ]\\n}\\n\\n# Function to apply the mapping\\ndef map_relationship(value):\\n    for category, keywords in relationship_map.items():\\n        if any(keyword == value for keyword in keywords):\\n            return category\\n    return 'other'  # Default category if no matches found\\n\\n# Apply the mapping function to the 'relationship' column\\ndf['relationship'] = df['relationship'].apply(map_relationship)\\n\\n# Show the value counts of each category\\nprint(df['relationship'].value_counts())\"}, {'cell_type': 'code', 'execution_count': 21, 'metadata': {}, 'outputs': [{'data': {'text/plain': \"Index(['member_no', 'dob', 'gender', 'town', 'relationship', 'beneficiery_dob',\\n       'portfolio'],\\n      dtype='object')\"}, 'execution_count': 21, 'metadata': {}, 'output_type': 'execute_result'}], 'source': '#checking the columns in the dataframe\\ndf.columns'}, {'cell_type': 'code', 'execution_count': 22, 'metadata': {}, 'outputs': [{'data': {'text/plain': 'Female    83178\\nMale      42480\\nF            92\\nM            48\\nFEMALE        4\\nMALE          4\\nName: gender, dtype: int64'}, 'execution_count': 22, 'metadata': {}, 'output_type': 'execute_result'}], 'source': '#inspecting the value_counts in the gender column\\ndf.gender.value_counts()'}, {'cell_type': 'code', 'execution_count': 23, 'metadata': {}, 'outputs': [{'data': {'text/plain': '82'}, 'execution_count': 23, 'metadata': {}, 'output_type': 'execute_result'}], 'source': '#checking for null values\\ndf.gender.isna().sum()'}, {'cell_type': 'code', 'execution_count': 24, 'metadata': {}, 'outputs': [{'data': {'text/plain': '0'}, 'execution_count': 24, 'metadata': {}, 'output_type': 'execute_result'}], 'source': \"#fill the null values with the 'Female' gender\\ndf['gender']=df.gender.fillna('Female')\\ndf['gender'].isna().sum()\"}, {'cell_type': 'markdown', 'metadata': {}, 'source': 'To standardize entries in the gender column, we create a dictionary to map various formats of \"Male\" and \"Female\" into consistent labels. This step ensures uniformity across the dataset, which is essential for accurate analysis.\\n\\nThe process involves:\\n\\nDefining a gender_map dictionary where different versions of \"Male\" and \"Female\" are assigned to a single, standardized label.\\nUsing the replace function to apply this mapping to the gender column and store the cleaned values in a new column, gender_mapped.\\nThis streamlined approach produces a clean and uniform gender_mapped column ready for analysis.'}, {'cell_type': 'code', 'execution_count': 25, 'metadata': {}, 'outputs': [], 'source': \"gender_map = {\\n    'Female':'Female','F':'Female','FEMALE':'Female',\\n    'Male':'Male','M':'Male','MALE':'Male',\\n}\\n\\ndf['gender_mapped'] = df['gender'].replace(gender_map)\"}, {'cell_type': 'code', 'execution_count': 26, 'metadata': {}, 'outputs': [{'data': {'text/html': '<div>\\n<style scoped>\\n    .dataframe tbody tr th:only-of-type {\\n        vertical-align: middle;\\n    }\\n\\n    .dataframe tbody tr th {\\n        vertical-align: top;\\n    }\\n\\n    .dataframe thead th {\\n        text-align: right;\\n    }\\n</style>\\n<table border=\"1\" class=\"dataframe\">\\n  <thead>\\n    <tr style=\"text-align: right;\">\\n      <th></th>\\n      <th>member_no</th>\\n      <th>dob</th>\\n      <th>gender</th>\\n      <th>town</th>\\n      <th>relationship</th>\\n      <th>beneficiery_dob</th>\\n      <th>portfolio</th>\\n      <th>gender_mapped</th>\\n    </tr>\\n  </thead>\\n  <tbody>\\n    <tr>\\n      <th>0</th>\\n      <td>99996</td>\\n      <td>1998-04-06 00:00:00</td>\\n      <td>Female</td>\\n      <td>NAIROBI</td>\\n      <td>partner</td>\\n      <td>1998-01-26</td>\\n      <td>Money Market</td>\\n      <td>Female</td>\\n    </tr>\\n    <tr>\\n      <th>14</th>\\n      <td>99996</td>\\n      <td>1998-04-06 00:00:00</td>\\n      <td>Female</td>\\n      <td>NAIROBI</td>\\n      <td>sibling</td>\\n      <td>2001-03-04</td>\\n      <td>Money Market</td>\\n      <td>Female</td>\\n    </tr>\\n    <tr>\\n      <th>28</th>\\n      <td>99994</td>\\n      <td>1966-01-01 00:00:00</td>\\n      <td>Female</td>\\n      <td>NaN</td>\\n      <td>partner</td>\\n      <td>1962-01-01</td>\\n      <td>Money Market</td>\\n      <td>Female</td>\\n    </tr>\\n    <tr>\\n      <th>40</th>\\n      <td>99993</td>\\n      <td>1974-01-01 00:00:00</td>\\n      <td>Female</td>\\n      <td>NAIROBI</td>\\n      <td>partner</td>\\n      <td>1970-09-29</td>\\n      <td>Money Market</td>\\n      <td>Female</td>\\n    </tr>\\n    <tr>\\n      <th>70</th>\\n      <td>99993</td>\\n      <td>1974-01-01 00:00:00</td>\\n      <td>Female</td>\\n      <td>NAIROBI</td>\\n      <td>child</td>\\n      <td>1994-01-01</td>\\n      <td>Money Market</td>\\n      <td>Female</td>\\n    </tr>\\n  </tbody>\\n</table>\\n</div>', 'text/plain': '    member_no                  dob  gender     town relationship  \\\\\\n0       99996  1998-04-06 00:00:00  Female  NAIROBI      partner   \\n14      99996  1998-04-06 00:00:00  Female  NAIROBI      sibling   \\n28      99994  1966-01-01 00:00:00  Female      NaN      partner   \\n40      99993  1974-01-01 00:00:00  Female  NAIROBI      partner   \\n70      99993  1974-01-01 00:00:00  Female  NAIROBI        child   \\n\\n   beneficiery_dob     portfolio gender_mapped  \\n0       1998-01-26  Money Market        Female  \\n14      2001-03-04  Money Market        Female  \\n28      1962-01-01  Money Market        Female  \\n40      1970-09-29  Money Market        Female  \\n70      1994-01-01  Money Market        Female  '}, 'execution_count': 26, 'metadata': {}, 'output_type': 'execute_result'}], 'source': '#inspecting the cleaned df\\ndf.head()'}, {'cell_type': 'code', 'execution_count': 27, 'metadata': {}, 'outputs': [{'data': {'text/plain': '1962-01-01             541\\n1960-01-01             360\\n1968-01-01             320\\n1974-01-01             311\\n1970-01-01             311\\n                      ... \\n1970-04-13               1\\n1960-09-02               1\\n2004-01-14               1\\n1958-04-29               1\\n2000-02-29 21:00:00      1\\nName: dob, Length: 19092, dtype: int64'}, 'execution_count': 27, 'metadata': {}, 'output_type': 'execute_result'}], 'source': '#age distribution based on dob(date of birth)\\ndf.dob.value_counts()'}, {'cell_type': 'code', 'execution_count': 28, 'metadata': {}, 'outputs': [{'data': {'text/plain': '1899-12-30             1854\\n1962-01-01              584\\n1970-01-01              562\\n1960-01-01              488\\n1963-01-01              475\\n                       ... \\n1989-11-12 00:00:00       1\\n1952-11-06                1\\n1988-06-10 00:00:00       1\\n1952-12-05                1\\n1983-05-22 00:00:00       1\\nName: beneficiery_dob, Length: 27488, dtype: int64'}, 'execution_count': 28, 'metadata': {}, 'output_type': 'execute_result'}], 'source': '#age distribution based on beneficiary_dob(date of birth)\\ndf.beneficiery_dob.value_counts()'}, {'cell_type': 'code', 'execution_count': 29, 'metadata': {}, 'outputs': [{'data': {'text/plain': '0'}, 'execution_count': 29, 'metadata': {}, 'output_type': 'execute_result'}], 'source': \"#fill with the modal age\\ndf['dob'] = df.dob.fillna('1962-01-01')\\ndf.dob.isna().sum()\"}, {'cell_type': 'markdown', 'metadata': {}, 'source': '---\\n\\nTo compute ages from the dates of birth in our dataset, we:\\n\\n1. **Convert Dates of Birth:** The `dob` and `beneficiery_dob` columns are first converted to datetime format to ensure proper date handling. If a date cannot be converted, it is set to `NaT` (missing).\\n  \\n2. **Define Age Calculation Function:** A helper function, `calculate_age`, computes the age by subtracting the birth year from the current year and adjusting for birthdays that have not yet occurred this year.\\n\\n3. **Apply Function to Columns:** The function is applied to both `dob` and `beneficiery_dob` to create two new columns: `member_age` and `beneficiery_age`, which store the calculated ages.\\n\\nFinally, the resulting columns are previewed to verify successful age computation.'}, {'cell_type': 'code', 'execution_count': 30, 'metadata': {}, 'outputs': [{'name': 'stdout', 'output_type': 'stream', 'text': '          dob  member_age beneficiery_dob  beneficiery_age\\n0  1998-04-06          26      1998-01-26             26.0\\n14 1998-04-06          26      2001-03-04             23.0\\n28 1966-01-01          58      1962-01-01             62.0\\n40 1974-01-01          50      1970-09-29             54.0\\n70 1974-01-01          50      1994-01-01             30.0\\n'}], 'source': \"# Convert the dob column to datetime format\\ndf['dob'] = pd.to_datetime(df['dob'], errors='coerce')\\n\\n# Function to calculate age\\ndef calculate_age(birth_date):\\n    if pd.isnull(birth_date):\\n        return None\\n    today = datetime.today()\\n    return today.year - birth_date.year - ((today.month, today.day) < (birth_date.month, birth_date.day))\\n\\n# Apply the function to calculate member age\\ndf['member_age'] = df['dob'].apply(calculate_age)\\n\\n# Convert beneficiery_dob column to datetime and calculate beneficiary age similarly\\ndf['beneficiery_dob'] = pd.to_datetime(df['beneficiery_dob'], errors='coerce')\\ndf['beneficiery_age'] = df['beneficiery_dob'].apply(calculate_age)\\n\\n# Check results\\nprint(df[['dob', 'member_age', 'beneficiery_dob', 'beneficiery_age']].head())\"}, {'cell_type': 'code', 'execution_count': 31, 'metadata': {}, 'outputs': [{'data': {'text/plain': 'count    111951.000000\\nmean         37.961296\\nstd          22.107604\\nmin        -178.000000\\n25%          24.000000\\n50%          36.000000\\n75%          53.000000\\nmax         329.000000\\nName: beneficiery_age, dtype: float64'}, 'execution_count': 31, 'metadata': {}, 'output_type': 'execute_result'}], 'source': \"# Display summary statistics for the 'beneficiery_age' column to understand the age distribution of beneficiaries\\ndf.beneficiery_age.describe()\"}, {'cell_type': 'code', 'execution_count': 32, 'metadata': {}, 'outputs': [{'data': {'text/plain': 'Money Market     119710\\nEquity Fund        2014\\nDollar Fund        1480\\nBalanced Fund      1180\\nFixed Income       1101\\nWealth Fund         398\\nMoneyMarket           1\\nName: portfolio, dtype: int64'}, 'execution_count': 32, 'metadata': {}, 'output_type': 'execute_result'}], 'source': '#display the portfolio allocation \\ndf.portfolio.value_counts()'}, {'cell_type': 'code', 'execution_count': 33, 'metadata': {}, 'outputs': [{'data': {'text/plain': '0'}, 'execution_count': 33, 'metadata': {}, 'output_type': 'execute_result'}], 'source': \"#fill with the mode\\ndf['portfolio']=df.portfolio.fillna('Money Market')\\ndf.portfolio.isna().sum()\"}, {'cell_type': 'markdown', 'metadata': {}, 'source': '---\\n\\n1. **Portfolio Mapping:** It defines a dictionary (`portfolio_map`) that standardizes various portfolio names in the `portfolio` column. For instance, entries like \"Money Mrket\" and \"MoneyMarket\" are all mapped to \"Money Market,\" ensuring consistency across the dataset.\\n\\n2. **Replace Portfolio Values:** The `replace` function is then applied to the `portfolio` column, replacing any of the portfolio variations with their standardized labels as defined in the `portfolio_map` dictionary.\\n\\n3. **Create New Column:** The standardized portfolio names are saved in a new column, `portfolio_map`, in the dataframe.\\n\\n'}, {'cell_type': 'code', 'execution_count': 34, 'metadata': {}, 'outputs': [], 'source': \"#clean up the portfolio column\\nportfolio_map ={\\n    'Money Mrket':'Money Market','MoneyMarket':'Money Market',\\n    'Equity Fund':'Equity Fund',\\n    'Dollar Fund':'Dollar Fund',\\n    'Balanced Fund':'Balanced Fund',\\n    'Fixed Income':'Fixed Income',\\n    'Wealth Fund':'Wealth Fund',\\n}\\ndf['portfolio_map'] = df['portfolio'].replace(portfolio_map)\"}, {'cell_type': 'code', 'execution_count': 35, 'metadata': {}, 'outputs': [{'data': {'text/html': '<div>\\n<style scoped>\\n    .dataframe tbody tr th:only-of-type {\\n        vertical-align: middle;\\n    }\\n\\n    .dataframe tbody tr th {\\n        vertical-align: top;\\n    }\\n\\n    .dataframe thead th {\\n        text-align: right;\\n    }\\n</style>\\n<table border=\"1\" class=\"dataframe\">\\n  <thead>\\n    <tr style=\"text-align: right;\">\\n      <th></th>\\n      <th>member_no</th>\\n      <th>dob</th>\\n      <th>gender</th>\\n      <th>town</th>\\n      <th>relationship</th>\\n      <th>beneficiery_dob</th>\\n      <th>portfolio</th>\\n      <th>gender_mapped</th>\\n      <th>member_age</th>\\n      <th>beneficiery_age</th>\\n      <th>portfolio_map</th>\\n    </tr>\\n  </thead>\\n  <tbody>\\n    <tr>\\n      <th>0</th>\\n      <td>99996</td>\\n      <td>1998-04-06</td>\\n      <td>Female</td>\\n      <td>NAIROBI</td>\\n      <td>partner</td>\\n      <td>1998-01-26</td>\\n      <td>Money Market</td>\\n      <td>Female</td>\\n      <td>26</td>\\n      <td>26.0</td>\\n      <td>Money Market</td>\\n    </tr>\\n    <tr>\\n      <th>14</th>\\n      <td>99996</td>\\n      <td>1998-04-06</td>\\n      <td>Female</td>\\n      <td>NAIROBI</td>\\n      <td>sibling</td>\\n      <td>2001-03-04</td>\\n      <td>Money Market</td>\\n      <td>Female</td>\\n      <td>26</td>\\n      <td>23.0</td>\\n      <td>Money Market</td>\\n    </tr>\\n    <tr>\\n      <th>28</th>\\n      <td>99994</td>\\n      <td>1966-01-01</td>\\n      <td>Female</td>\\n      <td>NaN</td>\\n      <td>partner</td>\\n      <td>1962-01-01</td>\\n      <td>Money Market</td>\\n      <td>Female</td>\\n      <td>58</td>\\n      <td>62.0</td>\\n      <td>Money Market</td>\\n    </tr>\\n    <tr>\\n      <th>40</th>\\n      <td>99993</td>\\n      <td>1974-01-01</td>\\n      <td>Female</td>\\n      <td>NAIROBI</td>\\n      <td>partner</td>\\n      <td>1970-09-29</td>\\n      <td>Money Market</td>\\n      <td>Female</td>\\n      <td>50</td>\\n      <td>54.0</td>\\n      <td>Money Market</td>\\n    </tr>\\n    <tr>\\n      <th>70</th>\\n      <td>99993</td>\\n      <td>1974-01-01</td>\\n      <td>Female</td>\\n      <td>NAIROBI</td>\\n      <td>child</td>\\n      <td>1994-01-01</td>\\n      <td>Money Market</td>\\n      <td>Female</td>\\n      <td>50</td>\\n      <td>30.0</td>\\n      <td>Money Market</td>\\n    </tr>\\n  </tbody>\\n</table>\\n</div>', 'text/plain': '    member_no        dob  gender     town relationship beneficiery_dob  \\\\\\n0       99996 1998-04-06  Female  NAIROBI      partner      1998-01-26   \\n14      99996 1998-04-06  Female  NAIROBI      sibling      2001-03-04   \\n28      99994 1966-01-01  Female      NaN      partner      1962-01-01   \\n40      99993 1974-01-01  Female  NAIROBI      partner      1970-09-29   \\n70      99993 1974-01-01  Female  NAIROBI        child      1994-01-01   \\n\\n       portfolio gender_mapped  member_age  beneficiery_age portfolio_map  \\n0   Money Market        Female          26             26.0  Money Market  \\n14  Money Market        Female          26             23.0  Money Market  \\n28  Money Market        Female          58             62.0  Money Market  \\n40  Money Market        Female          50             54.0  Money Market  \\n70  Money Market        Female          50             30.0  Money Market  '}, 'execution_count': 35, 'metadata': {}, 'output_type': 'execute_result'}], 'source': '#check the new_df\\ndf.head()'}, {'cell_type': 'code', 'execution_count': 36, 'metadata': {}, 'outputs': [{'data': {'text/plain': '15026'}, 'execution_count': 36, 'metadata': {}, 'output_type': 'execute_result'}], 'source': '#inspecting the null values in the town column\\ndf.town.isna().sum()'}, {'cell_type': 'code', 'execution_count': 37, 'metadata': {}, 'outputs': [{'data': {'text/plain': 'NAIROBI              56997\\nNairobi              10261\\nTHIKA                 3000\\nNAKURU                2608\\nMOMBASA               2440\\n                     ...  \\nLAARE                    1\\nKAP                      1\\nKHAYEGA                  1\\nGITHURAI                 1\\nBURUBURU NAIROBI         1\\nName: town, Length: 973, dtype: int64'}, 'execution_count': 37, 'metadata': {}, 'output_type': 'execute_result'}], 'source': '#inspecting the value_counts in the town column\\ndf.town.value_counts()'}, {'cell_type': 'code', 'execution_count': 38, 'metadata': {}, 'outputs': [{'data': {'text/plain': '0'}, 'execution_count': 38, 'metadata': {}, 'output_type': 'execute_result'}], 'source': \"#fill the null values with unknown\\ndf['town'] = df.town.fillna('Unknown')\\ndf.town.isna().sum()\"}, {'cell_type': 'code', 'execution_count': 39, 'metadata': {}, 'outputs': [{'data': {'text/html': '<div>\\n<style scoped>\\n    .dataframe tbody tr th:only-of-type {\\n        vertical-align: middle;\\n    }\\n\\n    .dataframe tbody tr th {\\n        vertical-align: top;\\n    }\\n\\n    .dataframe thead th {\\n        text-align: right;\\n    }\\n</style>\\n<table border=\"1\" class=\"dataframe\">\\n  <thead>\\n    <tr style=\"text-align: right;\">\\n      <th></th>\\n      <th>member_no</th>\\n      <th>dob</th>\\n      <th>gender</th>\\n      <th>town</th>\\n      <th>relationship</th>\\n      <th>beneficiery_dob</th>\\n      <th>portfolio</th>\\n      <th>gender_mapped</th>\\n      <th>member_age</th>\\n      <th>beneficiery_age</th>\\n      <th>portfolio_map</th>\\n    </tr>\\n  </thead>\\n  <tbody>\\n    <tr>\\n      <th>0</th>\\n      <td>99996</td>\\n      <td>1998-04-06</td>\\n      <td>Female</td>\\n      <td>NAIROBI</td>\\n      <td>partner</td>\\n      <td>1998-01-26</td>\\n      <td>Money Market</td>\\n      <td>Female</td>\\n      <td>26</td>\\n      <td>26.0</td>\\n      <td>Money Market</td>\\n    </tr>\\n    <tr>\\n      <th>14</th>\\n      <td>99996</td>\\n      <td>1998-04-06</td>\\n      <td>Female</td>\\n      <td>NAIROBI</td>\\n      <td>sibling</td>\\n      <td>2001-03-04</td>\\n      <td>Money Market</td>\\n      <td>Female</td>\\n      <td>26</td>\\n      <td>23.0</td>\\n      <td>Money Market</td>\\n    </tr>\\n    <tr>\\n      <th>28</th>\\n      <td>99994</td>\\n      <td>1966-01-01</td>\\n      <td>Female</td>\\n      <td>Unknown</td>\\n      <td>partner</td>\\n      <td>1962-01-01</td>\\n      <td>Money Market</td>\\n      <td>Female</td>\\n      <td>58</td>\\n      <td>62.0</td>\\n      <td>Money Market</td>\\n    </tr>\\n    <tr>\\n      <th>40</th>\\n      <td>99993</td>\\n      <td>1974-01-01</td>\\n      <td>Female</td>\\n      <td>NAIROBI</td>\\n      <td>partner</td>\\n      <td>1970-09-29</td>\\n      <td>Money Market</td>\\n      <td>Female</td>\\n      <td>50</td>\\n      <td>54.0</td>\\n      <td>Money Market</td>\\n    </tr>\\n    <tr>\\n      <th>70</th>\\n      <td>99993</td>\\n      <td>1974-01-01</td>\\n      <td>Female</td>\\n      <td>NAIROBI</td>\\n      <td>child</td>\\n      <td>1994-01-01</td>\\n      <td>Money Market</td>\\n      <td>Female</td>\\n      <td>50</td>\\n      <td>30.0</td>\\n      <td>Money Market</td>\\n    </tr>\\n  </tbody>\\n</table>\\n</div>', 'text/plain': '    member_no        dob  gender     town relationship beneficiery_dob  \\\\\\n0       99996 1998-04-06  Female  NAIROBI      partner      1998-01-26   \\n14      99996 1998-04-06  Female  NAIROBI      sibling      2001-03-04   \\n28      99994 1966-01-01  Female  Unknown      partner      1962-01-01   \\n40      99993 1974-01-01  Female  NAIROBI      partner      1970-09-29   \\n70      99993 1974-01-01  Female  NAIROBI        child      1994-01-01   \\n\\n       portfolio gender_mapped  member_age  beneficiery_age portfolio_map  \\n0   Money Market        Female          26             26.0  Money Market  \\n14  Money Market        Female          26             23.0  Money Market  \\n28  Money Market        Female          58             62.0  Money Market  \\n40  Money Market        Female          50             54.0  Money Market  \\n70  Money Market        Female          50             30.0  Money Market  '}, 'execution_count': 39, 'metadata': {}, 'output_type': 'execute_result'}], 'source': 'df.head()'}, {'cell_type': 'code', 'execution_count': 40, 'metadata': {}, 'outputs': [{'data': {'text/html': '<div>\\n<style scoped>\\n    .dataframe tbody tr th:only-of-type {\\n        vertical-align: middle;\\n    }\\n\\n    .dataframe tbody tr th {\\n        vertical-align: top;\\n    }\\n\\n    .dataframe thead th {\\n        text-align: right;\\n    }\\n</style>\\n<table border=\"1\" class=\"dataframe\">\\n  <thead>\\n    <tr style=\"text-align: right;\">\\n      <th></th>\\n      <th>member_no</th>\\n      <th>town</th>\\n      <th>relationship</th>\\n      <th>gender_mapped</th>\\n      <th>member_age</th>\\n      <th>beneficiery_age</th>\\n      <th>portfolio_map</th>\\n    </tr>\\n  </thead>\\n  <tbody>\\n    <tr>\\n      <th>0</th>\\n      <td>99996</td>\\n      <td>NAIROBI</td>\\n      <td>partner</td>\\n      <td>Female</td>\\n      <td>26</td>\\n      <td>26.0</td>\\n      <td>Money Market</td>\\n    </tr>\\n    <tr>\\n      <th>14</th>\\n      <td>99996</td>\\n      <td>NAIROBI</td>\\n      <td>sibling</td>\\n      <td>Female</td>\\n      <td>26</td>\\n      <td>23.0</td>\\n      <td>Money Market</td>\\n    </tr>\\n    <tr>\\n      <th>28</th>\\n      <td>99994</td>\\n      <td>Unknown</td>\\n      <td>partner</td>\\n      <td>Female</td>\\n      <td>58</td>\\n      <td>62.0</td>\\n      <td>Money Market</td>\\n    </tr>\\n    <tr>\\n      <th>40</th>\\n      <td>99993</td>\\n      <td>NAIROBI</td>\\n      <td>partner</td>\\n      <td>Female</td>\\n      <td>50</td>\\n      <td>54.0</td>\\n      <td>Money Market</td>\\n    </tr>\\n    <tr>\\n      <th>70</th>\\n      <td>99993</td>\\n      <td>NAIROBI</td>\\n      <td>child</td>\\n      <td>Female</td>\\n      <td>50</td>\\n      <td>30.0</td>\\n      <td>Money Market</td>\\n    </tr>\\n  </tbody>\\n</table>\\n</div>', 'text/plain': '    member_no     town relationship gender_mapped  member_age  \\\\\\n0       99996  NAIROBI      partner        Female          26   \\n14      99996  NAIROBI      sibling        Female          26   \\n28      99994  Unknown      partner        Female          58   \\n40      99993  NAIROBI      partner        Female          50   \\n70      99993  NAIROBI        child        Female          50   \\n\\n    beneficiery_age portfolio_map  \\n0              26.0  Money Market  \\n14             23.0  Money Market  \\n28             62.0  Money Market  \\n40             54.0  Money Market  \\n70             30.0  Money Market  '}, 'execution_count': 40, 'metadata': {}, 'output_type': 'execute_result'}], 'source': \"# Drop unnecessary columns ('dob', 'gender', 'portfolio', 'beneficiery_dob') from the dataframe\\nnew_df=df.drop(columns=['dob','gender','portfolio','beneficiery_dob'])\\nnew_df.head()\"}, {'cell_type': 'code', 'execution_count': 41, 'metadata': {}, 'outputs': [], 'source': \"#fill null values with the mode\\nnew_df['member_age'].fillna(new_df['member_age'].mode()[0], inplace=True)\\nnew_df['beneficiery_age'].fillna(new_df['beneficiery_age'].mode()[0], inplace=True)\"}, {'cell_type': 'code', 'execution_count': 42, 'metadata': {}, 'outputs': [], 'source': \"# Set reasonable age bounds\\nlower_bound = 0\\nupper_bound = 100\\n\\n# Create a copy of original ages for comparison if needed\\noriginal_ages = new_df['beneficiery_age'].copy()\\n\\n# Replace outliers by clipping to bounds\\nnew_df['beneficiery_age'] = new_df['beneficiery_age'].clip(lower=lower_bound, upper=upper_bound)\"}, {'cell_type': 'markdown', 'metadata': {}, 'source': '## DATA VISUALIZATION'}, {'cell_type': 'code', 'execution_count': 43, 'metadata': {}, 'outputs': [{'data': {'image/png': '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', 'text/plain': '<Figure size 720x432 with 1 Axes>'}, 'metadata': {'needs_background': 'light'}, 'output_type': 'display_data'}], 'source': \"average_age = new_df.groupby('portfolio_map')['member_age'].mean().reset_index()\\n\\nplt.figure(figsize=(10, 6))\\nsns.barplot(x='portfolio_map', y='member_age', data=average_age)\\nplt.title('Average Age by Portfolio Map')\\nplt.xlabel('Portfolio Map')\\nplt.ylabel('Average Age')\\nplt.show()\\n\"}, {'cell_type': 'markdown', 'metadata': {}, 'source': 'The output is a bar plot showing the average age for each portfolio type.\\nEach bar represents the average age of members who belong to that specific portfolio, allowing you to quickly compare the average ages across different portfolio categories.\\nThe resulting plot gives insights into the age distribution for each portfolio, highlighting which portfolios are associated with older or younger members.'}, {'cell_type': 'code', 'execution_count': 44, 'metadata': {}, 'outputs': [{'data': {'text/plain': \"Index(['member_no', 'town', 'relationship', 'gender_mapped', 'member_age',\\n       'beneficiery_age', 'portfolio_map'],\\n      dtype='object')\"}, 'execution_count': 44, 'metadata': {}, 'output_type': 'execute_result'}], 'source': '#check columns\\nnew_df.columns'}, {'cell_type': 'code', 'execution_count': 45, 'metadata': {}, 'outputs': [], 'source': \"#convert the cleaned data to csv\\nnew_df.to_csv('cleaned_data.csv', index=False)\"}, {'cell_type': 'code', 'execution_count': 46, 'metadata': {}, 'outputs': [{'name': 'stdout', 'output_type': 'stream', 'text': \"<class 'pandas.core.frame.DataFrame'>\\nInt64Index: 125888 entries, 0 to 7532842\\nData columns (total 7 columns):\\n #   Column           Non-Null Count   Dtype  \\n---  ------           --------------   -----  \\n 0   member_no        125888 non-null  int64  \\n 1   town             125888 non-null  object \\n 2   relationship     125888 non-null  object \\n 3   gender_mapped    125888 non-null  object \\n 4   member_age       125888 non-null  int64  \\n 5   beneficiery_age  125888 non-null  float64\\n 6   portfolio_map    125888 non-null  object \\ndtypes: float64(1), int64(2), object(4)\\nmemory usage: 7.7+ MB\\n\"}], 'source': '#inspecting the preprocessed dataframe\\nnew_df.info()'}, {'cell_type': 'code', 'execution_count': 47, 'metadata': {}, 'outputs': [{'data': {'image/png': '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', 'text/plain': '<Figure size 576x432 with 1 Axes>'}, 'metadata': {'needs_background': 'light'}, 'output_type': 'display_data'}], 'source': \"plt.figure(figsize=(8, 6))\\nsns.countplot(data=new_df, x='gender_mapped', palette='viridis')\\nplt.title('Male vs Female Count in Gender Mapped')\\nplt.xlabel('Gender')\\nplt.ylabel('Count')\\nplt.show()\"}, {'cell_type': 'markdown', 'metadata': {}, 'source': 'This plot gives a clear visual comparison of how many male and female entries are present in the dataset after the gender mapping process.\\nThe resulting plot allows for an easy comparison of the number of male versus female entries in the dataset, making it visually straightforward to assess gender distribution.'}, {'cell_type': 'code', 'execution_count': 48, 'metadata': {}, 'outputs': [{'data': {'image/png': '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', 'text/plain': '<Figure size 720x432 with 1 Axes>'}, 'metadata': {'needs_background': 'light'}, 'output_type': 'display_data'}], 'source': \"plt.figure(figsize=(10, 6))\\nsns.countplot(data=new_df, x='gender_mapped', hue='portfolio_map', palette='viridis')\\nplt.title('Gender vs Portfolio Map')\\nplt.xlabel('Gender')\\nplt.ylabel('Count')\\nplt.legend(title='Portfolio Map')\\nplt.show()\"}, {'cell_type': 'markdown', 'metadata': {}, 'source': 'This plot provides a clear visual comparison of how genders are distributed across different portfolio categories, helping to understand the intersection of gender and portfolio preferences. It allows you to see if certain portfolio types are more favored by one gender over the other or if the distribution is relatively balanced.'}, {'cell_type': 'code', 'execution_count': 49, 'metadata': {}, 'outputs': [{'data': {'image/png': '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', 'text/plain': '<Figure size 720x720 with 1 Axes>'}, 'metadata': {}, 'output_type': 'display_data'}], 'source': \"age_bins = [0, 18, 30, 45, 60, 100]\\nage_labels = ['0-18', '19-30', '31-45', '46-60', '60+']\\nnew_df['age_group'] = pd.cut(new_df['member_age'], bins=age_bins, labels=age_labels)\\nage_counts = new_df['age_group'].value_counts().sort_index()\\nplt.figure(figsize=(10, 10))\\nplt.pie(age_counts, labels=age_counts.index, autopct='%1.1f%%', startangle=140, colors=sns.color_palette('viridis'))\\nplt.title('Members Age Groups Distribution')\\nplt.show()\"}, {'cell_type': 'markdown', 'metadata': {}, 'source': 'Each segment of the pie chart represents one of these age groups.\\nThe size of each segment corresponds to the percentage of members that fall into each age group.\\nThe color palette viridis provides visually distinguishable colors for each segment.\\nThe autopct option displays the percentage of total members in each age group directly on the chart, making it easy to compare the distribution across groups.\\nThis pie chart provides a clear visual of the age distribution among the members, helping to identify which age groups are the most and least represented in the dataset.'}, {'cell_type': 'code', 'execution_count': 50, 'metadata': {}, 'outputs': [{'data': {'image/png': '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', 'text/plain': '<Figure size 720x432 with 1 Axes>'}, 'metadata': {'needs_background': 'light'}, 'output_type': 'display_data'}], 'source': \"top_10_towns = new_df['town'].value_counts().head(10)\\nplt.figure(figsize=(10, 6))\\nsns.barplot(x=top_10_towns.values, y=top_10_towns.index, palette='viridis')\\nplt.title('Top 10 Towns')\\nplt.xlabel('Count')\\nplt.ylabel('Town')\\nplt.show()\"}, {'cell_type': 'markdown', 'metadata': {}, 'source': 'overview of the most common towns in the dataset, highlighting their relative frequencies.'}, {'cell_type': 'markdown', 'metadata': {}, 'source': '## MODELING'}, {'cell_type': 'code', 'execution_count': 51, 'metadata': {}, 'outputs': [{'name': 'stdout', 'output_type': 'stream', 'text': \"<class 'pandas.core.frame.DataFrame'>\\nInt64Index: 125888 entries, 0 to 7532842\\nData columns (total 8 columns):\\n #   Column           Non-Null Count   Dtype   \\n---  ------           --------------   -----   \\n 0   member_no        125888 non-null  int64   \\n 1   town             125888 non-null  object  \\n 2   relationship     125888 non-null  object  \\n 3   gender_mapped    125888 non-null  object  \\n 4   member_age       125888 non-null  int64   \\n 5   beneficiery_age  125888 non-null  float64 \\n 6   portfolio_map    125888 non-null  object  \\n 7   age_group        125808 non-null  category\\ndtypes: category(1), float64(1), int64(2), object(4)\\nmemory usage: 12.8+ MB\\n\"}], 'source': '#inspect the new_df\\nnew_df.info()'}, {'cell_type': 'code', 'execution_count': 52, 'metadata': {}, 'outputs': [{'data': {'text/html': '<div>\\n<style scoped>\\n    .dataframe tbody tr th:only-of-type {\\n        vertical-align: middle;\\n    }\\n\\n    .dataframe tbody tr th {\\n        vertical-align: top;\\n    }\\n\\n    .dataframe thead th {\\n        text-align: right;\\n    }\\n</style>\\n<table border=\"1\" class=\"dataframe\">\\n  <thead>\\n    <tr style=\"text-align: right;\">\\n      <th></th>\\n      <th>member_no</th>\\n      <th>town</th>\\n      <th>relationship</th>\\n      <th>gender_mapped</th>\\n      <th>member_age</th>\\n      <th>beneficiery_age</th>\\n      <th>portfolio_map</th>\\n      <th>age_group</th>\\n    </tr>\\n  </thead>\\n  <tbody>\\n    <tr>\\n      <th>0</th>\\n      <td>99996</td>\\n      <td>NAIROBI</td>\\n      <td>partner</td>\\n      <td>Female</td>\\n      <td>26</td>\\n      <td>26.0</td>\\n      <td>Money Market</td>\\n      <td>19-30</td>\\n    </tr>\\n    <tr>\\n      <th>14</th>\\n      <td>99996</td>\\n      <td>NAIROBI</td>\\n      <td>sibling</td>\\n      <td>Female</td>\\n      <td>26</td>\\n      <td>23.0</td>\\n      <td>Money Market</td>\\n      <td>19-30</td>\\n    </tr>\\n    <tr>\\n      <th>28</th>\\n      <td>99994</td>\\n      <td>Unknown</td>\\n      <td>partner</td>\\n      <td>Female</td>\\n      <td>58</td>\\n      <td>62.0</td>\\n      <td>Money Market</td>\\n      <td>46-60</td>\\n    </tr>\\n    <tr>\\n      <th>40</th>\\n      <td>99993</td>\\n      <td>NAIROBI</td>\\n      <td>partner</td>\\n      <td>Female</td>\\n      <td>50</td>\\n      <td>54.0</td>\\n      <td>Money Market</td>\\n      <td>46-60</td>\\n    </tr>\\n    <tr>\\n      <th>70</th>\\n      <td>99993</td>\\n      <td>NAIROBI</td>\\n      <td>child</td>\\n      <td>Female</td>\\n      <td>50</td>\\n      <td>30.0</td>\\n      <td>Money Market</td>\\n      <td>46-60</td>\\n    </tr>\\n  </tbody>\\n</table>\\n</div>', 'text/plain': '    member_no     town relationship gender_mapped  member_age  \\\\\\n0       99996  NAIROBI      partner        Female          26   \\n14      99996  NAIROBI      sibling        Female          26   \\n28      99994  Unknown      partner        Female          58   \\n40      99993  NAIROBI      partner        Female          50   \\n70      99993  NAIROBI        child        Female          50   \\n\\n    beneficiery_age portfolio_map age_group  \\n0              26.0  Money Market     19-30  \\n14             23.0  Money Market     19-30  \\n28             62.0  Money Market     46-60  \\n40             54.0  Money Market     46-60  \\n70             30.0  Money Market     46-60  '}, 'execution_count': 52, 'metadata': {}, 'output_type': 'execute_result'}], 'source': '#check the first entries in the dataframe\\nnew_df.head()'}, {'cell_type': 'code', 'execution_count': 53, 'metadata': {}, 'outputs': [{'name': 'stderr', 'output_type': 'stream', 'text': \"<ipython-input-53-c464198fbbef>:5: SettingWithCopyWarning: \\nA value is trying to be set on a copy of a slice from a DataFrame.\\nTry using .loc[row_indexer,col_indexer] = value instead\\n\\nSee the caveats in the documentation: https://pandas.pydata.org/pandas-docs/stable/user_guide/indexing.html#returning-a-view-versus-a-copy\\n  X['features'] = X.astype(str).sum(axis=1)\\n\"}], 'source': \"\\n# Create a feature matrix combining the relevant columns\\nX = new_df[['member_age', 'beneficiery_age', 'age_group', 'gender_mapped']]\\n\\n# Convert the feature columns to a single string for each row\\nX['features'] = X.astype(str).sum(axis=1)\\n\\n# Create a TF-IDF matrix from the features\\ntfidf = TfidfVectorizer(max_features=1000)\\nX_tfidf = tfidf.fit_transform(X['features'])\\n\\n# Split the data into training and test sets\\nX_train, X_test, y_train, y_test = train_test_split(X_tfidf, new_df['portfolio_map'], test_size=0.2, random_state=42)\\n\\n\\n\"}, {'cell_type': 'code', 'execution_count': 54, 'metadata': {}, 'outputs': [{'data': {'text/html': '<style>#sk-container-id-1 {color: black;}#sk-container-id-1 pre{padding: 0;}#sk-container-id-1 div.sk-toggleable {background-color: white;}#sk-container-id-1 label.sk-toggleable__label {cursor: pointer;display: block;width: 100%;margin-bottom: 0;padding: 0.3em;box-sizing: border-box;text-align: center;}#sk-container-id-1 label.sk-toggleable__label-arrow:before {content: \"▸\";float: left;margin-right: 0.25em;color: #696969;}#sk-container-id-1 label.sk-toggleable__label-arrow:hover:before {color: black;}#sk-container-id-1 div.sk-estimator:hover label.sk-toggleable__label-arrow:before {color: black;}#sk-container-id-1 div.sk-toggleable__content {max-height: 0;max-width: 0;overflow: hidden;text-align: left;background-color: #f0f8ff;}#sk-container-id-1 div.sk-toggleable__content pre {margin: 0.2em;color: black;border-radius: 0.25em;background-color: #f0f8ff;}#sk-container-id-1 input.sk-toggleable__control:checked~div.sk-toggleable__content {max-height: 200px;max-width: 100%;overflow: auto;}#sk-container-id-1 input.sk-toggleable__control:checked~label.sk-toggleable__label-arrow:before {content: \"▾\";}#sk-container-id-1 div.sk-estimator input.sk-toggleable__control:checked~label.sk-toggleable__label {background-color: #d4ebff;}#sk-container-id-1 div.sk-label input.sk-toggleable__control:checked~label.sk-toggleable__label {background-color: #d4ebff;}#sk-container-id-1 input.sk-hidden--visually {border: 0;clip: rect(1px 1px 1px 1px);clip: rect(1px, 1px, 1px, 1px);height: 1px;margin: -1px;overflow: hidden;padding: 0;position: absolute;width: 1px;}#sk-container-id-1 div.sk-estimator {font-family: monospace;background-color: #f0f8ff;border: 1px dotted black;border-radius: 0.25em;box-sizing: border-box;margin-bottom: 0.5em;}#sk-container-id-1 div.sk-estimator:hover {background-color: #d4ebff;}#sk-container-id-1 div.sk-parallel-item::after {content: \"\";width: 100%;border-bottom: 1px solid gray;flex-grow: 1;}#sk-container-id-1 div.sk-label:hover label.sk-toggleable__label {background-color: #d4ebff;}#sk-container-id-1 div.sk-serial::before {content: \"\";position: absolute;border-left: 1px solid gray;box-sizing: border-box;top: 0;bottom: 0;left: 50%;z-index: 0;}#sk-container-id-1 div.sk-serial {display: flex;flex-direction: column;align-items: center;background-color: white;padding-right: 0.2em;padding-left: 0.2em;position: relative;}#sk-container-id-1 div.sk-item {position: relative;z-index: 1;}#sk-container-id-1 div.sk-parallel {display: flex;align-items: stretch;justify-content: center;background-color: white;position: relative;}#sk-container-id-1 div.sk-item::before, #sk-container-id-1 div.sk-parallel-item::before {content: \"\";position: absolute;border-left: 1px solid gray;box-sizing: border-box;top: 0;bottom: 0;left: 50%;z-index: -1;}#sk-container-id-1 div.sk-parallel-item {display: flex;flex-direction: column;z-index: 1;position: relative;background-color: white;}#sk-container-id-1 div.sk-parallel-item:first-child::after {align-self: flex-end;width: 50%;}#sk-container-id-1 div.sk-parallel-item:last-child::after {align-self: flex-start;width: 50%;}#sk-container-id-1 div.sk-parallel-item:only-child::after {width: 0;}#sk-container-id-1 div.sk-dashed-wrapped {border: 1px dashed gray;margin: 0 0.4em 0.5em 0.4em;box-sizing: border-box;padding-bottom: 0.4em;background-color: white;}#sk-container-id-1 div.sk-label label {font-family: monospace;font-weight: bold;display: inline-block;line-height: 1.2em;}#sk-container-id-1 div.sk-label-container {text-align: center;}#sk-container-id-1 div.sk-container {/* jupyter\\'s `normalize.less` sets `[hidden] { display: none; }` but bootstrap.min.css set `[hidden] { display: none !important; }` so we also need the `!important` here to be able to override the default hidden behavior on the sphinx rendered scikit-learn.org. See: https://github.com/scikit-learn/scikit-learn/issues/21755 */display: inline-block !important;position: relative;}#sk-container-id-1 div.sk-text-repr-fallback {display: none;}</style><div id=\"sk-container-id-1\" class=\"sk-top-container\"><div class=\"sk-text-repr-fallback\"><pre>NearestNeighbors(algorithm=&#x27;brute&#x27;, metric=&#x27;cosine&#x27;)</pre><b>In a Jupyter environment, please rerun this cell to show the HTML representation or trust the notebook. <br />On GitHub, the HTML representation is unable to render, please try loading this page with nbviewer.org.</b></div><div class=\"sk-container\" hidden><div class=\"sk-item\"><div class=\"sk-estimator sk-toggleable\"><input class=\"sk-toggleable__control sk-hidden--visually\" id=\"sk-estimator-id-1\" type=\"checkbox\" checked><label for=\"sk-estimator-id-1\" class=\"sk-toggleable__label sk-toggleable__label-arrow\">NearestNeighbors</label><div class=\"sk-toggleable__content\"><pre>NearestNeighbors(algorithm=&#x27;brute&#x27;, metric=&#x27;cosine&#x27;)</pre></div></div></div></div></div>', 'text/plain': \"NearestNeighbors(algorithm='brute', metric='cosine')\"}, 'execution_count': 54, 'metadata': {}, 'output_type': 'execute_result'}], 'source': \"# Train the Nearest Neighbors model\\nmodel = NearestNeighbors(metric='cosine', algorithm='brute')\\nmodel.fit(X_train)\\n\\n\"}, {'cell_type': 'code', 'execution_count': 55, 'metadata': {}, 'outputs': [], 'source': \"def get_recommendations(member_features, n=5):\\n    # Get distances and indices of the nearest neighbors\\n    distances, indices = model.kneighbors(member_features, n_neighbors=n+1)\\n    \\n    # Retrieve the original portfolio information from `new_df` using indices\\n    # Exclude the first column of `indices` since it's the item itself\\n    recommended_portfolios = new_df.iloc[indices[0, 1:]]['portfolio_map'].tolist()\\n    \\n    return recommended_portfolios\"}, {'cell_type': 'code', 'execution_count': None, 'metadata': {}, 'outputs': [], 'source': '\\n# Make predictions on the test set\\ny_pred = []\\nfor i in range(X_test.shape[0]):\\n    member = X_test[i].toarray()\\n    recommendations = get_recommendations(member.reshape(1, -1), n=1)\\n    y_pred.append(recommendations[0])  # Get the top recommendation\\n\\n# Calculate accuracy by comparing the predicted product to the actual product\\naccuracy = accuracy_score(y_test, y_pred)\\n\\nprint(f\"Accuracy: {accuracy:.2f}\")\\n'}, {'cell_type': 'markdown', 'metadata': {}, 'source': 'RULE BASED ADDED'}, {'cell_type': 'code', 'execution_count': None, 'metadata': {}, 'outputs': [], 'source': 'def get_recommendations(member_features, member_no, n=5):\\n    # Fetch member\\'s details\\n    member_row = new_df.loc[new_df[\\'member_no\\'] == member_no].iloc[0]\\n    member_beneficiary_age = member_row[\\'beneficiery_age\\']\\n    member_age_group = member_row[\\'age_group\\']\\n    member_town = member_row[\\'town\\']\\n    member_gender = member_row[\\'gender_mapped\\']\\n    member_current_products = set(new_df.loc[new_df[\\'member_no\\'] == member_no, \\'portfolio_map\\'].values)\\n    \\n    recommended_products = []\\n\\n    # Rule 1: Recommend based on beneficiary age (Student and Junior Accounts)\\n    #if 18 <= member_beneficiary_age <= 25:\\n    if  member_beneficiary_age >= 18 and  member_beneficiary_age <= 25:\\n        recommended_products.append(\"Student Account\")\\n    elif member_beneficiary_age < 18:\\n        recommended_products.append(\"Junior Account\")\\n\\n    # Rule 2: Recommend popular products within the same age group\\n    age_group_products = (\\n        new_df[new_df[\\'age_group\\'] == member_age_group]\\n        .portfolio_map.value_counts()\\n        .index\\n        .tolist()\\n    )\\n    for product in age_group_products:\\n        if product not in member_current_products and product not in recommended_products:\\n            recommended_products.append(product)\\n        if len(recommended_products) >= n:\\n            return recommended_products[:n]\\n\\n    # Rule 3: Recommend popular products in the same town\\n    town_products = (\\n        new_df[new_df[\\'town\\'] == member_town]\\n        .portfolio_map.value_counts()\\n        .index\\n        .tolist()\\n    )\\n    for product in town_products:\\n        if product not in member_current_products and product not in recommended_products:\\n            recommended_products.append(product)\\n        if len(recommended_products) >= n:\\n            return recommended_products[:n]\\n        \\n    gender_products = (\\n        new_df[new_df[\\'gender_mapped\\']== member_gender]\\n        .portfolio_map.value_counts()\\n        .index\\n        .tolist()\\n    )\\n    for product in gender_products:\\n        if product not in member_current_products and product not in recommended_products:\\n            recommended_products.append(product)\\n        if len(recommended_products) >= n:\\n            return recommended_products[:n]\\n\\n    # Collaborative Filtering for Additional Recommendations\\n    distances, indices = model.kneighbors(member_features, n_neighbors=n + len(recommended_products))\\n    for index in indices[0]:\\n        product = new_df.iloc[index][\\'portfolio_map\\']\\n        if product not in member_current_products and product not in recommended_products:\\n            recommended_products.append(product)\\n        if len(recommended_products) >= n:\\n            break\\n\\n    return recommended_products[:n]\\n'}, {'cell_type': 'code', 'execution_count': None, 'metadata': {}, 'outputs': [], 'source': 'new_df.columns'}, {'cell_type': 'code', 'execution_count': None, 'metadata': {}, 'outputs': [], 'source': '# Test the recommendations for a sample member\\nsample_index = 0  # Adjust the sample index for testing\\nsample_member = X_test[sample_index].toarray()\\nsample_member_id = new_df.iloc[sample_index][\\'member_no\\']  # Ensure \\'member_id\\' is in new_df\\n\\n# Get recommendations for the sample member\\nrecommendations = get_recommendations(sample_member.reshape(1, -1), sample_member_id, n=3)\\n\\n# Display the results\\nprint(\"Recommendations for sample member profile:\")\\nprint(recommendations)'}, {'cell_type': 'code', 'execution_count': None, 'metadata': {}, 'outputs': [], 'source': '# Test the recommendations for a sample member\\nsample_index = 20\\nsample_member = X_test[sample_index].toarray()\\nsample_member_id = new_df.iloc[sample_index][\\'member_no\\']  \\n\\n# Get recommendations for the sample member\\nrecommendations = get_recommendations(sample_member.reshape(1, -1), sample_member_id, n=3)\\n\\n# Display the results\\nprint(\"Recommendations for sample member profile:\")\\nprint(recommendations)'}, {'cell_type': 'code', 'execution_count': None, 'metadata': {}, 'outputs': [], 'source': 'def get_recommendations_with_messages(member_features, member_no, n=5):\\n    # Fetch member\\'s details\\n    member_row = new_df.loc[new_df[\\'member_no\\'] == member_no].iloc[0]\\n    member_beneficiary_age = member_row[\\'beneficiery_age\\']\\n    member_age_group = member_row[\\'age_group\\']\\n    member_town = member_row[\\'town\\']\\n    member_gender = member_row[\\'gender_mapped\\']\\n    member_current_products = set(new_df.loc[new_df[\\'member_no\\'] == member_no, \\'portfolio_map\\'].values)\\n    \\n    recommended_products = []\\n    messages = []\\n\\n    # Rule 1: Recommend based on beneficiary age (Student and Junior Accounts)\\n    age_recommendations = []\\n    if  member_beneficiary_age >= 18 and  member_beneficiary_age <= 25:\\n        age_recommendations.append(\"Student Account\")\\n        messages.append(\\n            f\"Planning for your child\\'s future? Our Student Account is perfect for young adults aged 18-25. \"\\n            f\"Start securing their educational journey today!\"\\n        )\\n    elif  member_beneficiary_age < 18:\\n        age_recommendations.append(\"Junior Account\")\\n        messages.append(\\n            f\"Give your child a head start with our Junior Account! It\\'s specially designed for children under 18 \"\\n            f\"to help them develop good financial habits early.\"\\n        )\\n    recommended_products.extend(age_recommendations)\\n\\n    # Rule 2: Recommend popular products within the same age group\\n    age_group_recommendations = []\\n    age_group_products = (\\n        new_df[new_df[\\'age_group\\'] == member_age_group]\\n        .portfolio_map.value_counts()\\n        .index\\n        .tolist()\\n    )\\n    for product in age_group_products:\\n        if product not in member_current_products and product not in recommended_products:\\n            age_group_recommendations.append(product)\\n        if len(recommended_products) + len(age_group_recommendations) >= n:\\n            break\\n    \\n    if age_group_recommendations:\\n        messages.append(\\n            f\"Members in your age group are enjoying these popular products: {\\', \\'.join(age_group_recommendations)}. \"\\n            f\"Join them in making smart financial choices!\"\\n        )\\n    recommended_products.extend(age_group_recommendations)\\n\\n    # Rule 3: Recommend popular products in the same town\\n    location_recommendations = []\\n    town_products = (\\n        new_df[new_df[\\'town\\'] == member_town]\\n        .portfolio_map.value_counts()\\n        .index\\n        .tolist()\\n    )\\n    for product in town_products:\\n        if product not in member_current_products and product not in recommended_products:\\n            location_recommendations.append(product)\\n        if len(recommended_products) + len(location_recommendations) >= n:\\n            break\\n    \\n    if location_recommendations:\\n        messages.append(\\n            f\"Trending in {member_town}! Your neighbors are choosing {\\', \\'.join(location_recommendations)}. \"\\n            f\"Discover why these products are popular in your community!\"\\n        )\\n    recommended_products.extend(location_recommendations)\\n\\n    # Rule 4: Gender-based recommendations\\n    gender_recommendations = []\\n    gender_products = (\\n        new_df[new_df[\\'gender_mapped\\'] == member_gender]\\n        .portfolio_map.value_counts()\\n        .index\\n        .tolist()\\n    )\\n    for product in gender_products:\\n        if product not in member_current_products and product not in recommended_products:\\n            gender_recommendations.append(product)\\n        if len(recommended_products) + len(gender_recommendations) >= n:\\n            break\\n    \\n    if gender_recommendations:\\n        gender_message = (\\n            \"Specially curated for you! \" if member_gender == \\'Female\\' else\\n            \"Join other members like you! \"\\n        )\\n        messages.append(\\n            f\"{gender_message}Discover {\\', \\'.join(gender_recommendations)} - \"\\n            f\"products that match your financial goals.\"\\n        )\\n    recommended_products.extend(gender_recommendations)\\n    # Collaborative Filtering for Additional Recommendations\\n    if len(recommended_products) < n:\\n        collab_recommendations = []\\n        distances, indices = model.kneighbors(member_features, n_neighbors=n + len(recommended_products))\\n        for index in indices[0]:\\n            product = new_df.iloc[index][\\'portfolio_map\\']\\n            if product not in member_current_products and product not in recommended_products:\\n                collab_recommendations.append(product)\\n            if len(recommended_products) + len(collab_recommendations) >= n:\\n                break\\n        \\n        if collab_recommendations:\\n            messages.append(\\n                f\"Based on your profile, we think you\\'ll love {\\', \\'.join(collab_recommendations)}. \"\\n                f\"These products align perfectly with your financial journey!\"\\n            )\\n        recommended_products.extend(collab_recommendations)\\n\\n    # Final personalized message\\n    if len(recommended_products) > 0:\\n        messages.append(\\n            f\"💡 Pro tip: Adding {\\', \\'.join(recommended_products[:n])} to your portfolio \"\\n            f\"could help you achieve your financial goals faster!\"\\n        )\\n\\n    return recommended_products[:n], messages'}, {'cell_type': 'code', 'execution_count': None, 'metadata': {}, 'outputs': [], 'source': '# Test the recommendations for a sample member\\nsample_index = 3464  # Adjust the sample index for testing\\nsample_member = X_test[sample_index].toarray()\\nsample_member_id = new_df.iloc[sample_index][\\'member_no\\']  # Ensure \\'member_id\\' is in new_df\\n\\n# Get recommendations and messages for the sample member\\nrecommendations, messages = get_recommendations_with_messages(sample_member.reshape(1, -1), sample_member_id, n=3)\\n\\n# Display the results\\nprint(\"\\\\n🏦 Member Profile Analysis\")\\nprint(\"-\" * 50)\\nprint(f\"Member ID: {sample_member_id}\")\\nmember_details = new_df.loc[new_df[\\'member_no\\'] == sample_member_id].iloc[0]\\nprint(f\"Age Group: {member_details[\\'age_group\\']}\")\\nprint(f\"Town: {member_details[\\'town\\']}\")\\nprint(f\"Gender: {member_details[\\'gender_mapped\\']}\")\\nif not pd.isna(member_details[\\'beneficiery_age\\']):\\n    print(f\"Beneficiary Age: {member_details[\\'beneficiery_age\\']}\")\\n\\nprint(\"\\\\n📊 Recommended Products\")\\nprint(\"-\" * 50)\\nfor i, product in enumerate(recommendations, 1):\\n    print(f\"{i}. {product}\")\\n\\nprint(\"\\\\n💌 Personalized Messages\")\\nprint(\"-\" * 50)\\nfor i, message in enumerate(messages, 1):\\n    print(f\"Message {i}:\")\\n    print(f\"{message}\")\\n    print()\\n\\n# Optional: Display current products for comparison\\ncurrent_products = set(new_df.loc[new_df[\\'member_no\\'] == sample_member_id, \\'portfolio_map\\'].values)\\nif current_products:\\n    print(\"\\\\n📝 Current Portfolio\")\\n    print(\"-\" * 50)\\n    for product in current_products:\\n        print(f\"• {product}\")'}, {'cell_type': 'code', 'execution_count': None, 'metadata': {}, 'outputs': [], 'source': '# Test the recommendations for a sample member\\nsample_index = 9  # Adjust the sample index for testing\\nsample_member = X_test[sample_index].toarray()\\nsample_member_id = new_df.iloc[sample_index][\\'member_no\\']  # Ensure \\'member_id\\' is in new_df\\n\\n# Get recommendations and messages for the sample member\\nrecommendations, messages = get_recommendations_with_messages(sample_member.reshape(1, -1), sample_member_id, n=3)\\n\\n# Display the results\\nprint(\"\\\\n🏦 Member Profile Analysis\")\\nprint(\"-\" * 50)\\nprint(f\"Member ID: {sample_member_id}\")\\nmember_details = new_df.loc[new_df[\\'member_no\\'] == sample_member_id].iloc[0]\\nprint(f\"Age Group: {member_details[\\'age_group\\']}\")\\nprint(f\"Town: {member_details[\\'town\\']}\")\\nprint(f\"Gender: {member_details[\\'gender_mapped\\']}\")\\nif not pd.isna(member_details[\\'beneficiery_age\\']):\\n    print(f\"Beneficiary Age: {member_details[\\'beneficiery_age\\']}\")\\n\\nprint(\"\\\\n📊 Recommended Products\")\\nprint(\"-\" * 50)\\nfor i, product in enumerate(recommendations, 1):\\n    print(f\"{i}. {product}\")\\n\\nprint(\"\\\\n💌 Personalized Messages\")\\nprint(\"-\" * 50)\\nfor i, message in enumerate(messages, 1):\\n    print(f\"Message {i}:\")\\n    print(f\"{message}\")\\n    print()\\n\\n# Optional: Display current products for comparison\\ncurrent_products = set(new_df.loc[new_df[\\'member_no\\'] == sample_member_id, \\'portfolio_map\\'].values)\\nif current_products:\\n    print(\"\\\\n📝 Current Portfolio\")\\n    print(\"-\" * 50)\\n    for product in current_products:\\n        print(f\"• {product}\")'}, {'cell_type': 'code', 'execution_count': None, 'metadata': {}, 'outputs': [], 'source': 'new_df.head()'}, {'cell_type': 'code', 'execution_count': None, 'metadata': {}, 'outputs': [], 'source': 'import nbformat\\nimport pickle\\n\\n# Define the notebook filename\\nnotebook_filename = \\'Investment Product Cross Selling Collins.ipynb\\'\\n\\ntry:\\n    # Step 1: Read the notebook content using nbformat with UTF-8 encoding\\n    with open(notebook_filename, \\'r\\', encoding=\\'utf-8\\') as f:\\n        notebook_content = nbformat.read(f, as_version=4)\\n\\n    # Step 2: Pickle the notebook content\\n    with open(\\'Investment_Product_Cross_Selling_notebook.pkl\\', \\'wb\\') as f:\\n        pickle.dump(notebook_content, f)\\n\\n    print(\"Notebook content has been pickled successfully.\")\\n\\nexcept FileNotFoundError:\\n    print(f\"Error: The file \\'{notebook_filename}\\' was not found. Please ensure the file is in the current directory and that the filename is correct.\")'}, {'cell_type': 'code', 'execution_count': None, 'metadata': {}, 'outputs': [], 'source': '# #saving the notebook as a pickle file\\n# import nbformat\\n# import pickle\\n\\n# # Define the notebook filename\\n# notebook_filename = \\'Investment Product Cross Selling(1).ipynb\\'\\n\\n# # Read the notebook content using nbformat with UTF-8 encoding\\n# with open(notebook_filename, \\'r\\', encoding=\\'utf-8\\') as f:\\n#     notebook_content = nbformat.read(f, as_version=4)\\n\\n# # Pickle the notebook content\\n# with open(\\'Investment_Product_Cross_Selling_notebook.pkl\\', \\'wb\\') as f:\\n#     pickle.dump(notebook_content, f)\\n\\n# print(\"Notebook content has been pickled successfully.\")\\n'}, {'cell_type': 'code', 'execution_count': None, 'metadata': {}, 'outputs': [], 'source': \"#error checking\\n# Load the pickled notebook content\\nwith open('Investment_Product_Cross_Selling_notebook.pkl', 'rb') as f:\\n    loaded_notebook = pickle.load(f)\\n\\n# Check the loaded content\\nprint(loaded_notebook)\\n\"}, {'cell_type': 'code', 'execution_count': None, 'metadata': {}, 'outputs': [], 'source': '# import gdown\\n\\n# file_id = \"1kLQZcXQ1y4AGlgpRGArXoWPvLdzpq7nK\"\\n# url = f\"https://drive.google.com/uc?id={file_id}\"\\n# output = \"single_member.csv\"\\n# gdown.download(url, output, quiet=False)\\n\\n# import pandas as pd\\n# data = pd.read_csv(output)'}, {'cell_type': 'code', 'execution_count': None, 'metadata': {}, 'outputs': [], 'source': \"# 3. Save both the trained model and TF-IDF vectorizer\\nimport pickle\\n\\n# Save the NearestNeighbors model\\nwith open('model.pkl', 'wb') as file:\\n    pickle.dump(model, file)\\n\\n# Save the TF-IDF vectorizer\\nwith open('tfidf.pkl', 'wb') as file:\\n    pickle.dump(tfidf, file)\\n\"}, {'cell_type': 'code', 'execution_count': None, 'metadata': {}, 'outputs': [], 'source': \"# Save the reference dataset for rule-based recommendations\\nnew_df.to_csv('investment_member.csv', index=False)\"}], 'metadata': {'kernelspec': {'display_name': 'learn-env', 'language': 'python', 'name': 'python3'}, 'language_info': {'codemirror_mode': {'name': 'ipython', 'version': 3}, 'file_extension': '.py', 'mimetype': 'text/x-python', 'name': 'python', 'nbconvert_exporter': 'python', 'pygments_lexer': 'ipython3', 'version': '3.8.5'}}, 'nbformat': 4, 'nbformat_minor': 4}\n"
     ]
    }
   ],
   "source": [
    "#error checking\n",
    "# Load the pickled notebook content\n",
    "with open('Investment_Product_Cross_Selling_notebook.pkl', 'rb') as f:\n",
    "    loaded_notebook = pickle.load(f)\n",
    "\n",
    "# Check the loaded content\n",
    "print(loaded_notebook)\n"
   ]
  },
  {
   "cell_type": "code",
   "execution_count": 68,
   "metadata": {},
   "outputs": [],
   "source": [
    "# import gdown\n",
    "\n",
    "# file_id = \"1kLQZcXQ1y4AGlgpRGArXoWPvLdzpq7nK\"\n",
    "# url = f\"https://drive.google.com/uc?id={file_id}\"\n",
    "# output = \"single_member.csv\"\n",
    "# gdown.download(url, output, quiet=False)\n",
    "\n",
    "# import pandas as pd\n",
    "# data = pd.read_csv(output)"
   ]
  },
  {
   "cell_type": "code",
   "execution_count": 69,
   "metadata": {},
   "outputs": [],
   "source": [
    "# 3. Save both the trained model and TF-IDF vectorizer\n",
    "import pickle\n",
    "\n",
    "# Save the NearestNeighbors model\n",
    "with open('model.pkl', 'wb') as file:\n",
    "    pickle.dump(model, file)\n",
    "\n",
    "# Save the TF-IDF vectorizer\n",
    "with open('tfidf.pkl', 'wb') as file:\n",
    "    pickle.dump(tfidf, file)\n"
   ]
  },
  {
   "cell_type": "code",
   "execution_count": 70,
   "metadata": {},
   "outputs": [],
   "source": [
    "# Save the reference dataset for rule-based recommendations\n",
    "new_df.to_csv('investment_member.csv', index=False)"
   ]
  }
 ],
 "metadata": {
  "kernelspec": {
   "display_name": "learn-env",
   "language": "python",
   "name": "python3"
  },
  "language_info": {
   "codemirror_mode": {
    "name": "ipython",
    "version": 3
   },
   "file_extension": ".py",
   "mimetype": "text/x-python",
   "name": "python",
   "nbconvert_exporter": "python",
   "pygments_lexer": "ipython3",
   "version": "3.8.5"
  }
 },
 "nbformat": 4,
 "nbformat_minor": 4
}
